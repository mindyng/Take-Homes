{
 "cells": [
  {
   "cell_type": "code",
   "execution_count": 1,
   "id": "20c65712",
   "metadata": {
    "_cell_guid": "b1076dfc-b9ad-4769-8c92-a6c4dae69d19",
    "_uuid": "8f2839f25d086af736a60e9eeb907d3b93b6e0e5",
    "execution": {
     "iopub.execute_input": "2023-04-08T22:50:35.013867Z",
     "iopub.status.busy": "2023-04-08T22:50:35.013465Z",
     "iopub.status.idle": "2023-04-08T22:50:36.069609Z",
     "shell.execute_reply": "2023-04-08T22:50:36.068562Z"
    },
    "papermill": {
     "duration": 1.065878,
     "end_time": "2023-04-08T22:50:36.072375",
     "exception": false,
     "start_time": "2023-04-08T22:50:35.006497",
     "status": "completed"
    },
    "tags": []
   },
   "outputs": [],
   "source": [
    "# data analysis and wrangling\n",
    "import numpy as np\n",
    "import pandas as pd\n",
    "\n",
    "# visualization\n",
    "import seaborn as sns\n",
    "import matplotlib.pyplot as plt\n",
    "%matplotlib inline"
   ]
  },
  {
   "cell_type": "code",
   "execution_count": 2,
   "id": "0d7b7930",
   "metadata": {
    "execution": {
     "iopub.execute_input": "2023-04-08T22:50:36.083473Z",
     "iopub.status.busy": "2023-04-08T22:50:36.083023Z",
     "iopub.status.idle": "2023-04-08T22:50:36.088122Z",
     "shell.execute_reply": "2023-04-08T22:50:36.086772Z"
    },
    "papermill": {
     "duration": 0.013263,
     "end_time": "2023-04-08T22:50:36.090364",
     "exception": false,
     "start_time": "2023-04-08T22:50:36.077101",
     "status": "completed"
    },
    "tags": []
   },
   "outputs": [],
   "source": [
    "# from wand.image import Image as WImage\n",
    "# img = WImage(filename='/kaggle/input/welocalize/Welocalize - Assessment Instructions.pdf')\n",
    "# img"
   ]
  },
  {
   "cell_type": "markdown",
   "id": "67030b05",
   "metadata": {
    "papermill": {
     "duration": 0.00398,
     "end_time": "2023-04-08T22:50:36.098861",
     "exception": false,
     "start_time": "2023-04-08T22:50:36.094881",
     "status": "completed"
    },
    "tags": []
   },
   "source": [
    "# Assessment Criteria:\n",
    "Testing your: \n",
    "- [ ] creativity\n",
    "- [ ] analytics fundamentals\n",
    "- [ ] technical knowledge\n",
    "- [ ] communication\n",
    "- [ ] connecting data to people/processes/business outcomes\n",
    "\n",
    "1. How I create insights\n",
    "2. How I communicate insights\n",
    "3. Questions I ask Kevin/stakeholders before heading into analysis"
   ]
  },
  {
   "cell_type": "markdown",
   "id": "ee4ca8c7",
   "metadata": {
    "papermill": {
     "duration": 0.004025,
     "end_time": "2023-04-08T22:50:36.107090",
     "exception": false,
     "start_time": "2023-04-08T22:50:36.103065",
     "status": "completed"
    },
    "tags": []
   },
   "source": [
    "# Problem:\n",
    "\n",
    "* Interested in understanding how frequently we deliver to our customers on time, vs. how frequently we are late.\n",
    "* What factors contribute to our on-time delivery (OTD) rates. --correlations\n",
    "* And how we can do better at delivering on time? --theoretically and what data provides as delivery failure activity\n",
    "* Also interested to know what other insights you can derive from this data (not necessarily related to OTD rates). --looking at translation service's main KPI's and what what provided data can answer other than delivery time; look at competitors' case studies"
   ]
  },
  {
   "cell_type": "markdown",
   "id": "9cba18bc",
   "metadata": {
    "papermill": {
     "duration": 0.004158,
     "end_time": "2023-04-08T22:50:36.116163",
     "exception": false,
     "start_time": "2023-04-08T22:50:36.112005",
     "status": "completed"
    },
    "tags": []
   },
   "source": [
    "## Context around Problem:\n",
    "    \n",
    "* Why is this problem being investigated:\n",
    "\n",
    "At times, Welocalize has put a lot of focus/effort onto <font color='red'>client retention and satisfaction</font>. And we've heard from clients that <font color='red'>worse-than-expected on-time delivery rates</font> is one of the biggest things that makes them dissatisfied.\n",
    "\n",
    "* Company threshold for what is an alarming rate of tardy deliverables:\n",
    "\n",
    "It varies by customer and by program, but the great majority of customers expect <font color='red'>90-95%</font> of deliverables to be delivered on time.\n",
    "\n",
    "* What would be considered an improvement?\n",
    "\n",
    "Meeting customers' expectations.\n",
    "\n",
    "* What time interval are we measuring punctual/late deliveries (per month/per week)?\n",
    "\n",
    "Again, it can vary; some high-volume customers/programs might look at it daily. But probably the most typical way to look at it is <font color='red'>by month</font>.\n",
    "\n",
    "\n",
    "* Reason for heavy sparseness of data in column -average_duration_request_received_to_quoted_business_seconds:\n",
    "\n",
    "Some projects are not quoted, because we have a <font color='red'>long-term contract with the client that allows us to skip the quoting process</font>, and start work on all their requests/projects immediately, without any quote (and quote approval) process. If there is no quote for a given project, then there is no duration here."
   ]
  },
  {
   "cell_type": "code",
   "execution_count": 3,
   "id": "8a3cd2be",
   "metadata": {
    "execution": {
     "iopub.execute_input": "2023-04-08T22:50:36.126573Z",
     "iopub.status.busy": "2023-04-08T22:50:36.125956Z",
     "iopub.status.idle": "2023-04-08T22:50:57.820461Z",
     "shell.execute_reply": "2023-04-08T22:50:57.819148Z"
    },
    "papermill": {
     "duration": 21.703557,
     "end_time": "2023-04-08T22:50:57.823834",
     "exception": false,
     "start_time": "2023-04-08T22:50:36.120277",
     "status": "completed"
    },
    "tags": []
   },
   "outputs": [
    {
     "data": {
      "text/html": [
       "<div>\n",
       "<style scoped>\n",
       "    .dataframe tbody tr th:only-of-type {\n",
       "        vertical-align: middle;\n",
       "    }\n",
       "\n",
       "    .dataframe tbody tr th {\n",
       "        vertical-align: top;\n",
       "    }\n",
       "\n",
       "    .dataframe thead th {\n",
       "        text-align: right;\n",
       "    }\n",
       "</style>\n",
       "<table border=\"1\" class=\"dataframe\">\n",
       "  <thead>\n",
       "    <tr style=\"text-align: right;\">\n",
       "      <th></th>\n",
       "      <th>client_deliverable_id</th>\n",
       "      <th>date_client_deliverable_delivered</th>\n",
       "      <th>total_tasks</th>\n",
       "      <th>words</th>\n",
       "      <th>average_duration_request_received_to_quoted_business_seconds</th>\n",
       "      <th>average_duration_offer_sent_to_task_claimed_seconds</th>\n",
       "      <th>average_duration_task_claimed_to_task_started_seconds</th>\n",
       "      <th>translations_for_client_by_supplier_to_date</th>\n",
       "      <th>source_language_locale_code</th>\n",
       "      <th>target_language_locale_code</th>\n",
       "      <th>project_manager_id</th>\n",
       "      <th>requests_managed_simultaneously_by_project_manager</th>\n",
       "      <th>content_specialty</th>\n",
       "      <th>translation_supplier_id</th>\n",
       "      <th>service_line</th>\n",
       "      <th>lateness_of_client_deliverable_seconds</th>\n",
       "      <th>is_client_deliverable_past_due</th>\n",
       "    </tr>\n",
       "  </thead>\n",
       "  <tbody>\n",
       "    <tr>\n",
       "      <th>0</th>\n",
       "      <td>1639999</td>\n",
       "      <td>2022-02-02</td>\n",
       "      <td>11</td>\n",
       "      <td>21354</td>\n",
       "      <td>5572.340</td>\n",
       "      <td>103048.0</td>\n",
       "      <td>124904.0</td>\n",
       "      <td>1</td>\n",
       "      <td>en-US</td>\n",
       "      <td>ja-JP</td>\n",
       "      <td>3424244246268217782</td>\n",
       "      <td>816</td>\n",
       "      <td>Chemistry</td>\n",
       "      <td>Pantheon_11922</td>\n",
       "      <td>Legal &amp; Financial Services</td>\n",
       "      <td>NaN</td>\n",
       "      <td>N</td>\n",
       "    </tr>\n",
       "    <tr>\n",
       "      <th>1</th>\n",
       "      <td>1658115</td>\n",
       "      <td>2022-02-01</td>\n",
       "      <td>8</td>\n",
       "      <td>1344</td>\n",
       "      <td>5771.707</td>\n",
       "      <td>157246.0</td>\n",
       "      <td>188189.0</td>\n",
       "      <td>33</td>\n",
       "      <td>en-US</td>\n",
       "      <td>sq-AL</td>\n",
       "      <td>3908128739217598266</td>\n",
       "      <td>324</td>\n",
       "      <td>Chemistry</td>\n",
       "      <td>Pantheon_5920</td>\n",
       "      <td>Legal &amp; Financial Services</td>\n",
       "      <td>NaN</td>\n",
       "      <td>N</td>\n",
       "    </tr>\n",
       "    <tr>\n",
       "      <th>2</th>\n",
       "      <td>1658124</td>\n",
       "      <td>2022-02-01</td>\n",
       "      <td>12</td>\n",
       "      <td>20714</td>\n",
       "      <td>5771.707</td>\n",
       "      <td>352535.0</td>\n",
       "      <td>205806.0</td>\n",
       "      <td>13</td>\n",
       "      <td>en-US</td>\n",
       "      <td>el-GR</td>\n",
       "      <td>3908128739217598266</td>\n",
       "      <td>324</td>\n",
       "      <td>Chemistry</td>\n",
       "      <td>Pantheon_5881</td>\n",
       "      <td>Legal &amp; Financial Services</td>\n",
       "      <td>NaN</td>\n",
       "      <td>N</td>\n",
       "    </tr>\n",
       "    <tr>\n",
       "      <th>3</th>\n",
       "      <td>1658129</td>\n",
       "      <td>2022-02-01</td>\n",
       "      <td>7</td>\n",
       "      <td>1344</td>\n",
       "      <td>5771.707</td>\n",
       "      <td>204319.0</td>\n",
       "      <td>193394.0</td>\n",
       "      <td>16</td>\n",
       "      <td>en-US</td>\n",
       "      <td>lt-LT</td>\n",
       "      <td>3908128739217598266</td>\n",
       "      <td>324</td>\n",
       "      <td>Chemistry</td>\n",
       "      <td>Pantheon_5922</td>\n",
       "      <td>Legal &amp; Financial Services</td>\n",
       "      <td>NaN</td>\n",
       "      <td>N</td>\n",
       "    </tr>\n",
       "    <tr>\n",
       "      <th>4</th>\n",
       "      <td>1658134</td>\n",
       "      <td>2022-02-01</td>\n",
       "      <td>10</td>\n",
       "      <td>20714</td>\n",
       "      <td>5771.707</td>\n",
       "      <td>354784.0</td>\n",
       "      <td>339963.0</td>\n",
       "      <td>8</td>\n",
       "      <td>en-US</td>\n",
       "      <td>pt-PT</td>\n",
       "      <td>3908128739217598266</td>\n",
       "      <td>324</td>\n",
       "      <td>Chemistry</td>\n",
       "      <td>Pantheon_6813</td>\n",
       "      <td>Legal &amp; Financial Services</td>\n",
       "      <td>NaN</td>\n",
       "      <td>N</td>\n",
       "    </tr>\n",
       "    <tr>\n",
       "      <th>...</th>\n",
       "      <td>...</td>\n",
       "      <td>...</td>\n",
       "      <td>...</td>\n",
       "      <td>...</td>\n",
       "      <td>...</td>\n",
       "      <td>...</td>\n",
       "      <td>...</td>\n",
       "      <td>...</td>\n",
       "      <td>...</td>\n",
       "      <td>...</td>\n",
       "      <td>...</td>\n",
       "      <td>...</td>\n",
       "      <td>...</td>\n",
       "      <td>...</td>\n",
       "      <td>...</td>\n",
       "      <td>...</td>\n",
       "      <td>...</td>\n",
       "    </tr>\n",
       "    <tr>\n",
       "      <th>99694</th>\n",
       "      <td>5406402</td>\n",
       "      <td>2022-12-30</td>\n",
       "      <td>2</td>\n",
       "      <td>9</td>\n",
       "      <td>NaN</td>\n",
       "      <td>191.0</td>\n",
       "      <td>2026.0</td>\n",
       "      <td>112</td>\n",
       "      <td>en-US</td>\n",
       "      <td>ru-RU</td>\n",
       "      <td>6712390449850189908</td>\n",
       "      <td>17</td>\n",
       "      <td>Marketing</td>\n",
       "      <td>Pantheon_913</td>\n",
       "      <td>Localization</td>\n",
       "      <td>NaN</td>\n",
       "      <td>N</td>\n",
       "    </tr>\n",
       "    <tr>\n",
       "      <th>99695</th>\n",
       "      <td>5406925</td>\n",
       "      <td>2022-12-30</td>\n",
       "      <td>1</td>\n",
       "      <td>2</td>\n",
       "      <td>NaN</td>\n",
       "      <td>633.0</td>\n",
       "      <td>2.0</td>\n",
       "      <td>287</td>\n",
       "      <td>en-US</td>\n",
       "      <td>cs-CZ</td>\n",
       "      <td>1201051988300040006</td>\n",
       "      <td>34</td>\n",
       "      <td>Marketing</td>\n",
       "      <td>Pantheon_29997</td>\n",
       "      <td>Localization</td>\n",
       "      <td>NaN</td>\n",
       "      <td>N</td>\n",
       "    </tr>\n",
       "    <tr>\n",
       "      <th>99696</th>\n",
       "      <td>5407305</td>\n",
       "      <td>2022-12-30</td>\n",
       "      <td>2</td>\n",
       "      <td>50</td>\n",
       "      <td>NaN</td>\n",
       "      <td>NaN</td>\n",
       "      <td>713.0</td>\n",
       "      <td>831</td>\n",
       "      <td>en-US</td>\n",
       "      <td>ro-RO</td>\n",
       "      <td>2341318023614218099</td>\n",
       "      <td>181</td>\n",
       "      <td>Marketing</td>\n",
       "      <td>Pantheon_835</td>\n",
       "      <td>Localization</td>\n",
       "      <td>NaN</td>\n",
       "      <td>N</td>\n",
       "    </tr>\n",
       "    <tr>\n",
       "      <th>99697</th>\n",
       "      <td>5407454</td>\n",
       "      <td>2022-12-30</td>\n",
       "      <td>2</td>\n",
       "      <td>16</td>\n",
       "      <td>NaN</td>\n",
       "      <td>663.0</td>\n",
       "      <td>147.0</td>\n",
       "      <td>349</td>\n",
       "      <td>en-US</td>\n",
       "      <td>it-IT</td>\n",
       "      <td>2341318023614218099</td>\n",
       "      <td>179</td>\n",
       "      <td>Marketing</td>\n",
       "      <td>Pantheon_160</td>\n",
       "      <td>Localization</td>\n",
       "      <td>NaN</td>\n",
       "      <td>N</td>\n",
       "    </tr>\n",
       "    <tr>\n",
       "      <th>99698</th>\n",
       "      <td>5407717</td>\n",
       "      <td>2022-12-30</td>\n",
       "      <td>2</td>\n",
       "      <td>11</td>\n",
       "      <td>NaN</td>\n",
       "      <td>NaN</td>\n",
       "      <td>402.0</td>\n",
       "      <td>1806</td>\n",
       "      <td>en-US</td>\n",
       "      <td>ro-RO</td>\n",
       "      <td>4585138284221527820</td>\n",
       "      <td>31</td>\n",
       "      <td>Marketing</td>\n",
       "      <td>Pantheon_835</td>\n",
       "      <td>Localization</td>\n",
       "      <td>NaN</td>\n",
       "      <td>N</td>\n",
       "    </tr>\n",
       "  </tbody>\n",
       "</table>\n",
       "<p>99699 rows × 17 columns</p>\n",
       "</div>"
      ],
      "text/plain": [
       "       client_deliverable_id date_client_deliverable_delivered  total_tasks  \\\n",
       "0                    1639999                        2022-02-02           11   \n",
       "1                    1658115                        2022-02-01            8   \n",
       "2                    1658124                        2022-02-01           12   \n",
       "3                    1658129                        2022-02-01            7   \n",
       "4                    1658134                        2022-02-01           10   \n",
       "...                      ...                               ...          ...   \n",
       "99694                5406402                        2022-12-30            2   \n",
       "99695                5406925                        2022-12-30            1   \n",
       "99696                5407305                        2022-12-30            2   \n",
       "99697                5407454                        2022-12-30            2   \n",
       "99698                5407717                        2022-12-30            2   \n",
       "\n",
       "       words  average_duration_request_received_to_quoted_business_seconds  \\\n",
       "0      21354                                           5572.340              \n",
       "1       1344                                           5771.707              \n",
       "2      20714                                           5771.707              \n",
       "3       1344                                           5771.707              \n",
       "4      20714                                           5771.707              \n",
       "...      ...                                                ...              \n",
       "99694      9                                                NaN              \n",
       "99695      2                                                NaN              \n",
       "99696     50                                                NaN              \n",
       "99697     16                                                NaN              \n",
       "99698     11                                                NaN              \n",
       "\n",
       "       average_duration_offer_sent_to_task_claimed_seconds  \\\n",
       "0                                               103048.0     \n",
       "1                                               157246.0     \n",
       "2                                               352535.0     \n",
       "3                                               204319.0     \n",
       "4                                               354784.0     \n",
       "...                                                  ...     \n",
       "99694                                              191.0     \n",
       "99695                                              633.0     \n",
       "99696                                                NaN     \n",
       "99697                                              663.0     \n",
       "99698                                                NaN     \n",
       "\n",
       "       average_duration_task_claimed_to_task_started_seconds  \\\n",
       "0                                               124904.0       \n",
       "1                                               188189.0       \n",
       "2                                               205806.0       \n",
       "3                                               193394.0       \n",
       "4                                               339963.0       \n",
       "...                                                  ...       \n",
       "99694                                             2026.0       \n",
       "99695                                                2.0       \n",
       "99696                                              713.0       \n",
       "99697                                              147.0       \n",
       "99698                                              402.0       \n",
       "\n",
       "       translations_for_client_by_supplier_to_date  \\\n",
       "0                                                1   \n",
       "1                                               33   \n",
       "2                                               13   \n",
       "3                                               16   \n",
       "4                                                8   \n",
       "...                                            ...   \n",
       "99694                                          112   \n",
       "99695                                          287   \n",
       "99696                                          831   \n",
       "99697                                          349   \n",
       "99698                                         1806   \n",
       "\n",
       "      source_language_locale_code target_language_locale_code  \\\n",
       "0                           en-US                       ja-JP   \n",
       "1                           en-US                       sq-AL   \n",
       "2                           en-US                       el-GR   \n",
       "3                           en-US                       lt-LT   \n",
       "4                           en-US                       pt-PT   \n",
       "...                           ...                         ...   \n",
       "99694                       en-US                       ru-RU   \n",
       "99695                       en-US                       cs-CZ   \n",
       "99696                       en-US                       ro-RO   \n",
       "99697                       en-US                       it-IT   \n",
       "99698                       en-US                       ro-RO   \n",
       "\n",
       "        project_manager_id  \\\n",
       "0      3424244246268217782   \n",
       "1      3908128739217598266   \n",
       "2      3908128739217598266   \n",
       "3      3908128739217598266   \n",
       "4      3908128739217598266   \n",
       "...                    ...   \n",
       "99694  6712390449850189908   \n",
       "99695  1201051988300040006   \n",
       "99696  2341318023614218099   \n",
       "99697  2341318023614218099   \n",
       "99698  4585138284221527820   \n",
       "\n",
       "       requests_managed_simultaneously_by_project_manager content_specialty  \\\n",
       "0                                                    816          Chemistry   \n",
       "1                                                    324          Chemistry   \n",
       "2                                                    324          Chemistry   \n",
       "3                                                    324          Chemistry   \n",
       "4                                                    324          Chemistry   \n",
       "...                                                  ...                ...   \n",
       "99694                                                 17          Marketing   \n",
       "99695                                                 34          Marketing   \n",
       "99696                                                181          Marketing   \n",
       "99697                                                179          Marketing   \n",
       "99698                                                 31          Marketing   \n",
       "\n",
       "      translation_supplier_id                service_line  \\\n",
       "0              Pantheon_11922  Legal & Financial Services   \n",
       "1               Pantheon_5920  Legal & Financial Services   \n",
       "2               Pantheon_5881  Legal & Financial Services   \n",
       "3               Pantheon_5922  Legal & Financial Services   \n",
       "4               Pantheon_6813  Legal & Financial Services   \n",
       "...                       ...                         ...   \n",
       "99694            Pantheon_913                Localization   \n",
       "99695          Pantheon_29997                Localization   \n",
       "99696            Pantheon_835                Localization   \n",
       "99697            Pantheon_160                Localization   \n",
       "99698            Pantheon_835                Localization   \n",
       "\n",
       "       lateness_of_client_deliverable_seconds is_client_deliverable_past_due  \n",
       "0                                         NaN                              N  \n",
       "1                                         NaN                              N  \n",
       "2                                         NaN                              N  \n",
       "3                                         NaN                              N  \n",
       "4                                         NaN                              N  \n",
       "...                                       ...                            ...  \n",
       "99694                                     NaN                              N  \n",
       "99695                                     NaN                              N  \n",
       "99696                                     NaN                              N  \n",
       "99697                                     NaN                              N  \n",
       "99698                                     NaN                              N  \n",
       "\n",
       "[99699 rows x 17 columns]"
      ]
     },
     "execution_count": 3,
     "metadata": {},
     "output_type": "execute_result"
    }
   ],
   "source": [
    "data = pd.read_excel(r'/kaggle/input/welocalize/welocalize_dataset.xlsx', sheet_name= 'data')\n",
    "data"
   ]
  },
  {
   "cell_type": "code",
   "execution_count": 4,
   "id": "37cb0e27",
   "metadata": {
    "execution": {
     "iopub.execute_input": "2023-04-08T22:50:57.837523Z",
     "iopub.status.busy": "2023-04-08T22:50:57.836892Z",
     "iopub.status.idle": "2023-04-08T22:50:57.843915Z",
     "shell.execute_reply": "2023-04-08T22:50:57.842840Z"
    },
    "papermill": {
     "duration": 0.015462,
     "end_time": "2023-04-08T22:50:57.845796",
     "exception": false,
     "start_time": "2023-04-08T22:50:57.830334",
     "status": "completed"
    },
    "tags": []
   },
   "outputs": [
    {
     "data": {
      "text/plain": [
       "(99699, 17)"
      ]
     },
     "execution_count": 4,
     "metadata": {},
     "output_type": "execute_result"
    }
   ],
   "source": [
    "data.shape"
   ]
  },
  {
   "cell_type": "code",
   "execution_count": 5,
   "id": "1df066d6",
   "metadata": {
    "execution": {
     "iopub.execute_input": "2023-04-08T22:50:57.858232Z",
     "iopub.status.busy": "2023-04-08T22:50:57.857356Z",
     "iopub.status.idle": "2023-04-08T22:50:57.911439Z",
     "shell.execute_reply": "2023-04-08T22:50:57.909729Z"
    },
    "papermill": {
     "duration": 0.063125,
     "end_time": "2023-04-08T22:50:57.914036",
     "exception": false,
     "start_time": "2023-04-08T22:50:57.850911",
     "status": "completed"
    },
    "tags": []
   },
   "outputs": [
    {
     "name": "stdout",
     "output_type": "stream",
     "text": [
      "<class 'pandas.core.frame.DataFrame'>\n",
      "RangeIndex: 99699 entries, 0 to 99698\n",
      "Data columns (total 17 columns):\n",
      " #   Column                                                        Non-Null Count  Dtype  \n",
      "---  ------                                                        --------------  -----  \n",
      " 0   client_deliverable_id                                         99699 non-null  int64  \n",
      " 1   date_client_deliverable_delivered                             99699 non-null  object \n",
      " 2   total_tasks                                                   99699 non-null  int64  \n",
      " 3   words                                                         99699 non-null  int64  \n",
      " 4   average_duration_request_received_to_quoted_business_seconds  1579 non-null   float64\n",
      " 5   average_duration_offer_sent_to_task_claimed_seconds           92870 non-null  float64\n",
      " 6   average_duration_task_claimed_to_task_started_seconds         98391 non-null  float64\n",
      " 7   translations_for_client_by_supplier_to_date                   99699 non-null  int64  \n",
      " 8   source_language_locale_code                                   99699 non-null  object \n",
      " 9   target_language_locale_code                                   99699 non-null  object \n",
      " 10  project_manager_id                                            99699 non-null  int64  \n",
      " 11  requests_managed_simultaneously_by_project_manager            99699 non-null  int64  \n",
      " 12  content_specialty                                             99699 non-null  object \n",
      " 13  translation_supplier_id                                       99699 non-null  object \n",
      " 14  service_line                                                  99699 non-null  object \n",
      " 15  lateness_of_client_deliverable_seconds                        9437 non-null   float64\n",
      " 16  is_client_deliverable_past_due                                99699 non-null  object \n",
      "dtypes: float64(4), int64(6), object(7)\n",
      "memory usage: 12.9+ MB\n"
     ]
    }
   ],
   "source": [
    "data.info()"
   ]
  },
  {
   "cell_type": "code",
   "execution_count": 6,
   "id": "3fd4818f",
   "metadata": {
    "execution": {
     "iopub.execute_input": "2023-04-08T22:50:57.925647Z",
     "iopub.status.busy": "2023-04-08T22:50:57.925288Z",
     "iopub.status.idle": "2023-04-08T22:50:57.964257Z",
     "shell.execute_reply": "2023-04-08T22:50:57.962451Z"
    },
    "papermill": {
     "duration": 0.047804,
     "end_time": "2023-04-08T22:50:57.966918",
     "exception": false,
     "start_time": "2023-04-08T22:50:57.919114",
     "status": "completed"
    },
    "tags": []
   },
   "outputs": [
    {
     "data": {
      "text/plain": [
       "client_deliverable_id                                               0\n",
       "date_client_deliverable_delivered                                   0\n",
       "total_tasks                                                         0\n",
       "words                                                               0\n",
       "average_duration_request_received_to_quoted_business_seconds    98120\n",
       "average_duration_offer_sent_to_task_claimed_seconds              6829\n",
       "average_duration_task_claimed_to_task_started_seconds            1308\n",
       "translations_for_client_by_supplier_to_date                         0\n",
       "source_language_locale_code                                         0\n",
       "target_language_locale_code                                         0\n",
       "project_manager_id                                                  0\n",
       "requests_managed_simultaneously_by_project_manager                  0\n",
       "content_specialty                                                   0\n",
       "translation_supplier_id                                             0\n",
       "service_line                                                        0\n",
       "lateness_of_client_deliverable_seconds                          90262\n",
       "is_client_deliverable_past_due                                      0\n",
       "dtype: int64"
      ]
     },
     "execution_count": 6,
     "metadata": {},
     "output_type": "execute_result"
    }
   ],
   "source": [
    "data.isnull().sum()"
   ]
  },
  {
   "cell_type": "markdown",
   "id": "4dba050e",
   "metadata": {
    "execution": {
     "iopub.execute_input": "2023-04-08T18:06:37.022414Z",
     "iopub.status.busy": "2023-04-08T18:06:37.021958Z",
     "iopub.status.idle": "2023-04-08T18:06:37.027967Z",
     "shell.execute_reply": "2023-04-08T18:06:37.026581Z",
     "shell.execute_reply.started": "2023-04-08T18:06:37.022380Z"
    },
    "papermill": {
     "duration": 0.005557,
     "end_time": "2023-04-08T22:50:57.978002",
     "exception": false,
     "start_time": "2023-04-08T22:50:57.972445",
     "status": "completed"
    },
    "tags": []
   },
   "source": [
    "# SQL Pre-processing. Code here:\n",
    "1. Below are views created after separating out deliverable info from requests translation task info. Requests comprise of multiple deliverables. And deliverables have multiple tasks which can include a translation task. So the dataset is of mixed granularity.\n",
    "2. Transforming data into correct data given column logic (boolean -> TRUE/FALSE/NULL) and consistent precision (round to nearest seconds vs having seconds to thousandth's place)\n"
   ]
  },
  {
   "cell_type": "code",
   "execution_count": 7,
   "id": "2505fa7f",
   "metadata": {
    "execution": {
     "iopub.execute_input": "2023-04-08T22:50:57.990494Z",
     "iopub.status.busy": "2023-04-08T22:50:57.989816Z",
     "iopub.status.idle": "2023-04-08T22:50:58.446095Z",
     "shell.execute_reply": "2023-04-08T22:50:58.443984Z"
    },
    "papermill": {
     "duration": 0.465287,
     "end_time": "2023-04-08T22:50:58.448626",
     "exception": false,
     "start_time": "2023-04-08T22:50:57.983339",
     "status": "completed"
    },
    "tags": []
   },
   "outputs": [
    {
     "name": "stderr",
     "output_type": "stream",
     "text": [
      "/opt/conda/lib/python3.7/site-packages/IPython/core/interactiveshell.py:3553: DtypeWarning: Columns (10) have mixed types.Specify dtype option on import or set low_memory=False.\n",
      "  exec(code_obj, self.user_global_ns, self.user_ns)\n"
     ]
    }
   ],
   "source": [
    "requests = pd.read_csv('/kaggle/input/welocalize/requests.csv')\n",
    "deliverables = pd.read_csv('/kaggle/input/welocalize/deliverables.csv')\n",
    "translation_task = pd.read_csv('/kaggle/input/welocalize/translation_task.csv')"
   ]
  },
  {
   "cell_type": "markdown",
   "id": "f497a783",
   "metadata": {
    "execution": {
     "iopub.execute_input": "2023-04-08T21:20:38.259629Z",
     "iopub.status.busy": "2023-04-08T21:20:38.258440Z",
     "iopub.status.idle": "2023-04-08T21:20:38.266985Z",
     "shell.execute_reply": "2023-04-08T21:20:38.265835Z",
     "shell.execute_reply.started": "2023-04-08T21:20:38.259580Z"
    },
    "papermill": {
     "duration": 0.004796,
     "end_time": "2023-04-08T22:50:58.459045",
     "exception": false,
     "start_time": "2023-04-08T22:50:58.454249",
     "status": "completed"
    },
    "tags": []
   },
   "source": [
    "# CLASSIFYING"
   ]
  },
  {
   "cell_type": "markdown",
   "id": "e0ef965a",
   "metadata": {
    "papermill": {
     "duration": 0.005682,
     "end_time": "2023-04-08T22:50:58.470785",
     "exception": false,
     "start_time": "2023-04-08T22:50:58.465103",
     "status": "completed"
    },
    "tags": []
   },
   "source": [
    "# CORRELATING"
   ]
  },
  {
   "cell_type": "markdown",
   "id": "fa333805",
   "metadata": {
    "papermill": {
     "duration": 0.004874,
     "end_time": "2023-04-08T22:50:58.481690",
     "exception": false,
     "start_time": "2023-04-08T22:50:58.476816",
     "status": "completed"
    },
    "tags": []
   },
   "source": [
    "# CHARTING"
   ]
  },
  {
   "cell_type": "markdown",
   "id": "3c66c9c3",
   "metadata": {
    "execution": {
     "iopub.execute_input": "2023-04-08T21:48:09.380926Z",
     "iopub.status.busy": "2023-04-08T21:48:09.380494Z",
     "iopub.status.idle": "2023-04-08T21:48:09.406687Z",
     "shell.execute_reply": "2023-04-08T21:48:09.405747Z",
     "shell.execute_reply.started": "2023-04-08T21:48:09.380861Z"
    },
    "papermill": {
     "duration": 0.005176,
     "end_time": "2023-04-08T22:50:58.492753",
     "exception": false,
     "start_time": "2023-04-08T22:50:58.487577",
     "status": "completed"
    },
    "tags": []
   },
   "source": [
    "# Starting with deliverables:\n",
    "\n",
    "* Categorical:    \n",
    "date_client_deliverable_delivered, is_client_deliverable_past_due  \n",
    "\n",
    "* Numerical:\n",
    "total_tasks, words, average_duration_offer_sent_to_task_claimed_seconds, average_duration_task_claimed_to_task_started_seconds, lateness_of_client_deliverable_seconds \n",
    "\n",
    "* Columns with errors:\n",
    "There are no mixed data types. And features were corrected for Boolean column to have Boolean types and seconds measurements consistently rounded to tenths place."
   ]
  },
  {
   "cell_type": "markdown",
   "id": "d8d52856",
   "metadata": {
    "papermill": {
     "duration": 0.004862,
     "end_time": "2023-04-08T22:50:58.502871",
     "exception": false,
     "start_time": "2023-04-08T22:50:58.498009",
     "status": "completed"
    },
    "tags": []
   },
   "source": [
    "Columns with blanks, null or empty values: The original dataset showed huge amount of sparseness in column: average_duration_request_received_to_quoted_business_seconds. So not much can be derived from this other than business is doing well if requests do not need quote before starting work on requests."
   ]
  },
  {
   "cell_type": "code",
   "execution_count": 8,
   "id": "d848bc2b",
   "metadata": {
    "execution": {
     "iopub.execute_input": "2023-04-08T22:50:58.516396Z",
     "iopub.status.busy": "2023-04-08T22:50:58.515747Z",
     "iopub.status.idle": "2023-04-08T22:50:58.524324Z",
     "shell.execute_reply": "2023-04-08T22:50:58.522768Z"
    },
    "papermill": {
     "duration": 0.017425,
     "end_time": "2023-04-08T22:50:58.526478",
     "exception": false,
     "start_time": "2023-04-08T22:50:58.509053",
     "status": "completed"
    },
    "tags": []
   },
   "outputs": [
    {
     "data": {
      "text/plain": [
       "['client_deliverable_id',\n",
       " 'date_client_deliverable_delivered',\n",
       " 'total_tasks',\n",
       " 'words',\n",
       " 'average_duration_offer_sent_to_task_claimed_seconds',\n",
       " 'average_duration_offer_sent_to_task_claimed_hours',\n",
       " 'average_duration_task_claimed_to_task_started_seconds',\n",
       " 'average_duration_task_claimed_to_task_started_days',\n",
       " 'lateness_of_client_deliverable_seconds',\n",
       " 'lateness_of_client_deliverable_days',\n",
       " 'is_client_deliverable_past_due']"
      ]
     },
     "execution_count": 8,
     "metadata": {},
     "output_type": "execute_result"
    }
   ],
   "source": [
    "list(deliverables)"
   ]
  },
  {
   "cell_type": "code",
   "execution_count": 9,
   "id": "3aa863fb",
   "metadata": {
    "execution": {
     "iopub.execute_input": "2023-04-08T22:50:58.539345Z",
     "iopub.status.busy": "2023-04-08T22:50:58.538543Z",
     "iopub.status.idle": "2023-04-08T22:50:58.583180Z",
     "shell.execute_reply": "2023-04-08T22:50:58.581519Z"
    },
    "papermill": {
     "duration": 0.053829,
     "end_time": "2023-04-08T22:50:58.585769",
     "exception": false,
     "start_time": "2023-04-08T22:50:58.531940",
     "status": "completed"
    },
    "tags": []
   },
   "outputs": [
    {
     "data": {
      "text/html": [
       "<div>\n",
       "<style scoped>\n",
       "    .dataframe tbody tr th:only-of-type {\n",
       "        vertical-align: middle;\n",
       "    }\n",
       "\n",
       "    .dataframe tbody tr th {\n",
       "        vertical-align: top;\n",
       "    }\n",
       "\n",
       "    .dataframe thead th {\n",
       "        text-align: right;\n",
       "    }\n",
       "</style>\n",
       "<table border=\"1\" class=\"dataframe\">\n",
       "  <thead>\n",
       "    <tr style=\"text-align: right;\">\n",
       "      <th></th>\n",
       "      <th>total_tasks</th>\n",
       "      <th>words</th>\n",
       "      <th>average_duration_offer_sent_to_task_claimed_hours</th>\n",
       "      <th>average_duration_task_claimed_to_task_started_days</th>\n",
       "      <th>lateness_of_client_deliverable_days</th>\n",
       "    </tr>\n",
       "  </thead>\n",
       "  <tbody>\n",
       "    <tr>\n",
       "      <th>count</th>\n",
       "      <td>99699.000000</td>\n",
       "      <td>99699.000000</td>\n",
       "      <td>92870.000000</td>\n",
       "      <td>98391.000000</td>\n",
       "      <td>9437.000000</td>\n",
       "    </tr>\n",
       "    <tr>\n",
       "      <th>mean</th>\n",
       "      <td>2.940671</td>\n",
       "      <td>1366.218427</td>\n",
       "      <td>15.161588</td>\n",
       "      <td>1.402443</td>\n",
       "      <td>10.326718</td>\n",
       "    </tr>\n",
       "    <tr>\n",
       "      <th>std</th>\n",
       "      <td>2.003708</td>\n",
       "      <td>6286.507421</td>\n",
       "      <td>36.195533</td>\n",
       "      <td>2.442336</td>\n",
       "      <td>16.522251</td>\n",
       "    </tr>\n",
       "    <tr>\n",
       "      <th>min</th>\n",
       "      <td>1.000000</td>\n",
       "      <td>0.000000</td>\n",
       "      <td>0.000278</td>\n",
       "      <td>0.000000</td>\n",
       "      <td>0.000014</td>\n",
       "    </tr>\n",
       "    <tr>\n",
       "      <th>25%</th>\n",
       "      <td>2.000000</td>\n",
       "      <td>24.000000</td>\n",
       "      <td>0.727014</td>\n",
       "      <td>0.116453</td>\n",
       "      <td>1.110137</td>\n",
       "    </tr>\n",
       "    <tr>\n",
       "      <th>50%</th>\n",
       "      <td>2.000000</td>\n",
       "      <td>120.000000</td>\n",
       "      <td>4.015278</td>\n",
       "      <td>0.611447</td>\n",
       "      <td>4.815762</td>\n",
       "    </tr>\n",
       "    <tr>\n",
       "      <th>75%</th>\n",
       "      <td>3.000000</td>\n",
       "      <td>578.000000</td>\n",
       "      <td>13.348542</td>\n",
       "      <td>1.680874</td>\n",
       "      <td>11.629934</td>\n",
       "    </tr>\n",
       "    <tr>\n",
       "      <th>max</th>\n",
       "      <td>61.000000</td>\n",
       "      <td>257709.000000</td>\n",
       "      <td>974.623611</td>\n",
       "      <td>75.913426</td>\n",
       "      <td>289.416480</td>\n",
       "    </tr>\n",
       "  </tbody>\n",
       "</table>\n",
       "</div>"
      ],
      "text/plain": [
       "        total_tasks          words  \\\n",
       "count  99699.000000   99699.000000   \n",
       "mean       2.940671    1366.218427   \n",
       "std        2.003708    6286.507421   \n",
       "min        1.000000       0.000000   \n",
       "25%        2.000000      24.000000   \n",
       "50%        2.000000     120.000000   \n",
       "75%        3.000000     578.000000   \n",
       "max       61.000000  257709.000000   \n",
       "\n",
       "       average_duration_offer_sent_to_task_claimed_hours  \\\n",
       "count                                       92870.000000   \n",
       "mean                                           15.161588   \n",
       "std                                            36.195533   \n",
       "min                                             0.000278   \n",
       "25%                                             0.727014   \n",
       "50%                                             4.015278   \n",
       "75%                                            13.348542   \n",
       "max                                           974.623611   \n",
       "\n",
       "       average_duration_task_claimed_to_task_started_days  \\\n",
       "count                                       98391.000000    \n",
       "mean                                            1.402443    \n",
       "std                                             2.442336    \n",
       "min                                             0.000000    \n",
       "25%                                             0.116453    \n",
       "50%                                             0.611447    \n",
       "75%                                             1.680874    \n",
       "max                                            75.913426    \n",
       "\n",
       "       lateness_of_client_deliverable_days  \n",
       "count                          9437.000000  \n",
       "mean                             10.326718  \n",
       "std                              16.522251  \n",
       "min                               0.000014  \n",
       "25%                               1.110137  \n",
       "50%                               4.815762  \n",
       "75%                              11.629934  \n",
       "max                             289.416480  "
      ]
     },
     "execution_count": 9,
     "metadata": {},
     "output_type": "execute_result"
    }
   ],
   "source": [
    "# Distribution of numerical features:\n",
    "\n",
    "deliverables[['total_tasks',\n",
    " 'words',\n",
    " 'average_duration_offer_sent_to_task_claimed_hours',\n",
    " 'average_duration_task_claimed_to_task_started_days',\n",
    " 'lateness_of_client_deliverable_days']].describe()"
   ]
  },
  {
   "cell_type": "markdown",
   "id": "c0b9e3cc",
   "metadata": {
    "execution": {
     "iopub.execute_input": "2023-04-08T21:59:37.514586Z",
     "iopub.status.busy": "2023-04-08T21:59:37.513315Z",
     "iopub.status.idle": "2023-04-08T21:59:37.522600Z",
     "shell.execute_reply": "2023-04-08T21:59:37.521211Z",
     "shell.execute_reply.started": "2023-04-08T21:59:37.514539Z"
    },
    "papermill": {
     "duration": 0.005179,
     "end_time": "2023-04-08T22:50:58.596659",
     "exception": false,
     "start_time": "2023-04-08T22:50:58.591480",
     "status": "completed"
    },
    "tags": []
   },
   "source": [
    "* Total samples: 99699\n",
    "* Average 3 tasks/deliverable with minimum 1 task and at most 61 tasks\n",
    "* Average amount of words translated in deliverable: 1366\n",
    "* Average time it takes for Welocalize to accept task: 54581 seconds/15 hours with max time: 40 days\n",
    "* Average time it takes for Welocalize to start accepted task: 1.4 days\n",
    "* Average late time on delivery: 10.3 days"
   ]
  },
  {
   "cell_type": "code",
   "execution_count": null,
   "id": "970597cd",
   "metadata": {
    "papermill": {
     "duration": 0.005155,
     "end_time": "2023-04-08T22:50:58.607437",
     "exception": false,
     "start_time": "2023-04-08T22:50:58.602282",
     "status": "completed"
    },
    "tags": []
   },
   "outputs": [],
   "source": []
  }
 ],
 "metadata": {
  "kernelspec": {
   "display_name": "Python 3",
   "language": "python",
   "name": "python3"
  },
  "language_info": {
   "codemirror_mode": {
    "name": "ipython",
    "version": 3
   },
   "file_extension": ".py",
   "mimetype": "text/x-python",
   "name": "python",
   "nbconvert_exporter": "python",
   "pygments_lexer": "ipython3",
   "version": "3.7.12"
  },
  "papermill": {
   "default_parameters": {},
   "duration": 33.554177,
   "end_time": "2023-04-08T22:50:59.435728",
   "environment_variables": {},
   "exception": null,
   "input_path": "__notebook__.ipynb",
   "output_path": "__notebook__.ipynb",
   "parameters": {},
   "start_time": "2023-04-08T22:50:25.881551",
   "version": "2.4.0"
  }
 },
 "nbformat": 4,
 "nbformat_minor": 5
}
