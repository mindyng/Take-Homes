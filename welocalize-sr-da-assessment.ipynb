{
 "cells": [
  {
   "cell_type": "code",
   "execution_count": 1,
   "id": "e4218f58",
   "metadata": {
    "_cell_guid": "b1076dfc-b9ad-4769-8c92-a6c4dae69d19",
    "_uuid": "8f2839f25d086af736a60e9eeb907d3b93b6e0e5",
    "execution": {
     "iopub.execute_input": "2023-04-10T04:28:20.336894Z",
     "iopub.status.busy": "2023-04-10T04:28:20.336485Z",
     "iopub.status.idle": "2023-04-10T04:28:21.443817Z",
     "shell.execute_reply": "2023-04-10T04:28:21.442607Z"
    },
    "papermill": {
     "duration": 1.122206,
     "end_time": "2023-04-10T04:28:21.446589",
     "exception": false,
     "start_time": "2023-04-10T04:28:20.324383",
     "status": "completed"
    },
    "tags": []
   },
   "outputs": [],
   "source": [
    "# data analysis and wrangling\n",
    "import numpy as np\n",
    "import pandas as pd\n",
    "\n",
    "# visualization\n",
    "import seaborn as sns\n",
    "import matplotlib.pyplot as plt\n",
    "%matplotlib inline"
   ]
  },
  {
   "cell_type": "code",
   "execution_count": 2,
   "id": "36ab31b6",
   "metadata": {
    "execution": {
     "iopub.execute_input": "2023-04-10T04:28:21.465907Z",
     "iopub.status.busy": "2023-04-10T04:28:21.465473Z",
     "iopub.status.idle": "2023-04-10T04:28:21.470140Z",
     "shell.execute_reply": "2023-04-10T04:28:21.468856Z"
    },
    "papermill": {
     "duration": 0.016829,
     "end_time": "2023-04-10T04:28:21.472331",
     "exception": false,
     "start_time": "2023-04-10T04:28:21.455502",
     "status": "completed"
    },
    "tags": []
   },
   "outputs": [],
   "source": [
    "# from wand.image import Image as WImage\n",
    "# img = WImage(filename='/kaggle/input/welocalize/Welocalize - Assessment Instructions.pdf')\n",
    "# img"
   ]
  },
  {
   "cell_type": "markdown",
   "id": "53c74f4b",
   "metadata": {
    "papermill": {
     "duration": 0.008403,
     "end_time": "2023-04-10T04:28:21.489819",
     "exception": false,
     "start_time": "2023-04-10T04:28:21.481416",
     "status": "completed"
    },
    "tags": []
   },
   "source": [
    "# Assessment Criteria:\n",
    "Testing your: \n",
    "- [ ] creativity\n",
    "- [ ] analytics fundamentals\n",
    "- [ ] technical knowledge\n",
    "- [ ] communication\n",
    "- [ ] connecting data to people/processes/business outcomes\n",
    "\n",
    "1. How I create insights\n",
    "2. How I communicate insights\n",
    "3. Questions I ask Kevin/stakeholders before heading into analysis"
   ]
  },
  {
   "cell_type": "markdown",
   "id": "c166c6ec",
   "metadata": {
    "papermill": {
     "duration": 0.008443,
     "end_time": "2023-04-10T04:28:21.506993",
     "exception": false,
     "start_time": "2023-04-10T04:28:21.498550",
     "status": "completed"
    },
    "tags": []
   },
   "source": [
    "# Problem:\n",
    "\n",
    "* Interested in understanding how frequently we deliver to our customers on time, vs. how frequently we are late.\n",
    "* What factors contribute to our on-time delivery (OTD) rates. --correlations\n",
    "* And how we can do better at delivering on time? --theoretically and what data provides as delivery failure activity\n",
    "* Also interested to know what other insights you can derive from this data (not necessarily related to OTD rates). --looking at translation service's main KPI's and what what provided data can answer other than delivery time; look at competitors' case studies"
   ]
  },
  {
   "cell_type": "markdown",
   "id": "2d1c275d",
   "metadata": {
    "papermill": {
     "duration": 0.008634,
     "end_time": "2023-04-10T04:28:21.524334",
     "exception": false,
     "start_time": "2023-04-10T04:28:21.515700",
     "status": "completed"
    },
    "tags": []
   },
   "source": [
    "## Context around Problem:\n",
    "    \n",
    "* Why is this problem being investigated:\n",
    "\n",
    "At times, Welocalize has put a lot of focus/effort onto <font color='red'>client retention and satisfaction</font>. And we've heard from clients that <font color='red'>worse-than-expected on-time delivery rates</font> is one of the biggest things that makes them dissatisfied.\n",
    "\n",
    "* Company threshold for what is an alarming rate of tardy deliverables:\n",
    "\n",
    "It varies by customer and by program, but the great majority of customers expect <font color='red'>90-95%</font> of deliverables to be delivered on time.\n",
    "\n",
    "* What would be considered an improvement?\n",
    "\n",
    "Meeting customers' expectations.\n",
    "\n",
    "* What time interval are we measuring punctual/late deliveries (per month/per week)?\n",
    "\n",
    "Again, it can vary; some high-volume customers/programs might look at it daily. But probably the most typical way to look at it is <font color='red'>by month</font>.\n",
    "\n",
    "\n",
    "* Reason for heavy sparseness of data in column -average_duration_request_received_to_quoted_business_seconds:\n",
    "\n",
    "Some projects are not quoted, because we have a <font color='red'>long-term contract with the client that allows us to skip the quoting process</font>, and start work on all their requests/projects immediately, without any quote (and quote approval) process. If there is no quote for a given project, then there is no duration here."
   ]
  },
  {
   "cell_type": "code",
   "execution_count": 3,
   "id": "508a9a95",
   "metadata": {
    "execution": {
     "iopub.execute_input": "2023-04-10T04:28:21.543647Z",
     "iopub.status.busy": "2023-04-10T04:28:21.543194Z",
     "iopub.status.idle": "2023-04-10T04:28:45.000852Z",
     "shell.execute_reply": "2023-04-10T04:28:44.999638Z"
    },
    "papermill": {
     "duration": 23.470747,
     "end_time": "2023-04-10T04:28:45.003922",
     "exception": false,
     "start_time": "2023-04-10T04:28:21.533175",
     "status": "completed"
    },
    "tags": []
   },
   "outputs": [
    {
     "data": {
      "text/html": [
       "<div>\n",
       "<style scoped>\n",
       "    .dataframe tbody tr th:only-of-type {\n",
       "        vertical-align: middle;\n",
       "    }\n",
       "\n",
       "    .dataframe tbody tr th {\n",
       "        vertical-align: top;\n",
       "    }\n",
       "\n",
       "    .dataframe thead th {\n",
       "        text-align: right;\n",
       "    }\n",
       "</style>\n",
       "<table border=\"1\" class=\"dataframe\">\n",
       "  <thead>\n",
       "    <tr style=\"text-align: right;\">\n",
       "      <th></th>\n",
       "      <th>client_deliverable_id</th>\n",
       "      <th>date_client_deliverable_delivered</th>\n",
       "      <th>total_tasks</th>\n",
       "      <th>words</th>\n",
       "      <th>average_duration_request_received_to_quoted_business_seconds</th>\n",
       "      <th>average_duration_offer_sent_to_task_claimed_seconds</th>\n",
       "      <th>average_duration_task_claimed_to_task_started_seconds</th>\n",
       "      <th>translations_for_client_by_supplier_to_date</th>\n",
       "      <th>source_language_locale_code</th>\n",
       "      <th>target_language_locale_code</th>\n",
       "      <th>project_manager_id</th>\n",
       "      <th>requests_managed_simultaneously_by_project_manager</th>\n",
       "      <th>content_specialty</th>\n",
       "      <th>translation_supplier_id</th>\n",
       "      <th>service_line</th>\n",
       "      <th>lateness_of_client_deliverable_seconds</th>\n",
       "      <th>is_client_deliverable_past_due</th>\n",
       "    </tr>\n",
       "  </thead>\n",
       "  <tbody>\n",
       "    <tr>\n",
       "      <th>0</th>\n",
       "      <td>1639999</td>\n",
       "      <td>2022-02-02</td>\n",
       "      <td>11</td>\n",
       "      <td>21354</td>\n",
       "      <td>5572.340</td>\n",
       "      <td>103048.0</td>\n",
       "      <td>124904.0</td>\n",
       "      <td>1</td>\n",
       "      <td>en-US</td>\n",
       "      <td>ja-JP</td>\n",
       "      <td>3424244246268217782</td>\n",
       "      <td>816</td>\n",
       "      <td>Chemistry</td>\n",
       "      <td>Pantheon_11922</td>\n",
       "      <td>Legal &amp; Financial Services</td>\n",
       "      <td>NaN</td>\n",
       "      <td>N</td>\n",
       "    </tr>\n",
       "    <tr>\n",
       "      <th>1</th>\n",
       "      <td>1658115</td>\n",
       "      <td>2022-02-01</td>\n",
       "      <td>8</td>\n",
       "      <td>1344</td>\n",
       "      <td>5771.707</td>\n",
       "      <td>157246.0</td>\n",
       "      <td>188189.0</td>\n",
       "      <td>33</td>\n",
       "      <td>en-US</td>\n",
       "      <td>sq-AL</td>\n",
       "      <td>3908128739217598266</td>\n",
       "      <td>324</td>\n",
       "      <td>Chemistry</td>\n",
       "      <td>Pantheon_5920</td>\n",
       "      <td>Legal &amp; Financial Services</td>\n",
       "      <td>NaN</td>\n",
       "      <td>N</td>\n",
       "    </tr>\n",
       "    <tr>\n",
       "      <th>2</th>\n",
       "      <td>1658124</td>\n",
       "      <td>2022-02-01</td>\n",
       "      <td>12</td>\n",
       "      <td>20714</td>\n",
       "      <td>5771.707</td>\n",
       "      <td>352535.0</td>\n",
       "      <td>205806.0</td>\n",
       "      <td>13</td>\n",
       "      <td>en-US</td>\n",
       "      <td>el-GR</td>\n",
       "      <td>3908128739217598266</td>\n",
       "      <td>324</td>\n",
       "      <td>Chemistry</td>\n",
       "      <td>Pantheon_5881</td>\n",
       "      <td>Legal &amp; Financial Services</td>\n",
       "      <td>NaN</td>\n",
       "      <td>N</td>\n",
       "    </tr>\n",
       "    <tr>\n",
       "      <th>3</th>\n",
       "      <td>1658129</td>\n",
       "      <td>2022-02-01</td>\n",
       "      <td>7</td>\n",
       "      <td>1344</td>\n",
       "      <td>5771.707</td>\n",
       "      <td>204319.0</td>\n",
       "      <td>193394.0</td>\n",
       "      <td>16</td>\n",
       "      <td>en-US</td>\n",
       "      <td>lt-LT</td>\n",
       "      <td>3908128739217598266</td>\n",
       "      <td>324</td>\n",
       "      <td>Chemistry</td>\n",
       "      <td>Pantheon_5922</td>\n",
       "      <td>Legal &amp; Financial Services</td>\n",
       "      <td>NaN</td>\n",
       "      <td>N</td>\n",
       "    </tr>\n",
       "    <tr>\n",
       "      <th>4</th>\n",
       "      <td>1658134</td>\n",
       "      <td>2022-02-01</td>\n",
       "      <td>10</td>\n",
       "      <td>20714</td>\n",
       "      <td>5771.707</td>\n",
       "      <td>354784.0</td>\n",
       "      <td>339963.0</td>\n",
       "      <td>8</td>\n",
       "      <td>en-US</td>\n",
       "      <td>pt-PT</td>\n",
       "      <td>3908128739217598266</td>\n",
       "      <td>324</td>\n",
       "      <td>Chemistry</td>\n",
       "      <td>Pantheon_6813</td>\n",
       "      <td>Legal &amp; Financial Services</td>\n",
       "      <td>NaN</td>\n",
       "      <td>N</td>\n",
       "    </tr>\n",
       "    <tr>\n",
       "      <th>...</th>\n",
       "      <td>...</td>\n",
       "      <td>...</td>\n",
       "      <td>...</td>\n",
       "      <td>...</td>\n",
       "      <td>...</td>\n",
       "      <td>...</td>\n",
       "      <td>...</td>\n",
       "      <td>...</td>\n",
       "      <td>...</td>\n",
       "      <td>...</td>\n",
       "      <td>...</td>\n",
       "      <td>...</td>\n",
       "      <td>...</td>\n",
       "      <td>...</td>\n",
       "      <td>...</td>\n",
       "      <td>...</td>\n",
       "      <td>...</td>\n",
       "    </tr>\n",
       "    <tr>\n",
       "      <th>99694</th>\n",
       "      <td>5406402</td>\n",
       "      <td>2022-12-30</td>\n",
       "      <td>2</td>\n",
       "      <td>9</td>\n",
       "      <td>NaN</td>\n",
       "      <td>191.0</td>\n",
       "      <td>2026.0</td>\n",
       "      <td>112</td>\n",
       "      <td>en-US</td>\n",
       "      <td>ru-RU</td>\n",
       "      <td>6712390449850189908</td>\n",
       "      <td>17</td>\n",
       "      <td>Marketing</td>\n",
       "      <td>Pantheon_913</td>\n",
       "      <td>Localization</td>\n",
       "      <td>NaN</td>\n",
       "      <td>N</td>\n",
       "    </tr>\n",
       "    <tr>\n",
       "      <th>99695</th>\n",
       "      <td>5406925</td>\n",
       "      <td>2022-12-30</td>\n",
       "      <td>1</td>\n",
       "      <td>2</td>\n",
       "      <td>NaN</td>\n",
       "      <td>633.0</td>\n",
       "      <td>2.0</td>\n",
       "      <td>287</td>\n",
       "      <td>en-US</td>\n",
       "      <td>cs-CZ</td>\n",
       "      <td>1201051988300040006</td>\n",
       "      <td>34</td>\n",
       "      <td>Marketing</td>\n",
       "      <td>Pantheon_29997</td>\n",
       "      <td>Localization</td>\n",
       "      <td>NaN</td>\n",
       "      <td>N</td>\n",
       "    </tr>\n",
       "    <tr>\n",
       "      <th>99696</th>\n",
       "      <td>5407305</td>\n",
       "      <td>2022-12-30</td>\n",
       "      <td>2</td>\n",
       "      <td>50</td>\n",
       "      <td>NaN</td>\n",
       "      <td>NaN</td>\n",
       "      <td>713.0</td>\n",
       "      <td>831</td>\n",
       "      <td>en-US</td>\n",
       "      <td>ro-RO</td>\n",
       "      <td>2341318023614218099</td>\n",
       "      <td>181</td>\n",
       "      <td>Marketing</td>\n",
       "      <td>Pantheon_835</td>\n",
       "      <td>Localization</td>\n",
       "      <td>NaN</td>\n",
       "      <td>N</td>\n",
       "    </tr>\n",
       "    <tr>\n",
       "      <th>99697</th>\n",
       "      <td>5407454</td>\n",
       "      <td>2022-12-30</td>\n",
       "      <td>2</td>\n",
       "      <td>16</td>\n",
       "      <td>NaN</td>\n",
       "      <td>663.0</td>\n",
       "      <td>147.0</td>\n",
       "      <td>349</td>\n",
       "      <td>en-US</td>\n",
       "      <td>it-IT</td>\n",
       "      <td>2341318023614218099</td>\n",
       "      <td>179</td>\n",
       "      <td>Marketing</td>\n",
       "      <td>Pantheon_160</td>\n",
       "      <td>Localization</td>\n",
       "      <td>NaN</td>\n",
       "      <td>N</td>\n",
       "    </tr>\n",
       "    <tr>\n",
       "      <th>99698</th>\n",
       "      <td>5407717</td>\n",
       "      <td>2022-12-30</td>\n",
       "      <td>2</td>\n",
       "      <td>11</td>\n",
       "      <td>NaN</td>\n",
       "      <td>NaN</td>\n",
       "      <td>402.0</td>\n",
       "      <td>1806</td>\n",
       "      <td>en-US</td>\n",
       "      <td>ro-RO</td>\n",
       "      <td>4585138284221527820</td>\n",
       "      <td>31</td>\n",
       "      <td>Marketing</td>\n",
       "      <td>Pantheon_835</td>\n",
       "      <td>Localization</td>\n",
       "      <td>NaN</td>\n",
       "      <td>N</td>\n",
       "    </tr>\n",
       "  </tbody>\n",
       "</table>\n",
       "<p>99699 rows × 17 columns</p>\n",
       "</div>"
      ],
      "text/plain": [
       "       client_deliverable_id date_client_deliverable_delivered  total_tasks  \\\n",
       "0                    1639999                        2022-02-02           11   \n",
       "1                    1658115                        2022-02-01            8   \n",
       "2                    1658124                        2022-02-01           12   \n",
       "3                    1658129                        2022-02-01            7   \n",
       "4                    1658134                        2022-02-01           10   \n",
       "...                      ...                               ...          ...   \n",
       "99694                5406402                        2022-12-30            2   \n",
       "99695                5406925                        2022-12-30            1   \n",
       "99696                5407305                        2022-12-30            2   \n",
       "99697                5407454                        2022-12-30            2   \n",
       "99698                5407717                        2022-12-30            2   \n",
       "\n",
       "       words  average_duration_request_received_to_quoted_business_seconds  \\\n",
       "0      21354                                           5572.340              \n",
       "1       1344                                           5771.707              \n",
       "2      20714                                           5771.707              \n",
       "3       1344                                           5771.707              \n",
       "4      20714                                           5771.707              \n",
       "...      ...                                                ...              \n",
       "99694      9                                                NaN              \n",
       "99695      2                                                NaN              \n",
       "99696     50                                                NaN              \n",
       "99697     16                                                NaN              \n",
       "99698     11                                                NaN              \n",
       "\n",
       "       average_duration_offer_sent_to_task_claimed_seconds  \\\n",
       "0                                               103048.0     \n",
       "1                                               157246.0     \n",
       "2                                               352535.0     \n",
       "3                                               204319.0     \n",
       "4                                               354784.0     \n",
       "...                                                  ...     \n",
       "99694                                              191.0     \n",
       "99695                                              633.0     \n",
       "99696                                                NaN     \n",
       "99697                                              663.0     \n",
       "99698                                                NaN     \n",
       "\n",
       "       average_duration_task_claimed_to_task_started_seconds  \\\n",
       "0                                               124904.0       \n",
       "1                                               188189.0       \n",
       "2                                               205806.0       \n",
       "3                                               193394.0       \n",
       "4                                               339963.0       \n",
       "...                                                  ...       \n",
       "99694                                             2026.0       \n",
       "99695                                                2.0       \n",
       "99696                                              713.0       \n",
       "99697                                              147.0       \n",
       "99698                                              402.0       \n",
       "\n",
       "       translations_for_client_by_supplier_to_date  \\\n",
       "0                                                1   \n",
       "1                                               33   \n",
       "2                                               13   \n",
       "3                                               16   \n",
       "4                                                8   \n",
       "...                                            ...   \n",
       "99694                                          112   \n",
       "99695                                          287   \n",
       "99696                                          831   \n",
       "99697                                          349   \n",
       "99698                                         1806   \n",
       "\n",
       "      source_language_locale_code target_language_locale_code  \\\n",
       "0                           en-US                       ja-JP   \n",
       "1                           en-US                       sq-AL   \n",
       "2                           en-US                       el-GR   \n",
       "3                           en-US                       lt-LT   \n",
       "4                           en-US                       pt-PT   \n",
       "...                           ...                         ...   \n",
       "99694                       en-US                       ru-RU   \n",
       "99695                       en-US                       cs-CZ   \n",
       "99696                       en-US                       ro-RO   \n",
       "99697                       en-US                       it-IT   \n",
       "99698                       en-US                       ro-RO   \n",
       "\n",
       "        project_manager_id  \\\n",
       "0      3424244246268217782   \n",
       "1      3908128739217598266   \n",
       "2      3908128739217598266   \n",
       "3      3908128739217598266   \n",
       "4      3908128739217598266   \n",
       "...                    ...   \n",
       "99694  6712390449850189908   \n",
       "99695  1201051988300040006   \n",
       "99696  2341318023614218099   \n",
       "99697  2341318023614218099   \n",
       "99698  4585138284221527820   \n",
       "\n",
       "       requests_managed_simultaneously_by_project_manager content_specialty  \\\n",
       "0                                                    816          Chemistry   \n",
       "1                                                    324          Chemistry   \n",
       "2                                                    324          Chemistry   \n",
       "3                                                    324          Chemistry   \n",
       "4                                                    324          Chemistry   \n",
       "...                                                  ...                ...   \n",
       "99694                                                 17          Marketing   \n",
       "99695                                                 34          Marketing   \n",
       "99696                                                181          Marketing   \n",
       "99697                                                179          Marketing   \n",
       "99698                                                 31          Marketing   \n",
       "\n",
       "      translation_supplier_id                service_line  \\\n",
       "0              Pantheon_11922  Legal & Financial Services   \n",
       "1               Pantheon_5920  Legal & Financial Services   \n",
       "2               Pantheon_5881  Legal & Financial Services   \n",
       "3               Pantheon_5922  Legal & Financial Services   \n",
       "4               Pantheon_6813  Legal & Financial Services   \n",
       "...                       ...                         ...   \n",
       "99694            Pantheon_913                Localization   \n",
       "99695          Pantheon_29997                Localization   \n",
       "99696            Pantheon_835                Localization   \n",
       "99697            Pantheon_160                Localization   \n",
       "99698            Pantheon_835                Localization   \n",
       "\n",
       "       lateness_of_client_deliverable_seconds is_client_deliverable_past_due  \n",
       "0                                         NaN                              N  \n",
       "1                                         NaN                              N  \n",
       "2                                         NaN                              N  \n",
       "3                                         NaN                              N  \n",
       "4                                         NaN                              N  \n",
       "...                                       ...                            ...  \n",
       "99694                                     NaN                              N  \n",
       "99695                                     NaN                              N  \n",
       "99696                                     NaN                              N  \n",
       "99697                                     NaN                              N  \n",
       "99698                                     NaN                              N  \n",
       "\n",
       "[99699 rows x 17 columns]"
      ]
     },
     "execution_count": 3,
     "metadata": {},
     "output_type": "execute_result"
    }
   ],
   "source": [
    "data = pd.read_excel(r'/kaggle/input/welocalize/welocalize_dataset.xlsx', sheet_name= 'data')\n",
    "data"
   ]
  },
  {
   "cell_type": "code",
   "execution_count": 4,
   "id": "72458d5b",
   "metadata": {
    "execution": {
     "iopub.execute_input": "2023-04-10T04:28:45.025303Z",
     "iopub.status.busy": "2023-04-10T04:28:45.024722Z",
     "iopub.status.idle": "2023-04-10T04:28:45.031793Z",
     "shell.execute_reply": "2023-04-10T04:28:45.030530Z"
    },
    "papermill": {
     "duration": 0.020434,
     "end_time": "2023-04-10T04:28:45.034247",
     "exception": false,
     "start_time": "2023-04-10T04:28:45.013813",
     "status": "completed"
    },
    "tags": []
   },
   "outputs": [
    {
     "data": {
      "text/plain": [
       "(99699, 17)"
      ]
     },
     "execution_count": 4,
     "metadata": {},
     "output_type": "execute_result"
    }
   ],
   "source": [
    "data.shape"
   ]
  },
  {
   "cell_type": "code",
   "execution_count": 5,
   "id": "739b8587",
   "metadata": {
    "execution": {
     "iopub.execute_input": "2023-04-10T04:28:45.056589Z",
     "iopub.status.busy": "2023-04-10T04:28:45.056180Z",
     "iopub.status.idle": "2023-04-10T04:28:45.114995Z",
     "shell.execute_reply": "2023-04-10T04:28:45.113876Z"
    },
    "papermill": {
     "duration": 0.07218,
     "end_time": "2023-04-10T04:28:45.117301",
     "exception": false,
     "start_time": "2023-04-10T04:28:45.045121",
     "status": "completed"
    },
    "tags": []
   },
   "outputs": [
    {
     "name": "stdout",
     "output_type": "stream",
     "text": [
      "<class 'pandas.core.frame.DataFrame'>\n",
      "RangeIndex: 99699 entries, 0 to 99698\n",
      "Data columns (total 17 columns):\n",
      " #   Column                                                        Non-Null Count  Dtype  \n",
      "---  ------                                                        --------------  -----  \n",
      " 0   client_deliverable_id                                         99699 non-null  int64  \n",
      " 1   date_client_deliverable_delivered                             99699 non-null  object \n",
      " 2   total_tasks                                                   99699 non-null  int64  \n",
      " 3   words                                                         99699 non-null  int64  \n",
      " 4   average_duration_request_received_to_quoted_business_seconds  1579 non-null   float64\n",
      " 5   average_duration_offer_sent_to_task_claimed_seconds           92870 non-null  float64\n",
      " 6   average_duration_task_claimed_to_task_started_seconds         98391 non-null  float64\n",
      " 7   translations_for_client_by_supplier_to_date                   99699 non-null  int64  \n",
      " 8   source_language_locale_code                                   99699 non-null  object \n",
      " 9   target_language_locale_code                                   99699 non-null  object \n",
      " 10  project_manager_id                                            99699 non-null  int64  \n",
      " 11  requests_managed_simultaneously_by_project_manager            99699 non-null  int64  \n",
      " 12  content_specialty                                             99699 non-null  object \n",
      " 13  translation_supplier_id                                       99699 non-null  object \n",
      " 14  service_line                                                  99699 non-null  object \n",
      " 15  lateness_of_client_deliverable_seconds                        9437 non-null   float64\n",
      " 16  is_client_deliverable_past_due                                99699 non-null  object \n",
      "dtypes: float64(4), int64(6), object(7)\n",
      "memory usage: 12.9+ MB\n"
     ]
    }
   ],
   "source": [
    "data.info()"
   ]
  },
  {
   "cell_type": "code",
   "execution_count": 6,
   "id": "263514bb",
   "metadata": {
    "execution": {
     "iopub.execute_input": "2023-04-10T04:28:45.137752Z",
     "iopub.status.busy": "2023-04-10T04:28:45.137357Z",
     "iopub.status.idle": "2023-04-10T04:28:45.181179Z",
     "shell.execute_reply": "2023-04-10T04:28:45.180097Z"
    },
    "papermill": {
     "duration": 0.056743,
     "end_time": "2023-04-10T04:28:45.183657",
     "exception": false,
     "start_time": "2023-04-10T04:28:45.126914",
     "status": "completed"
    },
    "tags": []
   },
   "outputs": [
    {
     "data": {
      "text/plain": [
       "client_deliverable_id                                               0\n",
       "date_client_deliverable_delivered                                   0\n",
       "total_tasks                                                         0\n",
       "words                                                               0\n",
       "average_duration_request_received_to_quoted_business_seconds    98120\n",
       "average_duration_offer_sent_to_task_claimed_seconds              6829\n",
       "average_duration_task_claimed_to_task_started_seconds            1308\n",
       "translations_for_client_by_supplier_to_date                         0\n",
       "source_language_locale_code                                         0\n",
       "target_language_locale_code                                         0\n",
       "project_manager_id                                                  0\n",
       "requests_managed_simultaneously_by_project_manager                  0\n",
       "content_specialty                                                   0\n",
       "translation_supplier_id                                             0\n",
       "service_line                                                        0\n",
       "lateness_of_client_deliverable_seconds                          90262\n",
       "is_client_deliverable_past_due                                      0\n",
       "dtype: int64"
      ]
     },
     "execution_count": 6,
     "metadata": {},
     "output_type": "execute_result"
    }
   ],
   "source": [
    "data.isnull().sum()"
   ]
  },
  {
   "cell_type": "markdown",
   "id": "82964ee8",
   "metadata": {
    "execution": {
     "iopub.execute_input": "2023-04-08T18:06:37.022414Z",
     "iopub.status.busy": "2023-04-08T18:06:37.021958Z",
     "iopub.status.idle": "2023-04-08T18:06:37.027967Z",
     "shell.execute_reply": "2023-04-08T18:06:37.026581Z",
     "shell.execute_reply.started": "2023-04-08T18:06:37.022380Z"
    },
    "papermill": {
     "duration": 0.009523,
     "end_time": "2023-04-10T04:28:45.202975",
     "exception": false,
     "start_time": "2023-04-10T04:28:45.193452",
     "status": "completed"
    },
    "tags": []
   },
   "source": [
    "# SQL Pre-processing. Code here:\n",
    "1. Below are views created after separating out deliverable info from requests translation task info. Requests comprise of multiple deliverables. And deliverables have multiple tasks which can include a translation task. So the dataset is of mixed granularity.\n",
    "2. Taking out NULL values from is_client_deliverable_past_due (2 rows only; low % of whole dataset)\n",
    "3. Transforming data into correct data given column logic (boolean -> TRUE/FALSE)\n",
    "4. Creating consistent precision (round to nearest seconds vs having seconds to thousandth's place)\n"
   ]
  },
  {
   "cell_type": "code",
   "execution_count": 7,
   "id": "707dfa92",
   "metadata": {
    "execution": {
     "iopub.execute_input": "2023-04-10T04:28:45.224315Z",
     "iopub.status.busy": "2023-04-10T04:28:45.223550Z",
     "iopub.status.idle": "2023-04-10T04:28:45.750462Z",
     "shell.execute_reply": "2023-04-10T04:28:45.749295Z"
    },
    "papermill": {
     "duration": 0.540553,
     "end_time": "2023-04-10T04:28:45.753163",
     "exception": false,
     "start_time": "2023-04-10T04:28:45.212610",
     "status": "completed"
    },
    "tags": []
   },
   "outputs": [],
   "source": [
    "requests = pd.read_csv('/kaggle/input/welocalize/requests.csv')\n",
    "deliverables = pd.read_csv('/kaggle/input/welocalize/deliverables.csv')\n",
    "translation_task = pd.read_csv('/kaggle/input/welocalize/translation_task.csv')"
   ]
  },
  {
   "cell_type": "markdown",
   "id": "0960e10d",
   "metadata": {
    "execution": {
     "iopub.execute_input": "2023-04-08T21:20:38.259629Z",
     "iopub.status.busy": "2023-04-08T21:20:38.258440Z",
     "iopub.status.idle": "2023-04-08T21:20:38.266985Z",
     "shell.execute_reply": "2023-04-08T21:20:38.265835Z",
     "shell.execute_reply.started": "2023-04-08T21:20:38.259580Z"
    },
    "papermill": {
     "duration": 0.00945,
     "end_time": "2023-04-10T04:28:45.772444",
     "exception": false,
     "start_time": "2023-04-10T04:28:45.762994",
     "status": "completed"
    },
    "tags": []
   },
   "source": [
    "# CLASSIFYING"
   ]
  },
  {
   "cell_type": "markdown",
   "id": "15837b63",
   "metadata": {
    "papermill": {
     "duration": 0.009287,
     "end_time": "2023-04-10T04:28:45.791500",
     "exception": false,
     "start_time": "2023-04-10T04:28:45.782213",
     "status": "completed"
    },
    "tags": []
   },
   "source": [
    "# CORRELATING"
   ]
  },
  {
   "cell_type": "markdown",
   "id": "73bac2d4",
   "metadata": {
    "papermill": {
     "duration": 0.009319,
     "end_time": "2023-04-10T04:28:45.810429",
     "exception": false,
     "start_time": "2023-04-10T04:28:45.801110",
     "status": "completed"
    },
    "tags": []
   },
   "source": [
    "# CHARTING"
   ]
  },
  {
   "cell_type": "markdown",
   "id": "19a8de03",
   "metadata": {
    "execution": {
     "iopub.execute_input": "2023-04-08T21:48:09.380926Z",
     "iopub.status.busy": "2023-04-08T21:48:09.380494Z",
     "iopub.status.idle": "2023-04-08T21:48:09.406687Z",
     "shell.execute_reply": "2023-04-08T21:48:09.405747Z",
     "shell.execute_reply.started": "2023-04-08T21:48:09.380861Z"
    },
    "papermill": {
     "duration": 0.009696,
     "end_time": "2023-04-10T04:28:45.829700",
     "exception": false,
     "start_time": "2023-04-10T04:28:45.820004",
     "status": "completed"
    },
    "tags": []
   },
   "source": [
    "# Starting with deliverables:\n",
    "\n",
    "* Categorical:    \n",
    "date_client_deliverable_delivered, is_client_deliverable_past_due  \n",
    "\n",
    "* Numerical:\n",
    "total_tasks, words, average_duration_offer_sent_to_task_claimed_seconds, average_duration_task_claimed_to_task_started_seconds, lateness_of_client_deliverable_seconds \n",
    "\n",
    "* Columns with errors:\n",
    "There are no mixed data types. And features were corrected for Boolean column to have Boolean types and seconds measurements consistently rounded to tenths place."
   ]
  },
  {
   "cell_type": "markdown",
   "id": "ffe1c110",
   "metadata": {
    "papermill": {
     "duration": 0.009321,
     "end_time": "2023-04-10T04:28:45.848693",
     "exception": false,
     "start_time": "2023-04-10T04:28:45.839372",
     "status": "completed"
    },
    "tags": []
   },
   "source": [
    "Columns with blanks, null or empty values: The original dataset showed huge amount of sparseness in column: average_duration_request_received_to_quoted_business_seconds. So not much can be derived from this other than business is doing well if requests do not need quote before starting work on requests."
   ]
  },
  {
   "cell_type": "code",
   "execution_count": 8,
   "id": "27ce7326",
   "metadata": {
    "execution": {
     "iopub.execute_input": "2023-04-10T04:28:45.869862Z",
     "iopub.status.busy": "2023-04-10T04:28:45.869445Z",
     "iopub.status.idle": "2023-04-10T04:28:45.876329Z",
     "shell.execute_reply": "2023-04-10T04:28:45.875176Z"
    },
    "papermill": {
     "duration": 0.020253,
     "end_time": "2023-04-10T04:28:45.878767",
     "exception": false,
     "start_time": "2023-04-10T04:28:45.858514",
     "status": "completed"
    },
    "tags": []
   },
   "outputs": [
    {
     "data": {
      "text/plain": [
       "(99697, 11)"
      ]
     },
     "execution_count": 8,
     "metadata": {},
     "output_type": "execute_result"
    }
   ],
   "source": [
    "deliverables.shape"
   ]
  },
  {
   "cell_type": "code",
   "execution_count": 9,
   "id": "b49649c4",
   "metadata": {
    "execution": {
     "iopub.execute_input": "2023-04-10T04:28:45.899965Z",
     "iopub.status.busy": "2023-04-10T04:28:45.899578Z",
     "iopub.status.idle": "2023-04-10T04:28:45.916145Z",
     "shell.execute_reply": "2023-04-10T04:28:45.914888Z"
    },
    "papermill": {
     "duration": 0.030023,
     "end_time": "2023-04-10T04:28:45.918467",
     "exception": false,
     "start_time": "2023-04-10T04:28:45.888444",
     "status": "completed"
    },
    "tags": []
   },
   "outputs": [
    {
     "data": {
      "text/html": [
       "<div>\n",
       "<style scoped>\n",
       "    .dataframe tbody tr th:only-of-type {\n",
       "        vertical-align: middle;\n",
       "    }\n",
       "\n",
       "    .dataframe tbody tr th {\n",
       "        vertical-align: top;\n",
       "    }\n",
       "\n",
       "    .dataframe thead th {\n",
       "        text-align: right;\n",
       "    }\n",
       "</style>\n",
       "<table border=\"1\" class=\"dataframe\">\n",
       "  <thead>\n",
       "    <tr style=\"text-align: right;\">\n",
       "      <th></th>\n",
       "      <th>client_deliverable_id</th>\n",
       "      <th>date_client_deliverable_delivered</th>\n",
       "      <th>total_tasks</th>\n",
       "      <th>words</th>\n",
       "      <th>average_duration_offer_sent_to_task_claimed_seconds</th>\n",
       "      <th>average_duration_offer_sent_to_task_claimed_hours</th>\n",
       "      <th>average_duration_task_claimed_to_task_started_seconds</th>\n",
       "      <th>average_duration_task_claimed_to_task_started_days</th>\n",
       "      <th>lateness_of_client_deliverable_seconds</th>\n",
       "      <th>lateness_of_client_deliverable_days</th>\n",
       "      <th>is_client_deliverable_past_due</th>\n",
       "    </tr>\n",
       "  </thead>\n",
       "  <tbody>\n",
       "    <tr>\n",
       "      <th>0</th>\n",
       "      <td>1639999</td>\n",
       "      <td>2022-02-02</td>\n",
       "      <td>11</td>\n",
       "      <td>21354</td>\n",
       "      <td>103048.0</td>\n",
       "      <td>28.624444</td>\n",
       "      <td>124904.0</td>\n",
       "      <td>1.445648</td>\n",
       "      <td>NaN</td>\n",
       "      <td>NaN</td>\n",
       "      <td>False</td>\n",
       "    </tr>\n",
       "    <tr>\n",
       "      <th>1</th>\n",
       "      <td>1658115</td>\n",
       "      <td>2022-02-01</td>\n",
       "      <td>8</td>\n",
       "      <td>1344</td>\n",
       "      <td>157246.0</td>\n",
       "      <td>43.679444</td>\n",
       "      <td>188189.0</td>\n",
       "      <td>2.178113</td>\n",
       "      <td>NaN</td>\n",
       "      <td>NaN</td>\n",
       "      <td>False</td>\n",
       "    </tr>\n",
       "    <tr>\n",
       "      <th>2</th>\n",
       "      <td>1658124</td>\n",
       "      <td>2022-02-01</td>\n",
       "      <td>12</td>\n",
       "      <td>20714</td>\n",
       "      <td>352535.0</td>\n",
       "      <td>97.926389</td>\n",
       "      <td>205806.0</td>\n",
       "      <td>2.382014</td>\n",
       "      <td>NaN</td>\n",
       "      <td>NaN</td>\n",
       "      <td>False</td>\n",
       "    </tr>\n",
       "    <tr>\n",
       "      <th>3</th>\n",
       "      <td>1658129</td>\n",
       "      <td>2022-02-01</td>\n",
       "      <td>7</td>\n",
       "      <td>1344</td>\n",
       "      <td>204319.0</td>\n",
       "      <td>56.755278</td>\n",
       "      <td>193394.0</td>\n",
       "      <td>2.238356</td>\n",
       "      <td>NaN</td>\n",
       "      <td>NaN</td>\n",
       "      <td>False</td>\n",
       "    </tr>\n",
       "    <tr>\n",
       "      <th>4</th>\n",
       "      <td>1658134</td>\n",
       "      <td>2022-02-01</td>\n",
       "      <td>10</td>\n",
       "      <td>20714</td>\n",
       "      <td>354784.0</td>\n",
       "      <td>98.551111</td>\n",
       "      <td>339963.0</td>\n",
       "      <td>3.934757</td>\n",
       "      <td>NaN</td>\n",
       "      <td>NaN</td>\n",
       "      <td>False</td>\n",
       "    </tr>\n",
       "  </tbody>\n",
       "</table>\n",
       "</div>"
      ],
      "text/plain": [
       "   client_deliverable_id date_client_deliverable_delivered  total_tasks  \\\n",
       "0                1639999                        2022-02-02           11   \n",
       "1                1658115                        2022-02-01            8   \n",
       "2                1658124                        2022-02-01           12   \n",
       "3                1658129                        2022-02-01            7   \n",
       "4                1658134                        2022-02-01           10   \n",
       "\n",
       "   words  average_duration_offer_sent_to_task_claimed_seconds  \\\n",
       "0  21354                                           103048.0     \n",
       "1   1344                                           157246.0     \n",
       "2  20714                                           352535.0     \n",
       "3   1344                                           204319.0     \n",
       "4  20714                                           354784.0     \n",
       "\n",
       "   average_duration_offer_sent_to_task_claimed_hours  \\\n",
       "0                                          28.624444   \n",
       "1                                          43.679444   \n",
       "2                                          97.926389   \n",
       "3                                          56.755278   \n",
       "4                                          98.551111   \n",
       "\n",
       "   average_duration_task_claimed_to_task_started_seconds  \\\n",
       "0                                           124904.0       \n",
       "1                                           188189.0       \n",
       "2                                           205806.0       \n",
       "3                                           193394.0       \n",
       "4                                           339963.0       \n",
       "\n",
       "   average_duration_task_claimed_to_task_started_days  \\\n",
       "0                                           1.445648    \n",
       "1                                           2.178113    \n",
       "2                                           2.382014    \n",
       "3                                           2.238356    \n",
       "4                                           3.934757    \n",
       "\n",
       "   lateness_of_client_deliverable_seconds  \\\n",
       "0                                     NaN   \n",
       "1                                     NaN   \n",
       "2                                     NaN   \n",
       "3                                     NaN   \n",
       "4                                     NaN   \n",
       "\n",
       "   lateness_of_client_deliverable_days  is_client_deliverable_past_due  \n",
       "0                                  NaN                           False  \n",
       "1                                  NaN                           False  \n",
       "2                                  NaN                           False  \n",
       "3                                  NaN                           False  \n",
       "4                                  NaN                           False  "
      ]
     },
     "execution_count": 9,
     "metadata": {},
     "output_type": "execute_result"
    }
   ],
   "source": [
    "deliverables.head()"
   ]
  },
  {
   "cell_type": "code",
   "execution_count": 10,
   "id": "8ad298c9",
   "metadata": {
    "execution": {
     "iopub.execute_input": "2023-04-10T04:28:45.940910Z",
     "iopub.status.busy": "2023-04-10T04:28:45.940468Z",
     "iopub.status.idle": "2023-04-10T04:28:45.956280Z",
     "shell.execute_reply": "2023-04-10T04:28:45.955049Z"
    },
    "papermill": {
     "duration": 0.029931,
     "end_time": "2023-04-10T04:28:45.958721",
     "exception": false,
     "start_time": "2023-04-10T04:28:45.928790",
     "status": "completed"
    },
    "tags": []
   },
   "outputs": [
    {
     "data": {
      "text/plain": [
       "client_deliverable_id                                        0\n",
       "date_client_deliverable_delivered                            0\n",
       "total_tasks                                                  0\n",
       "words                                                        0\n",
       "average_duration_offer_sent_to_task_claimed_seconds       6828\n",
       "average_duration_offer_sent_to_task_claimed_hours         6828\n",
       "average_duration_task_claimed_to_task_started_seconds     1307\n",
       "average_duration_task_claimed_to_task_started_days        1307\n",
       "lateness_of_client_deliverable_seconds                   90260\n",
       "lateness_of_client_deliverable_days                      90260\n",
       "is_client_deliverable_past_due                               0\n",
       "dtype: int64"
      ]
     },
     "execution_count": 10,
     "metadata": {},
     "output_type": "execute_result"
    }
   ],
   "source": [
    "deliverables.isnull().sum()"
   ]
  },
  {
   "cell_type": "code",
   "execution_count": 11,
   "id": "e83a9c07",
   "metadata": {
    "execution": {
     "iopub.execute_input": "2023-04-10T04:28:45.981209Z",
     "iopub.status.busy": "2023-04-10T04:28:45.980585Z",
     "iopub.status.idle": "2023-04-10T04:28:46.032175Z",
     "shell.execute_reply": "2023-04-10T04:28:46.030919Z"
    },
    "papermill": {
     "duration": 0.065462,
     "end_time": "2023-04-10T04:28:46.034617",
     "exception": false,
     "start_time": "2023-04-10T04:28:45.969155",
     "status": "completed"
    },
    "tags": []
   },
   "outputs": [
    {
     "data": {
      "text/html": [
       "<div>\n",
       "<style scoped>\n",
       "    .dataframe tbody tr th:only-of-type {\n",
       "        vertical-align: middle;\n",
       "    }\n",
       "\n",
       "    .dataframe tbody tr th {\n",
       "        vertical-align: top;\n",
       "    }\n",
       "\n",
       "    .dataframe thead th {\n",
       "        text-align: right;\n",
       "    }\n",
       "</style>\n",
       "<table border=\"1\" class=\"dataframe\">\n",
       "  <thead>\n",
       "    <tr style=\"text-align: right;\">\n",
       "      <th></th>\n",
       "      <th>total_tasks</th>\n",
       "      <th>words</th>\n",
       "      <th>average_duration_offer_sent_to_task_claimed_hours</th>\n",
       "      <th>average_duration_task_claimed_to_task_started_days</th>\n",
       "      <th>lateness_of_client_deliverable_days</th>\n",
       "    </tr>\n",
       "  </thead>\n",
       "  <tbody>\n",
       "    <tr>\n",
       "      <th>count</th>\n",
       "      <td>99697.000000</td>\n",
       "      <td>99697.000000</td>\n",
       "      <td>92869.000000</td>\n",
       "      <td>98390.000000</td>\n",
       "      <td>9437.000000</td>\n",
       "    </tr>\n",
       "    <tr>\n",
       "      <th>mean</th>\n",
       "      <td>2.940700</td>\n",
       "      <td>1366.244441</td>\n",
       "      <td>15.161682</td>\n",
       "      <td>1.402456</td>\n",
       "      <td>10.326718</td>\n",
       "    </tr>\n",
       "    <tr>\n",
       "      <th>std</th>\n",
       "      <td>2.003716</td>\n",
       "      <td>6286.567791</td>\n",
       "      <td>36.195716</td>\n",
       "      <td>2.442345</td>\n",
       "      <td>16.522251</td>\n",
       "    </tr>\n",
       "    <tr>\n",
       "      <th>min</th>\n",
       "      <td>1.000000</td>\n",
       "      <td>0.000000</td>\n",
       "      <td>0.000278</td>\n",
       "      <td>0.000000</td>\n",
       "      <td>0.000014</td>\n",
       "    </tr>\n",
       "    <tr>\n",
       "      <th>25%</th>\n",
       "      <td>2.000000</td>\n",
       "      <td>24.000000</td>\n",
       "      <td>0.726944</td>\n",
       "      <td>0.116438</td>\n",
       "      <td>1.110137</td>\n",
       "    </tr>\n",
       "    <tr>\n",
       "      <th>50%</th>\n",
       "      <td>2.000000</td>\n",
       "      <td>120.000000</td>\n",
       "      <td>4.015278</td>\n",
       "      <td>0.611447</td>\n",
       "      <td>4.815762</td>\n",
       "    </tr>\n",
       "    <tr>\n",
       "      <th>75%</th>\n",
       "      <td>3.000000</td>\n",
       "      <td>578.000000</td>\n",
       "      <td>13.348611</td>\n",
       "      <td>1.680883</td>\n",
       "      <td>11.629934</td>\n",
       "    </tr>\n",
       "    <tr>\n",
       "      <th>max</th>\n",
       "      <td>61.000000</td>\n",
       "      <td>257709.000000</td>\n",
       "      <td>974.623611</td>\n",
       "      <td>75.913426</td>\n",
       "      <td>289.416480</td>\n",
       "    </tr>\n",
       "  </tbody>\n",
       "</table>\n",
       "</div>"
      ],
      "text/plain": [
       "        total_tasks          words  \\\n",
       "count  99697.000000   99697.000000   \n",
       "mean       2.940700    1366.244441   \n",
       "std        2.003716    6286.567791   \n",
       "min        1.000000       0.000000   \n",
       "25%        2.000000      24.000000   \n",
       "50%        2.000000     120.000000   \n",
       "75%        3.000000     578.000000   \n",
       "max       61.000000  257709.000000   \n",
       "\n",
       "       average_duration_offer_sent_to_task_claimed_hours  \\\n",
       "count                                       92869.000000   \n",
       "mean                                           15.161682   \n",
       "std                                            36.195716   \n",
       "min                                             0.000278   \n",
       "25%                                             0.726944   \n",
       "50%                                             4.015278   \n",
       "75%                                            13.348611   \n",
       "max                                           974.623611   \n",
       "\n",
       "       average_duration_task_claimed_to_task_started_days  \\\n",
       "count                                       98390.000000    \n",
       "mean                                            1.402456    \n",
       "std                                             2.442345    \n",
       "min                                             0.000000    \n",
       "25%                                             0.116438    \n",
       "50%                                             0.611447    \n",
       "75%                                             1.680883    \n",
       "max                                            75.913426    \n",
       "\n",
       "       lateness_of_client_deliverable_days  \n",
       "count                          9437.000000  \n",
       "mean                             10.326718  \n",
       "std                              16.522251  \n",
       "min                               0.000014  \n",
       "25%                               1.110137  \n",
       "50%                               4.815762  \n",
       "75%                              11.629934  \n",
       "max                             289.416480  "
      ]
     },
     "execution_count": 11,
     "metadata": {},
     "output_type": "execute_result"
    }
   ],
   "source": [
    "# Distribution of numerical features:`\n",
    "\n",
    "deliverables[['total_tasks',\n",
    " 'words',\n",
    " 'average_duration_offer_sent_to_task_claimed_hours',\n",
    " 'average_duration_task_claimed_to_task_started_days',\n",
    " 'lateness_of_client_deliverable_days']].describe()"
   ]
  },
  {
   "cell_type": "markdown",
   "id": "fa15369e",
   "metadata": {
    "execution": {
     "iopub.execute_input": "2023-04-08T21:59:37.514586Z",
     "iopub.status.busy": "2023-04-08T21:59:37.513315Z",
     "iopub.status.idle": "2023-04-08T21:59:37.522600Z",
     "shell.execute_reply": "2023-04-08T21:59:37.521211Z",
     "shell.execute_reply.started": "2023-04-08T21:59:37.514539Z"
    },
    "papermill": {
     "duration": 0.0102,
     "end_time": "2023-04-10T04:28:46.055718",
     "exception": false,
     "start_time": "2023-04-10T04:28:46.045518",
     "status": "completed"
    },
    "tags": []
   },
   "source": [
    "* Total samples: 99699\n",
    "* Average 3 tasks/deliverable with minimum 1 task and at most 61 tasks\n",
    "* Average amount of words translated in deliverable: 1366\n",
    "* Average time it takes for Welocalize to accept task: 54581 seconds/15 hours with max time: 40 days\n",
    "* Average time it takes for Welocalize to start accepted task: 1.4 days\n",
    "* Average late time on delivery: 10.3 days"
   ]
  },
  {
   "cell_type": "code",
   "execution_count": 12,
   "id": "d9c6c09c",
   "metadata": {
    "execution": {
     "iopub.execute_input": "2023-04-10T04:28:46.078678Z",
     "iopub.status.busy": "2023-04-10T04:28:46.077934Z",
     "iopub.status.idle": "2023-04-10T04:28:46.103186Z",
     "shell.execute_reply": "2023-04-10T04:28:46.101916Z"
    },
    "papermill": {
     "duration": 0.03933,
     "end_time": "2023-04-10T04:28:46.105576",
     "exception": false,
     "start_time": "2023-04-10T04:28:46.066246",
     "status": "completed"
    },
    "tags": []
   },
   "outputs": [
    {
     "data": {
      "text/html": [
       "<div>\n",
       "<style scoped>\n",
       "    .dataframe tbody tr th:only-of-type {\n",
       "        vertical-align: middle;\n",
       "    }\n",
       "\n",
       "    .dataframe tbody tr th {\n",
       "        vertical-align: top;\n",
       "    }\n",
       "\n",
       "    .dataframe thead th {\n",
       "        text-align: right;\n",
       "    }\n",
       "</style>\n",
       "<table border=\"1\" class=\"dataframe\">\n",
       "  <thead>\n",
       "    <tr style=\"text-align: right;\">\n",
       "      <th></th>\n",
       "      <th>date_client_deliverable_delivered</th>\n",
       "    </tr>\n",
       "  </thead>\n",
       "  <tbody>\n",
       "    <tr>\n",
       "      <th>count</th>\n",
       "      <td>99697</td>\n",
       "    </tr>\n",
       "    <tr>\n",
       "      <th>unique</th>\n",
       "      <td>364</td>\n",
       "    </tr>\n",
       "    <tr>\n",
       "      <th>top</th>\n",
       "      <td>2022-10-19</td>\n",
       "    </tr>\n",
       "    <tr>\n",
       "      <th>freq</th>\n",
       "      <td>571</td>\n",
       "    </tr>\n",
       "  </tbody>\n",
       "</table>\n",
       "</div>"
      ],
      "text/plain": [
       "       date_client_deliverable_delivered\n",
       "count                              99697\n",
       "unique                               364\n",
       "top                           2022-10-19\n",
       "freq                                 571"
      ]
     },
     "execution_count": 12,
     "metadata": {},
     "output_type": "execute_result"
    }
   ],
   "source": [
    "# Distribution of categorical features:\n",
    "\n",
    "deliverables.describe(include=['O'])"
   ]
  },
  {
   "cell_type": "markdown",
   "id": "c35be2d5",
   "metadata": {
    "papermill": {
     "duration": 0.01035,
     "end_time": "2023-04-10T04:28:46.126734",
     "exception": false,
     "start_time": "2023-04-10T04:28:46.116384",
     "status": "completed"
    },
    "tags": []
   },
   "source": [
    "* date delivered:\n",
    "** sample is almost whole year: 2022\n",
    "** looks like there was a huge deadline/submissions on 10/19\n",
    "* flag for client deliverable being past due date:\n",
    "** two missing values\n",
    "** majority of deliverables are not late"
   ]
  },
  {
   "cell_type": "markdown",
   "id": "2aa020cc",
   "metadata": {
    "execution": {
     "iopub.execute_input": "2023-04-10T00:18:07.272877Z",
     "iopub.status.busy": "2023-04-10T00:18:07.271585Z",
     "iopub.status.idle": "2023-04-10T00:18:07.295410Z",
     "shell.execute_reply": "2023-04-10T00:18:07.293765Z",
     "shell.execute_reply.started": "2023-04-10T00:18:07.272818Z"
    },
    "papermill": {
     "duration": 0.010446,
     "end_time": "2023-04-10T04:28:46.147885",
     "exception": false,
     "start_time": "2023-04-10T04:28:46.137439",
     "status": "completed"
    },
    "tags": []
   },
   "source": [
    "# Visualizations"
   ]
  },
  {
   "cell_type": "code",
   "execution_count": 13,
   "id": "8cdef958",
   "metadata": {
    "execution": {
     "iopub.execute_input": "2023-04-10T04:28:46.171776Z",
     "iopub.status.busy": "2023-04-10T04:28:46.170812Z",
     "iopub.status.idle": "2023-04-10T04:28:46.175424Z",
     "shell.execute_reply": "2023-04-10T04:28:46.174584Z"
    },
    "papermill": {
     "duration": 0.019211,
     "end_time": "2023-04-10T04:28:46.177691",
     "exception": false,
     "start_time": "2023-04-10T04:28:46.158480",
     "status": "completed"
    },
    "tags": []
   },
   "outputs": [],
   "source": [
    "# Time Interval We are Looking At"
   ]
  },
  {
   "cell_type": "code",
   "execution_count": 14,
   "id": "e10f9b55",
   "metadata": {
    "execution": {
     "iopub.execute_input": "2023-04-10T04:28:46.200460Z",
     "iopub.status.busy": "2023-04-10T04:28:46.200079Z",
     "iopub.status.idle": "2023-04-10T04:28:46.611152Z",
     "shell.execute_reply": "2023-04-10T04:28:46.610237Z"
    },
    "papermill": {
     "duration": 0.425059,
     "end_time": "2023-04-10T04:28:46.613394",
     "exception": false,
     "start_time": "2023-04-10T04:28:46.188335",
     "status": "completed"
    },
    "tags": []
   },
   "outputs": [
    {
     "data": {
      "image/png": "[encoded data removed]",
      "text/plain": [
       "<Figure size 1800x800 with 2 Axes>"
      ]
     },
     "metadata": {},
     "output_type": "display_data"
    }
   ],
   "source": [
    "# How Many Delivered On Time?\n",
    "\n",
    "f,ax=plt.subplots(1,2,figsize=(18,8))\n",
    "deliverables['is_client_deliverable_past_due'].value_counts().plot.pie(explode=[0,0.1],autopct='%1.1f%%',ax=ax[0],shadow=True)\n",
    "ax[0].set_title('OTD Percentage')\n",
    "ax[0].set_ylabel('')\n",
    "sns.countplot(x = 'is_client_deliverable_past_due',data=deliverables,ax=ax[1]) \n",
    "ax[1].set_title('OTD Count')\n",
    "plt.show()"
   ]
  },
  {
   "cell_type": "markdown",
   "id": "9282fabb",
   "metadata": {
    "papermill": {
     "duration": 0.011317,
     "end_time": "2023-04-10T04:28:46.636681",
     "exception": false,
     "start_time": "2023-04-10T04:28:46.625364",
     "status": "completed"
    },
    "tags": []
   },
   "source": [
    "Percentage of non-OTD is around 10%. And after some discussion with stakeholder, customer expects 90-95% deliverables to be on time even though Welocalize aims for 100%. So year 2022 OTD metric was within range, but there is still room for improvement. "
   ]
  },
  {
   "cell_type": "markdown",
   "id": "a30e69ca",
   "metadata": {
    "execution": {
     "iopub.execute_input": "2023-04-10T02:54:06.398942Z",
     "iopub.status.busy": "2023-04-10T02:54:06.398388Z",
     "iopub.status.idle": "2023-04-10T02:54:06.405672Z",
     "shell.execute_reply": "2023-04-10T02:54:06.403992Z",
     "shell.execute_reply.started": "2023-04-10T02:54:06.398898Z"
    },
    "papermill": {
     "duration": 0.011343,
     "end_time": "2023-04-10T04:28:46.659774",
     "exception": false,
     "start_time": "2023-04-10T04:28:46.648431",
     "status": "completed"
    },
    "tags": []
   },
   "source": [
    "# Analyzing Columns That Could Contribute to Delivery Time"
   ]
  },
  {
   "cell_type": "markdown",
   "id": "d5289717",
   "metadata": {
    "papermill": {
     "duration": 0.011336,
     "end_time": "2023-04-10T04:28:46.683308",
     "exception": false,
     "start_time": "2023-04-10T04:28:46.671972",
     "status": "completed"
    },
    "tags": []
   },
   "source": [
    "# Reminder\n",
    "\n",
    "Categorical:\n",
    "date_client_deliverable_delivered, is_client_deliverable_past_due\n",
    "\n",
    "Numerical: total_tasks, words, average_duration_offer_sent_to_task_claimed_seconds, average_duration_task_claimed_to_task_started_seconds, lateness_of_client_deliverable_seconds\n",
    "\n",
    "Columns with errors: There are no mixed data types. And features were corrected for Boolean column to have Boolean types and seconds measurements consistently rounded to tenths place."
   ]
  },
  {
   "cell_type": "code",
   "execution_count": 15,
   "id": "7b0b0da1",
   "metadata": {
    "execution": {
     "iopub.execute_input": "2023-04-10T04:28:46.708915Z",
     "iopub.status.busy": "2023-04-10T04:28:46.707900Z",
     "iopub.status.idle": "2023-04-10T04:28:46.731150Z",
     "shell.execute_reply": "2023-04-10T04:28:46.729795Z"
    },
    "papermill": {
     "duration": 0.03871,
     "end_time": "2023-04-10T04:28:46.733645",
     "exception": false,
     "start_time": "2023-04-10T04:28:46.694935",
     "status": "completed"
    },
    "tags": []
   },
   "outputs": [
    {
     "data": {
      "text/plain": [
       "('2022-01-01', '2022-12-30')"
      ]
     },
     "execution_count": 15,
     "metadata": {},
     "output_type": "execute_result"
    }
   ],
   "source": [
    "# Dataset Timeframe\n",
    "deliverables.date_client_deliverable_delivered.min(), deliverables.date_client_deliverable_delivered.max()\n"
   ]
  },
  {
   "cell_type": "markdown",
   "id": "c1552249",
   "metadata": {
    "execution": {
     "iopub.execute_input": "2023-04-10T04:08:20.946757Z",
     "iopub.status.busy": "2023-04-10T04:08:20.946248Z",
     "iopub.status.idle": "2023-04-10T04:08:20.956358Z",
     "shell.execute_reply": "2023-04-10T04:08:20.954914Z",
     "shell.execute_reply.started": "2023-04-10T04:08:20.946713Z"
    },
    "papermill": {
     "duration": 0.011552,
     "end_time": "2023-04-10T04:28:46.757190",
     "exception": false,
     "start_time": "2023-04-10T04:28:46.745638",
     "status": "completed"
    },
    "tags": []
   },
   "source": [
    "Total timeframe of data is 354 days from year: 2022."
   ]
  },
  {
   "cell_type": "code",
   "execution_count": 16,
   "id": "2cf5acd8",
   "metadata": {
    "execution": {
     "iopub.execute_input": "2023-04-10T04:28:46.783217Z",
     "iopub.status.busy": "2023-04-10T04:28:46.782130Z",
     "iopub.status.idle": "2023-04-10T04:28:46.795680Z",
     "shell.execute_reply": "2023-04-10T04:28:46.794473Z"
    },
    "papermill": {
     "duration": 0.029069,
     "end_time": "2023-04-10T04:28:46.798242",
     "exception": false,
     "start_time": "2023-04-10T04:28:46.769173",
     "status": "completed"
    },
    "tags": []
   },
   "outputs": [],
   "source": [
    "# Let's get different trends of OTD and non-OTD broken down by month and week.\n",
    "monthly = pd.read_csv('/kaggle/input/welocalize/month_freqs.csv')\n",
    "weekly = pd.read_csv('/kaggle/input/welocalize/week_freqs.csv')"
   ]
  },
  {
   "cell_type": "markdown",
   "id": "a968d5c5",
   "metadata": {
    "papermill": {
     "duration": 0.011332,
     "end_time": "2023-04-10T04:28:46.821470",
     "exception": false,
     "start_time": "2023-04-10T04:28:46.810138",
     "status": "completed"
    },
    "tags": []
   },
   "source": [
    "OTD percent is total # of on time deliverables over total deliverables and for non-OTD vice versa.\n",
    "\n",
    "### Monthly:"
   ]
  },
  {
   "cell_type": "code",
   "execution_count": 17,
   "id": "8daf3541",
   "metadata": {
    "execution": {
     "iopub.execute_input": "2023-04-10T04:28:46.847356Z",
     "iopub.status.busy": "2023-04-10T04:28:46.846943Z",
     "iopub.status.idle": "2023-04-10T04:28:47.050337Z",
     "shell.execute_reply": "2023-04-10T04:28:47.049083Z"
    },
    "papermill": {
     "duration": 0.219093,
     "end_time": "2023-04-10T04:28:47.052888",
     "exception": false,
     "start_time": "2023-04-10T04:28:46.833795",
     "status": "completed"
    },
    "tags": []
   },
   "outputs": [
    {
     "data": {
      "image/png": "[encoded data removed]",
      "text/plain": [
       "<Figure size 640x480 with 1 Axes>"
      ]
     },
     "metadata": {},
     "output_type": "display_data"
    }
   ],
   "source": [
    "monthly.plot(x=\"month\", y=[\"non_otd_perc\", \"otd_perc\"])\n",
    "plt.ylabel('Percentage')\n",
    "plt.show()"
   ]
  },
  {
   "cell_type": "markdown",
   "id": "00135607",
   "metadata": {
    "papermill": {
     "duration": 0.012022,
     "end_time": "2023-04-10T04:28:47.077565",
     "exception": false,
     "start_time": "2023-04-10T04:28:47.065543",
     "status": "completed"
    },
    "tags": []
   },
   "source": [
    "This just shows us how big of a difference there is between OTD's and non-OTD's. "
   ]
  },
  {
   "cell_type": "code",
   "execution_count": 18,
   "id": "7b5418b6",
   "metadata": {
    "execution": {
     "iopub.execute_input": "2023-04-10T04:28:47.104486Z",
     "iopub.status.busy": "2023-04-10T04:28:47.104048Z",
     "iopub.status.idle": "2023-04-10T04:28:47.425594Z",
     "shell.execute_reply": "2023-04-10T04:28:47.424744Z"
    },
    "papermill": {
     "duration": 0.337926,
     "end_time": "2023-04-10T04:28:47.428272",
     "exception": false,
     "start_time": "2023-04-10T04:28:47.090346",
     "status": "completed"
    },
    "tags": []
   },
   "outputs": [
    {
     "data": {
      "image/png": "[encoded data removed]",
      "text/plain": [
       "<Figure size 1200x500 with 2 Axes>"
      ]
     },
     "metadata": {},
     "output_type": "display_data"
    }
   ],
   "source": [
    "plt.figure(figsize=(12,5))\n",
    "plt.xlabel('Month')\n",
    "plt.ylabel('Percentage')\n",
    "\n",
    "ax1 = monthly.otd_perc.plot(color='green', grid=True, label='OTD')\n",
    "ax2 = monthly.non_otd_perc.plot(color='red', grid=True, secondary_y=True, label='non-OTD')\n",
    "\n",
    "ax1.legend(loc=2)\n",
    "ax2.legend(loc=1)\n",
    "\n",
    "plt.show()"
   ]
  },
  {
   "cell_type": "markdown",
   "id": "92d99e58",
   "metadata": {
    "papermill": {
     "duration": 0.013027,
     "end_time": "2023-04-10T04:28:47.455090",
     "exception": false,
     "start_time": "2023-04-10T04:28:47.442063",
     "status": "completed"
    },
    "tags": []
   },
   "source": [
    "This graph is more illuminating because it let's us see better inflections within each percentage and between OTD's and non-OTD's, when trend is down, what is the relationship with the other graph. \n",
    "\n",
    "## Observation:\n",
    "As we can see here is that OTD's hit a low in March and have peaked after that with a slight dip at end of the year. Would be interesting to see what contributed to non-OTD's in March and peak of OTD's in October."
   ]
  },
  {
   "cell_type": "markdown",
   "id": "ab340d91",
   "metadata": {
    "papermill": {
     "duration": 0.013367,
     "end_time": "2023-04-10T04:28:47.482303",
     "exception": false,
     "start_time": "2023-04-10T04:28:47.468936",
     "status": "completed"
    },
    "tags": []
   },
   "source": [
    "### Weekly"
   ]
  },
  {
   "cell_type": "code",
   "execution_count": 19,
   "id": "36ae9817",
   "metadata": {
    "execution": {
     "iopub.execute_input": "2023-04-10T04:28:47.511700Z",
     "iopub.status.busy": "2023-04-10T04:28:47.510565Z",
     "iopub.status.idle": "2023-04-10T04:28:47.803744Z",
     "shell.execute_reply": "2023-04-10T04:28:47.802791Z"
    },
    "papermill": {
     "duration": 0.311151,
     "end_time": "2023-04-10T04:28:47.806924",
     "exception": false,
     "start_time": "2023-04-10T04:28:47.495773",
     "status": "completed"
    },
    "tags": []
   },
   "outputs": [
    {
     "data": {
      "image/png": "[encoded data removed]",
      "text/plain": [
       "<Figure size 1800x500 with 2 Axes>"
      ]
     },
     "metadata": {},
     "output_type": "display_data"
    }
   ],
   "source": [
    "plt.figure(figsize=(18,5))\n",
    "plt.xlabel('Week')\n",
    "plt.ylabel('Percentage')\n",
    "\n",
    "ax1 = weekly.otd_perc.plot(color='seagreen', grid=True, label='OTD')\n",
    "ax2 = weekly.non_otd_perc.plot(color='pink', grid=True, secondary_y=True, label='non-OTD')\n",
    "\n",
    "ax1.legend(loc=2)\n",
    "ax2.legend(loc=1)\n",
    "\n",
    "plt.show()"
   ]
  },
  {
   "cell_type": "markdown",
   "id": "6e8f0a32",
   "metadata": {
    "papermill": {
     "duration": 0.014962,
     "end_time": "2023-04-10T04:28:47.837388",
     "exception": false,
     "start_time": "2023-04-10T04:28:47.822426",
     "status": "completed"
    },
    "tags": []
   },
   "source": [
    "## Observation:\n",
    "\n",
    "It gets more interesting at the weekly level. At this level of granularity, we see OTD's drop significantly every 10 weeks until appoximately 32nd week of 2022/August."
   ]
  },
  {
   "cell_type": "code",
   "execution_count": 20,
   "id": "c8fb3fc6",
   "metadata": {
    "execution": {
     "iopub.execute_input": "2023-04-10T04:28:47.870069Z",
     "iopub.status.busy": "2023-04-10T04:28:47.869350Z",
     "iopub.status.idle": "2023-04-10T04:28:47.873264Z",
     "shell.execute_reply": "2023-04-10T04:28:47.872470Z"
    },
    "papermill": {
     "duration": 0.022522,
     "end_time": "2023-04-10T04:28:47.875290",
     "exception": false,
     "start_time": "2023-04-10T04:28:47.852768",
     "status": "completed"
    },
    "tags": []
   },
   "outputs": [],
   "source": [
    "# Day of Month"
   ]
  },
  {
   "cell_type": "code",
   "execution_count": 21,
   "id": "55cbcf4f",
   "metadata": {
    "execution": {
     "iopub.execute_input": "2023-04-10T04:28:47.907692Z",
     "iopub.status.busy": "2023-04-10T04:28:47.907018Z",
     "iopub.status.idle": "2023-04-10T04:28:47.910947Z",
     "shell.execute_reply": "2023-04-10T04:28:47.910147Z"
    },
    "papermill": {
     "duration": 0.02221,
     "end_time": "2023-04-10T04:28:47.912929",
     "exception": false,
     "start_time": "2023-04-10T04:28:47.890719",
     "status": "completed"
    },
    "tags": []
   },
   "outputs": [],
   "source": [
    "# Day in Week"
   ]
  }
 ],
 "metadata": {
  "kernelspec": {
   "display_name": "Python 3",
   "language": "python",
   "name": "python3"
  },
  "language_info": {
   "codemirror_mode": {
    "name": "ipython",
    "version": 3
   },
   "file_extension": ".py",
   "mimetype": "text/x-python",
   "name": "python",
   "nbconvert_exporter": "python",
   "pygments_lexer": "ipython3",
   "version": "3.7.12"
  },
  "papermill": {
   "default_parameters": {},
   "duration": 37.990018,
   "end_time": "2023-04-10T04:28:48.650320",
   "environment_variables": {},
   "exception": null,
   "input_path": "__notebook__.ipynb",
   "output_path": "__notebook__.ipynb",
   "parameters": {},
   "start_time": "2023-04-10T04:28:10.660302",
   "version": "2.4.0"
  }
 },
 "nbformat": 4,
 "nbformat_minor": 5
}
