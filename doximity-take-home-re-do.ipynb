{
 "cells": [
  {
   "cell_type": "markdown",
   "id": "40ab4267",
   "metadata": {
    "papermill": {
     "duration": 0.003892,
     "end_time": "2023-04-24T23:56:37.775919",
     "exception": false,
     "start_time": "2023-04-24T23:56:37.772027",
     "status": "completed"
    },
    "tags": []
   },
   "source": [
    "# Objectives:\n",
    "\n",
    "a. Perform an exploratory investigation of the data. **Identify one or two trends in the data** that are interesting from a data perspective.\n",
    "\n",
    "    -Do the trends you observe have any effect on how you would build your **ranking feature?**\n",
    "    -Are there any **inconsistencies in the data** that could have any effect on how you would build your ranking feature?  \n",
    "    -How would you **communicate** these findings to a non-technical project manager?\n",
    "\n",
    "b. How much web traffic are users' profiles receiving from internal and external sources? Is it reasonable to include both data sources in the product feature?\n",
    "\n",
    "c. Generate a ranking for profile views. How would you present the profile view data for a \"Rank for Profile Views\" feature?"
   ]
  },
  {
   "cell_type": "code",
   "execution_count": 1,
   "id": "76c80e03",
   "metadata": {
    "_cell_guid": "b1076dfc-b9ad-4769-8c92-a6c4dae69d19",
    "_uuid": "8f2839f25d086af736a60e9eeb907d3b93b6e0e5",
    "execution": {
     "iopub.execute_input": "2023-04-24T23:56:37.784194Z",
     "iopub.status.busy": "2023-04-24T23:56:37.783625Z",
     "iopub.status.idle": "2023-04-24T23:56:39.291891Z",
     "shell.execute_reply": "2023-04-24T23:56:39.290462Z"
    },
    "papermill": {
     "duration": 1.516287,
     "end_time": "2023-04-24T23:56:39.295314",
     "exception": false,
     "start_time": "2023-04-24T23:56:37.779027",
     "status": "completed"
    },
    "tags": []
   },
   "outputs": [],
   "source": [
    "import numpy as np # linear algebra\n",
    "import pandas as pd # data processing, CSV file I/O (e.g. pd.read_csv)\n",
    "\n",
    "import matplotlib.pyplot as plt\n",
    "%matplotlib inline\n",
    "import seaborn as sns\n",
    "color = sns.color_palette()\n",
    "\n",
    "import sklearn as sk"
   ]
  },
  {
   "cell_type": "markdown",
   "id": "6fb5742c",
   "metadata": {
    "papermill": {
     "duration": 0.002549,
     "end_time": "2023-04-24T23:56:39.300873",
     "exception": false,
     "start_time": "2023-04-24T23:56:39.298324",
     "status": "completed"
    },
    "tags": []
   },
   "source": [
    "# Data"
   ]
  },
  {
   "cell_type": "code",
   "execution_count": 2,
   "id": "3525de69",
   "metadata": {
    "execution": {
     "iopub.execute_input": "2023-04-24T23:56:39.308444Z",
     "iopub.status.busy": "2023-04-24T23:56:39.307996Z",
     "iopub.status.idle": "2023-04-24T23:56:46.047985Z",
     "shell.execute_reply": "2023-04-24T23:56:46.046736Z"
    },
    "papermill": {
     "duration": 6.74751,
     "end_time": "2023-04-24T23:56:46.051118",
     "exception": false,
     "start_time": "2023-04-24T23:56:39.303608",
     "status": "completed"
    },
    "tags": []
   },
   "outputs": [],
   "source": [
    "users = pd.read_csv('http://hrcdn.net/s3_pub/istreet-assets/XU-eVWAH43QNpS0y5YfYow/users.csv')\n",
    "user_profile_urls = pd.read_csv('http://hrcdn.net/s3_pub/istreet-assets/ZJP4_K3y3b-Mh7FvwjLhUA/user_profile_urls.csv')\n",
    "titles = pd.DataFrame(np.array([[2, 'Assistant Professor'], [1, 'Full professor'], [6, 'Other'], [3, 'Postdoctoral assistant'], [5, 'Student']]), columns=['id', 'title'])\n",
    "titles['id'] = titles['id'].astype(int)\n",
    "internal_profile_views = pd.read_csv('http://hrcdn.net/s3_pub/istreet-assets/P0nIDnNJq8dA-l-E4w4QgQ/internal_profile_views.csv')\n",
    "external_profile_views = pd.read_csv('http://hrcdn.net/s3_pub/istreet-assets/tE7PDLQbw_chlLTwRUI_Cw/external_profile_views.csv')"
   ]
  },
  {
   "cell_type": "code",
   "execution_count": 3,
   "id": "8d57a408",
   "metadata": {
    "execution": {
     "iopub.execute_input": "2023-04-24T23:56:46.058877Z",
     "iopub.status.busy": "2023-04-24T23:56:46.058457Z",
     "iopub.status.idle": "2023-04-24T23:56:46.085420Z",
     "shell.execute_reply": "2023-04-24T23:56:46.083884Z"
    },
    "papermill": {
     "duration": 0.034463,
     "end_time": "2023-04-24T23:56:46.088625",
     "exception": false,
     "start_time": "2023-04-24T23:56:46.054162",
     "status": "completed"
    },
    "tags": []
   },
   "outputs": [
    {
     "data": {
      "text/html": [
       "<div>\n",
       "<style scoped>\n",
       "    .dataframe tbody tr th:only-of-type {\n",
       "        vertical-align: middle;\n",
       "    }\n",
       "\n",
       "    .dataframe tbody tr th {\n",
       "        vertical-align: top;\n",
       "    }\n",
       "\n",
       "    .dataframe thead th {\n",
       "        text-align: right;\n",
       "    }\n",
       "</style>\n",
       "<table border=\"1\" class=\"dataframe\">\n",
       "  <thead>\n",
       "    <tr style=\"text-align: right;\">\n",
       "      <th></th>\n",
       "      <th>id</th>\n",
       "      <th>public_profile_url</th>\n",
       "      <th>unique_PageViews</th>\n",
       "    </tr>\n",
       "  </thead>\n",
       "  <tbody>\n",
       "    <tr>\n",
       "      <th>0</th>\n",
       "      <td>1</td>\n",
       "      <td>/pub/david-brown-ms</td>\n",
       "      <td>1</td>\n",
       "    </tr>\n",
       "    <tr>\n",
       "      <th>1</th>\n",
       "      <td>2</td>\n",
       "      <td>/pub/julie-fremont-ms</td>\n",
       "      <td>1</td>\n",
       "    </tr>\n",
       "    <tr>\n",
       "      <th>2</th>\n",
       "      <td>3</td>\n",
       "      <td>/cv/tara-cutler</td>\n",
       "      <td>5</td>\n",
       "    </tr>\n",
       "    <tr>\n",
       "      <th>3</th>\n",
       "      <td>4</td>\n",
       "      <td>/pub/michael-morrell-ms</td>\n",
       "      <td>14</td>\n",
       "    </tr>\n",
       "    <tr>\n",
       "      <th>4</th>\n",
       "      <td>5</td>\n",
       "      <td>/cv/daniel-paterniti</td>\n",
       "      <td>1</td>\n",
       "    </tr>\n",
       "  </tbody>\n",
       "</table>\n",
       "</div>"
      ],
      "text/plain": [
       "   id       public_profile_url  unique_PageViews\n",
       "0   1      /pub/david-brown-ms                 1\n",
       "1   2    /pub/julie-fremont-ms                 1\n",
       "2   3          /cv/tara-cutler                 5\n",
       "3   4  /pub/michael-morrell-ms                14\n",
       "4   5     /cv/daniel-paterniti                 1"
      ]
     },
     "execution_count": 3,
     "metadata": {},
     "output_type": "execute_result"
    }
   ],
   "source": [
    "external_profile_views.head()"
   ]
  },
  {
   "cell_type": "code",
   "execution_count": 4,
   "id": "81f31ae6",
   "metadata": {
    "execution": {
     "iopub.execute_input": "2023-04-24T23:56:46.096824Z",
     "iopub.status.busy": "2023-04-24T23:56:46.096391Z",
     "iopub.status.idle": "2023-04-24T23:56:46.138280Z",
     "shell.execute_reply": "2023-04-24T23:56:46.136803Z"
    },
    "papermill": {
     "duration": 0.049826,
     "end_time": "2023-04-24T23:56:46.141696",
     "exception": false,
     "start_time": "2023-04-24T23:56:46.091870",
     "status": "completed"
    },
    "tags": []
   },
   "outputs": [
    {
     "name": "stdout",
     "output_type": "stream",
     "text": [
      "<class 'pandas.core.frame.DataFrame'>\n",
      "RangeIndex: 335636 entries, 0 to 335635\n",
      "Data columns (total 3 columns):\n",
      " #   Column              Non-Null Count   Dtype \n",
      "---  ------              --------------   ----- \n",
      " 0   id                  335636 non-null  int64 \n",
      " 1   public_profile_url  335636 non-null  object\n",
      " 2   unique_PageViews    335636 non-null  int64 \n",
      "dtypes: int64(2), object(1)\n",
      "memory usage: 7.7+ MB\n"
     ]
    }
   ],
   "source": [
    "external_profile_views.info()"
   ]
  },
  {
   "cell_type": "code",
   "execution_count": 5,
   "id": "2a26249b",
   "metadata": {
    "execution": {
     "iopub.execute_input": "2023-04-24T23:56:46.150624Z",
     "iopub.status.busy": "2023-04-24T23:56:46.150091Z",
     "iopub.status.idle": "2023-04-24T23:56:46.714985Z",
     "shell.execute_reply": "2023-04-24T23:56:46.713590Z"
    },
    "papermill": {
     "duration": 0.572556,
     "end_time": "2023-04-24T23:56:46.717747",
     "exception": false,
     "start_time": "2023-04-24T23:56:46.145191",
     "status": "completed"
    },
    "tags": []
   },
   "outputs": [],
   "source": [
    "external_profile_views.to_csv('external_profile_views.csv', index=False)"
   ]
  },
  {
   "cell_type": "code",
   "execution_count": null,
   "id": "e52a01e8",
   "metadata": {
    "papermill": {
     "duration": 0.002998,
     "end_time": "2023-04-24T23:56:46.724056",
     "exception": false,
     "start_time": "2023-04-24T23:56:46.721058",
     "status": "completed"
    },
    "tags": []
   },
   "outputs": [],
   "source": []
  }
 ],
 "metadata": {
  "kernelspec": {
   "display_name": "Python 3",
   "language": "python",
   "name": "python3"
  },
  "language_info": {
   "codemirror_mode": {
    "name": "ipython",
    "version": 3
   },
   "file_extension": ".py",
   "mimetype": "text/x-python",
   "name": "python",
   "nbconvert_exporter": "python",
   "pygments_lexer": "ipython3",
   "version": "3.7.12"
  },
  "papermill": {
   "default_parameters": {},
   "duration": 21.502473,
   "end_time": "2023-04-24T23:56:47.552105",
   "environment_variables": {},
   "exception": null,
   "input_path": "__notebook__.ipynb",
   "output_path": "__notebook__.ipynb",
   "parameters": {},
   "start_time": "2023-04-24T23:56:26.049632",
   "version": "2.4.0"
  }
 },
 "nbformat": 4,
 "nbformat_minor": 5
}
