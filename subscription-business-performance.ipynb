{
 "cells": [
  {
   "cell_type": "code",
   "execution_count": 1,
   "id": "29ecad29",
   "metadata": {
    "_cell_guid": "b1076dfc-b9ad-4769-8c92-a6c4dae69d19",
    "_uuid": "8f2839f25d086af736a60e9eeb907d3b93b6e0e5",
    "execution": {
     "iopub.execute_input": "2023-06-02T18:00:33.385124Z",
     "iopub.status.busy": "2023-06-02T18:00:33.383308Z",
     "iopub.status.idle": "2023-06-02T18:00:33.394888Z",
     "shell.execute_reply": "2023-06-02T18:00:33.393597Z"
    },
    "papermill": {
     "duration": 0.024365,
     "end_time": "2023-06-02T18:00:33.397252",
     "exception": false,
     "start_time": "2023-06-02T18:00:33.372887",
     "status": "completed"
    },
    "tags": []
   },
   "outputs": [],
   "source": [
    "import numpy as np # linear algebra\n",
    "import pandas as pd # data processing, CSV file I/O (e.g. pd.read_csv)\n",
    "\n",
    "import matplotlib.pyplot as plt"
   ]
  },
  {
   "cell_type": "markdown",
   "id": "8d19f9b9",
   "metadata": {
    "papermill": {
     "duration": 0.00627,
     "end_time": "2023-06-02T18:00:33.409174",
     "exception": false,
     "start_time": "2023-06-02T18:00:33.402904",
     "status": "completed"
    },
    "tags": []
   },
   "source": [
    "# Problem:\n",
    "\n",
    "Given customer data, explore:\n",
    "\n",
    "1. customer behavior/preferences\n",
    "1. analyze marketing campaigns - customer demographics/referral sources\n",
    "1. evaluate effectiveness of referral strategies\n",
    "1. determine which demographic groups are more likely to subscribe to certain subscriptions\n",
    "1. identify trends in subscription types\n",
    "1. user characteristics/behavior determine churn\n",
    "\n",
    "-- Subscription-based, SaaS business questions are limited by given dataset.\n",
    "\n",
    "# Data Dictionary:\n",
    "\n",
    "* cust_id: A unique identifier for each customer.\n",
    "* transaction_type: The type of transaction.\n",
    "* transaction_date: The date when the transaction was made.\n",
    "* subscription_type: The type of subscription, which can be BASIC, MAX, or PRO.\n",
    "* subscription_price: The price of the subscription.\n",
    "* customer_gender: The gender of the customer, which can be Male or Female.\n",
    "* age_group: The age group of the customer.\n",
    "* customer_country: The country where the customer is located.\n",
    "* referral_type: The type of referral, which can be Google Ads, Facebook, Display, or others."
   ]
  },
  {
   "cell_type": "markdown",
   "id": "4863413e",
   "metadata": {
    "papermill": {
     "duration": 0.006123,
     "end_time": "2023-06-02T18:00:33.422236",
     "exception": false,
     "start_time": "2023-06-02T18:00:33.416113",
     "status": "completed"
    },
    "tags": []
   },
   "source": [
    "# Data"
   ]
  },
  {
   "cell_type": "code",
   "execution_count": 2,
   "id": "c212146a",
   "metadata": {
    "execution": {
     "iopub.execute_input": "2023-06-02T18:00:33.438486Z",
     "iopub.status.busy": "2023-06-02T18:00:33.437197Z",
     "iopub.status.idle": "2023-06-02T18:00:33.527565Z",
     "shell.execute_reply": "2023-06-02T18:00:33.526870Z"
    },
    "papermill": {
     "duration": 0.100624,
     "end_time": "2023-06-02T18:00:33.529635",
     "exception": false,
     "start_time": "2023-06-02T18:00:33.429011",
     "status": "completed"
    },
    "tags": []
   },
   "outputs": [
    {
     "data": {
      "text/html": [
       "<div>\n",
       "<style scoped>\n",
       "    .dataframe tbody tr th:only-of-type {\n",
       "        vertical-align: middle;\n",
       "    }\n",
       "\n",
       "    .dataframe tbody tr th {\n",
       "        vertical-align: top;\n",
       "    }\n",
       "\n",
       "    .dataframe thead th {\n",
       "        text-align: right;\n",
       "    }\n",
       "</style>\n",
       "<table border=\"1\" class=\"dataframe\">\n",
       "  <thead>\n",
       "    <tr style=\"text-align: right;\">\n",
       "      <th></th>\n",
       "      <th>cust_id</th>\n",
       "      <th>transaction_type</th>\n",
       "      <th>transaction_date</th>\n",
       "      <th>subscription_type</th>\n",
       "      <th>subscription_price</th>\n",
       "      <th>customer_gender</th>\n",
       "      <th>age_group</th>\n",
       "      <th>customer_country</th>\n",
       "      <th>referral_type</th>\n",
       "    </tr>\n",
       "  </thead>\n",
       "  <tbody>\n",
       "    <tr>\n",
       "      <th>0</th>\n",
       "      <td>1</td>\n",
       "      <td>initial</td>\n",
       "      <td>2020-09-01</td>\n",
       "      <td>BASIC</td>\n",
       "      <td>33</td>\n",
       "      <td>Male</td>\n",
       "      <td>35-44</td>\n",
       "      <td>Denmark</td>\n",
       "      <td>Google Ads</td>\n",
       "    </tr>\n",
       "    <tr>\n",
       "      <th>1</th>\n",
       "      <td>2</td>\n",
       "      <td>initial</td>\n",
       "      <td>2022-03-01</td>\n",
       "      <td>BASIC</td>\n",
       "      <td>53</td>\n",
       "      <td>Female</td>\n",
       "      <td>18-24</td>\n",
       "      <td>Denmark</td>\n",
       "      <td>facebook</td>\n",
       "    </tr>\n",
       "    <tr>\n",
       "      <th>2</th>\n",
       "      <td>3</td>\n",
       "      <td>initial</td>\n",
       "      <td>2020-10-01</td>\n",
       "      <td>MAX</td>\n",
       "      <td>99</td>\n",
       "      <td>Female</td>\n",
       "      <td>25-34</td>\n",
       "      <td>Norway</td>\n",
       "      <td>facebook</td>\n",
       "    </tr>\n",
       "    <tr>\n",
       "      <th>3</th>\n",
       "      <td>3</td>\n",
       "      <td>REDUCTION</td>\n",
       "      <td>2022-02-01</td>\n",
       "      <td>BASIC</td>\n",
       "      <td>53</td>\n",
       "      <td>Female</td>\n",
       "      <td>25-34</td>\n",
       "      <td>Norway</td>\n",
       "      <td>facebook</td>\n",
       "    </tr>\n",
       "    <tr>\n",
       "      <th>4</th>\n",
       "      <td>4</td>\n",
       "      <td>initial</td>\n",
       "      <td>2022-05-01</td>\n",
       "      <td>PRO</td>\n",
       "      <td>85</td>\n",
       "      <td>Male</td>\n",
       "      <td>18-24</td>\n",
       "      <td>Sweden</td>\n",
       "      <td>Display</td>\n",
       "    </tr>\n",
       "  </tbody>\n",
       "</table>\n",
       "</div>"
      ],
      "text/plain": [
       "   cust_id transaction_type transaction_date subscription_type  \\\n",
       "0        1          initial       2020-09-01             BASIC   \n",
       "1        2          initial       2022-03-01             BASIC   \n",
       "2        3          initial       2020-10-01               MAX   \n",
       "3        3        REDUCTION       2022-02-01             BASIC   \n",
       "4        4          initial       2022-05-01               PRO   \n",
       "\n",
       "   subscription_price customer_gender age_group customer_country referral_type  \n",
       "0                  33            Male     35-44          Denmark    Google Ads  \n",
       "1                  53          Female     18-24          Denmark      facebook  \n",
       "2                  99          Female     25-34           Norway      facebook  \n",
       "3                  53          Female     25-34           Norway      facebook  \n",
       "4                  85            Male     18-24           Sweden       Display  "
      ]
     },
     "execution_count": 2,
     "metadata": {},
     "output_type": "execute_result"
    }
   ],
   "source": [
    "df = pd.read_csv('/kaggle/input/performance-of-a-subscription-business/Customer_Subscription_And_Transaction_Details.csv')\n",
    "df.head()"
   ]
  },
  {
   "cell_type": "code",
   "execution_count": 3,
   "id": "03fd58f4",
   "metadata": {
    "execution": {
     "iopub.execute_input": "2023-06-02T18:00:33.544178Z",
     "iopub.status.busy": "2023-06-02T18:00:33.543571Z",
     "iopub.status.idle": "2023-06-02T18:00:33.591272Z",
     "shell.execute_reply": "2023-06-02T18:00:33.589458Z"
    },
    "papermill": {
     "duration": 0.059858,
     "end_time": "2023-06-02T18:00:33.594856",
     "exception": false,
     "start_time": "2023-06-02T18:00:33.534998",
     "status": "completed"
    },
    "tags": []
   },
   "outputs": [
    {
     "name": "stdout",
     "output_type": "stream",
     "text": [
      "<class 'pandas.core.frame.DataFrame'>\n",
      "RangeIndex: 18106 entries, 0 to 18105\n",
      "Data columns (total 9 columns):\n",
      " #   Column              Non-Null Count  Dtype \n",
      "---  ------              --------------  ----- \n",
      " 0   cust_id             18106 non-null  int64 \n",
      " 1   transaction_type    18106 non-null  object\n",
      " 2   transaction_date    18106 non-null  object\n",
      " 3   subscription_type   18106 non-null  object\n",
      " 4   subscription_price  18106 non-null  int64 \n",
      " 5   customer_gender     18106 non-null  object\n",
      " 6   age_group           18106 non-null  object\n",
      " 7   customer_country    18106 non-null  object\n",
      " 8   referral_type       18106 non-null  object\n",
      "dtypes: int64(2), object(7)\n",
      "memory usage: 1.2+ MB\n"
     ]
    }
   ],
   "source": [
    "df.info()"
   ]
  },
  {
   "cell_type": "code",
   "execution_count": 4,
   "id": "e0fb2e3f",
   "metadata": {
    "execution": {
     "iopub.execute_input": "2023-06-02T18:00:33.608984Z",
     "iopub.status.busy": "2023-06-02T18:00:33.608589Z",
     "iopub.status.idle": "2023-06-02T18:00:33.633693Z",
     "shell.execute_reply": "2023-06-02T18:00:33.632509Z"
    },
    "papermill": {
     "duration": 0.034653,
     "end_time": "2023-06-02T18:00:33.636145",
     "exception": false,
     "start_time": "2023-06-02T18:00:33.601492",
     "status": "completed"
    },
    "tags": []
   },
   "outputs": [
    {
     "data": {
      "text/plain": [
       "cust_id               0\n",
       "transaction_type      0\n",
       "transaction_date      0\n",
       "subscription_type     0\n",
       "subscription_price    0\n",
       "customer_gender       0\n",
       "age_group             0\n",
       "customer_country      0\n",
       "referral_type         0\n",
       "dtype: int64"
      ]
     },
     "execution_count": 4,
     "metadata": {},
     "output_type": "execute_result"
    }
   ],
   "source": [
    "df.isnull().sum()"
   ]
  },
  {
   "cell_type": "markdown",
   "id": "35577c7b",
   "metadata": {
    "papermill": {
     "duration": 0.006212,
     "end_time": "2023-06-02T18:00:33.648199",
     "exception": false,
     "start_time": "2023-06-02T18:00:33.641987",
     "status": "completed"
    },
    "tags": []
   },
   "source": [
    "This is a clean dataset with multiple lines per customer because there are multiple transactions per customer recorded."
   ]
  },
  {
   "cell_type": "code",
   "execution_count": 5,
   "id": "ed0eb849",
   "metadata": {
    "execution": {
     "iopub.execute_input": "2023-06-02T18:00:33.662967Z",
     "iopub.status.busy": "2023-06-02T18:00:33.662311Z",
     "iopub.status.idle": "2023-06-02T18:00:33.672051Z",
     "shell.execute_reply": "2023-06-02T18:00:33.670473Z"
    },
    "papermill": {
     "duration": 0.019713,
     "end_time": "2023-06-02T18:00:33.674410",
     "exception": false,
     "start_time": "2023-06-02T18:00:33.654697",
     "status": "completed"
    },
    "tags": []
   },
   "outputs": [
    {
     "data": {
      "text/plain": [
       "('2020-01-01', '2022-12-01')"
      ]
     },
     "execution_count": 5,
     "metadata": {},
     "output_type": "execute_result"
    }
   ],
   "source": [
    "# Span of data: 2 full years\n",
    "df.transaction_date.min(), df.transaction_date.max()"
   ]
  },
  {
   "cell_type": "code",
   "execution_count": 6,
   "id": "aaab98c0",
   "metadata": {
    "execution": {
     "iopub.execute_input": "2023-06-02T18:00:33.689892Z",
     "iopub.status.busy": "2023-06-02T18:00:33.689287Z",
     "iopub.status.idle": "2023-06-02T18:00:33.717870Z",
     "shell.execute_reply": "2023-06-02T18:00:33.715999Z"
    },
    "papermill": {
     "duration": 0.040084,
     "end_time": "2023-06-02T18:00:33.720489",
     "exception": false,
     "start_time": "2023-06-02T18:00:33.680405",
     "status": "completed"
    },
    "tags": []
   },
   "outputs": [
    {
     "data": {
      "text/html": [
       "<div>\n",
       "<style scoped>\n",
       "    .dataframe tbody tr th:only-of-type {\n",
       "        vertical-align: middle;\n",
       "    }\n",
       "\n",
       "    .dataframe tbody tr th {\n",
       "        vertical-align: top;\n",
       "    }\n",
       "\n",
       "    .dataframe thead th {\n",
       "        text-align: right;\n",
       "    }\n",
       "</style>\n",
       "<table border=\"1\" class=\"dataframe\">\n",
       "  <thead>\n",
       "    <tr style=\"text-align: right;\">\n",
       "      <th></th>\n",
       "      <th>cust_id</th>\n",
       "      <th>transaction_type</th>\n",
       "      <th>transaction_date</th>\n",
       "      <th>subscription_type</th>\n",
       "      <th>subscription_price</th>\n",
       "      <th>customer_gender</th>\n",
       "      <th>age_group</th>\n",
       "      <th>customer_country</th>\n",
       "      <th>referral_type</th>\n",
       "    </tr>\n",
       "  </thead>\n",
       "  <tbody>\n",
       "    <tr>\n",
       "      <th>0</th>\n",
       "      <td>1</td>\n",
       "      <td>initial</td>\n",
       "      <td>2020-09-01</td>\n",
       "      <td>BASIC</td>\n",
       "      <td>33</td>\n",
       "      <td>Male</td>\n",
       "      <td>35-44</td>\n",
       "      <td>Denmark</td>\n",
       "      <td>Google Ads</td>\n",
       "    </tr>\n",
       "    <tr>\n",
       "      <th>1</th>\n",
       "      <td>2</td>\n",
       "      <td>initial</td>\n",
       "      <td>2022-03-01</td>\n",
       "      <td>BASIC</td>\n",
       "      <td>53</td>\n",
       "      <td>Female</td>\n",
       "      <td>18-24</td>\n",
       "      <td>Denmark</td>\n",
       "      <td>facebook</td>\n",
       "    </tr>\n",
       "    <tr>\n",
       "      <th>2</th>\n",
       "      <td>3</td>\n",
       "      <td>initial</td>\n",
       "      <td>2020-10-01</td>\n",
       "      <td>MAX</td>\n",
       "      <td>99</td>\n",
       "      <td>Female</td>\n",
       "      <td>25-34</td>\n",
       "      <td>Norway</td>\n",
       "      <td>facebook</td>\n",
       "    </tr>\n",
       "    <tr>\n",
       "      <th>4</th>\n",
       "      <td>4</td>\n",
       "      <td>initial</td>\n",
       "      <td>2022-05-01</td>\n",
       "      <td>PRO</td>\n",
       "      <td>85</td>\n",
       "      <td>Male</td>\n",
       "      <td>18-24</td>\n",
       "      <td>Sweden</td>\n",
       "      <td>Display</td>\n",
       "    </tr>\n",
       "    <tr>\n",
       "      <th>5</th>\n",
       "      <td>5</td>\n",
       "      <td>initial</td>\n",
       "      <td>2022-08-01</td>\n",
       "      <td>BASIC</td>\n",
       "      <td>53</td>\n",
       "      <td>Male</td>\n",
       "      <td>35-44</td>\n",
       "      <td>Sweden</td>\n",
       "      <td>Google Ads</td>\n",
       "    </tr>\n",
       "    <tr>\n",
       "      <th>...</th>\n",
       "      <td>...</td>\n",
       "      <td>...</td>\n",
       "      <td>...</td>\n",
       "      <td>...</td>\n",
       "      <td>...</td>\n",
       "      <td>...</td>\n",
       "      <td>...</td>\n",
       "      <td>...</td>\n",
       "      <td>...</td>\n",
       "    </tr>\n",
       "    <tr>\n",
       "      <th>18095</th>\n",
       "      <td>10362</td>\n",
       "      <td>initial</td>\n",
       "      <td>2021-01-01</td>\n",
       "      <td>PRO</td>\n",
       "      <td>75</td>\n",
       "      <td>Female</td>\n",
       "      <td>25-34</td>\n",
       "      <td>Denmark</td>\n",
       "      <td>facebook</td>\n",
       "    </tr>\n",
       "    <tr>\n",
       "      <th>18097</th>\n",
       "      <td>10363</td>\n",
       "      <td>initial</td>\n",
       "      <td>2020-10-01</td>\n",
       "      <td>PRO</td>\n",
       "      <td>65</td>\n",
       "      <td>Female</td>\n",
       "      <td>18-24</td>\n",
       "      <td>Finland</td>\n",
       "      <td>Google Ads</td>\n",
       "    </tr>\n",
       "    <tr>\n",
       "      <th>18100</th>\n",
       "      <td>10364</td>\n",
       "      <td>initial</td>\n",
       "      <td>2021-04-01</td>\n",
       "      <td>PRO</td>\n",
       "      <td>75</td>\n",
       "      <td>Female</td>\n",
       "      <td>45-54</td>\n",
       "      <td>Norway</td>\n",
       "      <td>facebook</td>\n",
       "    </tr>\n",
       "    <tr>\n",
       "      <th>18102</th>\n",
       "      <td>10365</td>\n",
       "      <td>initial</td>\n",
       "      <td>2021-05-01</td>\n",
       "      <td>PRO</td>\n",
       "      <td>75</td>\n",
       "      <td>Male</td>\n",
       "      <td>55-65</td>\n",
       "      <td>Norway</td>\n",
       "      <td>Google Ads</td>\n",
       "    </tr>\n",
       "    <tr>\n",
       "      <th>18104</th>\n",
       "      <td>10366</td>\n",
       "      <td>initial</td>\n",
       "      <td>2021-01-01</td>\n",
       "      <td>BASIC</td>\n",
       "      <td>43</td>\n",
       "      <td>Male</td>\n",
       "      <td>18-24</td>\n",
       "      <td>Denmark</td>\n",
       "      <td>facebook</td>\n",
       "    </tr>\n",
       "  </tbody>\n",
       "</table>\n",
       "<p>10366 rows × 9 columns</p>\n",
       "</div>"
      ],
      "text/plain": [
       "       cust_id transaction_type transaction_date subscription_type  \\\n",
       "0            1          initial       2020-09-01             BASIC   \n",
       "1            2          initial       2022-03-01             BASIC   \n",
       "2            3          initial       2020-10-01               MAX   \n",
       "4            4          initial       2022-05-01               PRO   \n",
       "5            5          initial       2022-08-01             BASIC   \n",
       "...        ...              ...              ...               ...   \n",
       "18095    10362          initial       2021-01-01               PRO   \n",
       "18097    10363          initial       2020-10-01               PRO   \n",
       "18100    10364          initial       2021-04-01               PRO   \n",
       "18102    10365          initial       2021-05-01               PRO   \n",
       "18104    10366          initial       2021-01-01             BASIC   \n",
       "\n",
       "       subscription_price customer_gender age_group customer_country  \\\n",
       "0                      33            Male     35-44          Denmark   \n",
       "1                      53          Female     18-24          Denmark   \n",
       "2                      99          Female     25-34           Norway   \n",
       "4                      85            Male     18-24           Sweden   \n",
       "5                      53            Male     35-44           Sweden   \n",
       "...                   ...             ...       ...              ...   \n",
       "18095                  75          Female     25-34          Denmark   \n",
       "18097                  65          Female     18-24          Finland   \n",
       "18100                  75          Female     45-54           Norway   \n",
       "18102                  75            Male     55-65           Norway   \n",
       "18104                  43            Male     18-24          Denmark   \n",
       "\n",
       "      referral_type  \n",
       "0        Google Ads  \n",
       "1          facebook  \n",
       "2          facebook  \n",
       "4           Display  \n",
       "5        Google Ads  \n",
       "...             ...  \n",
       "18095      facebook  \n",
       "18097    Google Ads  \n",
       "18100      facebook  \n",
       "18102    Google Ads  \n",
       "18104      facebook  \n",
       "\n",
       "[10366 rows x 9 columns]"
      ]
     },
     "execution_count": 6,
     "metadata": {},
     "output_type": "execute_result"
    }
   ],
   "source": [
    "# Let's take a look at some initial customer demographic data by filtering to first initial tx/customer id\n",
    "cust_init = df.loc[df['transaction_type'] == 'initial']\n",
    "cust_init"
   ]
  },
  {
   "cell_type": "code",
   "execution_count": 7,
   "id": "3e73e419",
   "metadata": {
    "execution": {
     "iopub.execute_input": "2023-06-02T18:00:33.734703Z",
     "iopub.status.busy": "2023-06-02T18:00:33.734313Z",
     "iopub.status.idle": "2023-06-02T18:00:33.742413Z",
     "shell.execute_reply": "2023-06-02T18:00:33.741429Z"
    },
    "papermill": {
     "duration": 0.018248,
     "end_time": "2023-06-02T18:00:33.744947",
     "exception": false,
     "start_time": "2023-06-02T18:00:33.726699",
     "status": "completed"
    },
    "tags": []
   },
   "outputs": [
    {
     "data": {
      "text/plain": [
       "10366"
      ]
     },
     "execution_count": 7,
     "metadata": {},
     "output_type": "execute_result"
    }
   ],
   "source": [
    "#checking to see how many unique customers there are matches table output\n",
    "df['cust_id'].nunique()"
   ]
  },
  {
   "cell_type": "code",
   "execution_count": 8,
   "id": "b664e50d",
   "metadata": {
    "execution": {
     "iopub.execute_input": "2023-06-02T18:00:33.759191Z",
     "iopub.status.busy": "2023-06-02T18:00:33.758674Z",
     "iopub.status.idle": "2023-06-02T18:00:34.306407Z",
     "shell.execute_reply": "2023-06-02T18:00:34.304516Z"
    },
    "papermill": {
     "duration": 0.557902,
     "end_time": "2023-06-02T18:00:34.309086",
     "exception": false,
     "start_time": "2023-06-02T18:00:33.751184",
     "status": "completed"
    },
    "tags": []
   },
   "outputs": [
    {
     "data": {
      "text/plain": [
       "<Axes: xlabel='transaction_date'>"
      ]
     },
     "execution_count": 8,
     "metadata": {},
     "output_type": "execute_result"
    },
    {
     "data": {
      "image/png": "[encoded data removed]",
      "text/plain": [
       "<Figure size 640x480 with 1 Axes>"
      ]
     },
     "metadata": {},
     "output_type": "display_data"
    }
   ],
   "source": [
    "#When did they become subscribers?\n",
    "tx_date_ct = df.groupby(['transaction_date']).size().reset_index(name='counts')\n",
    "tx_date_ct.plot.bar(x = 'transaction_date', y='counts')"
   ]
  },
  {
   "cell_type": "code",
   "execution_count": 9,
   "id": "8c76d79f",
   "metadata": {
    "execution": {
     "iopub.execute_input": "2023-06-02T18:00:34.324206Z",
     "iopub.status.busy": "2023-06-02T18:00:34.323827Z",
     "iopub.status.idle": "2023-06-02T18:00:34.719863Z",
     "shell.execute_reply": "2023-06-02T18:00:34.718333Z"
    },
    "papermill": {
     "duration": 0.406093,
     "end_time": "2023-06-02T18:00:34.721950",
     "exception": false,
     "start_time": "2023-06-02T18:00:34.315857",
     "status": "completed"
    },
    "tags": []
   },
   "outputs": [
    {
     "name": "stderr",
     "output_type": "stream",
     "text": [
      "/tmp/ipykernel_20/2349593669.py:2: SettingWithCopyWarning: \n",
      "A value is trying to be set on a copy of a slice from a DataFrame.\n",
      "Try using .loc[row_indexer,col_indexer] = value instead\n",
      "\n",
      "See the caveats in the documentation: https://pandas.pydata.org/pandas-docs/stable/user_guide/indexing.html#returning-a-view-versus-a-copy\n",
      "  cust_init['tx_initial_month'] = pd.DatetimeIndex(cust_init['transaction_date']).month\n"
     ]
    },
    {
     "data": {
      "text/plain": [
       "<Axes: xlabel='tx_initial_month'>"
      ]
     },
     "execution_count": 9,
     "metadata": {},
     "output_type": "execute_result"
    },
    {
     "data": {
      "image/png": "[encoded data removed]",
      "text/plain": [
       "<Figure size 640x480 with 1 Axes>"
      ]
     },
     "metadata": {},
     "output_type": "display_data"
    }
   ],
   "source": [
    "#Let's see if there is any month that overpowerd any other regarding intiial sub's\n",
    "cust_init['tx_initial_month'] = pd.DatetimeIndex(cust_init['transaction_date']).month\n",
    "tx_date_ct_month = cust_init.groupby(['tx_initial_month']).size().reset_index(name='counts')\n",
    "tx_date_ct_month.plot.bar(x = 'tx_initial_month', y='counts')"
   ]
  },
  {
   "cell_type": "code",
   "execution_count": 10,
   "id": "610f65f0",
   "metadata": {
    "execution": {
     "iopub.execute_input": "2023-06-02T18:00:34.738285Z",
     "iopub.status.busy": "2023-06-02T18:00:34.737918Z",
     "iopub.status.idle": "2023-06-02T18:00:34.912246Z",
     "shell.execute_reply": "2023-06-02T18:00:34.911102Z"
    },
    "papermill": {
     "duration": 0.186107,
     "end_time": "2023-06-02T18:00:34.915052",
     "exception": false,
     "start_time": "2023-06-02T18:00:34.728945",
     "status": "completed"
    },
    "tags": []
   },
   "outputs": [
    {
     "data": {
      "text/plain": [
       "([<matplotlib.patches.Wedge at 0x7c02d1a3e530>,\n",
       "  <matplotlib.patches.Wedge at 0x7c02d1a3f7c0>,\n",
       "  <matplotlib.patches.Wedge at 0x7c02d1a3e9b0>,\n",
       "  <matplotlib.patches.Wedge at 0x7c02d1a3c700>,\n",
       "  <matplotlib.patches.Wedge at 0x7c02d1a3ece0>,\n",
       "  <matplotlib.patches.Wedge at 0x7c02d1a3d6c0>,\n",
       "  <matplotlib.patches.Wedge at 0x7c02d1a3cdf0>,\n",
       "  <matplotlib.patches.Wedge at 0x7c02d1e37df0>],\n",
       " [Text(1.097730331779345, 0.07062661461240598, 'Bing'),\n",
       "  Text(1.0706447612097414, 0.2524278021417924, 'Display'),\n",
       "  Text(0.235849986488385, 1.0744183467688129, 'Google Ads'),\n",
       "  Text(-1.0180128169093534, 0.4167132162630355, 'Organic Search'),\n",
       "  Text(-1.0474525815729823, -0.33592125469534534, 'Paid Search'),\n",
       "  Text(-0.8059250610643516, -0.7486553251987335, 'TV'),\n",
       "  Text(-0.5106732302399932, -0.9742755523548002, 'Unknown'),\n",
       "  Text(0.6700121538574971, -0.8724011197168638, 'facebook')],\n",
       " [Text(0.5987619991523699, 0.03852360797040325, '2%'),\n",
       "  Text(0.5839880515689498, 0.1376878920773413, '3%'),\n",
       "  Text(0.12864544717548274, 0.5860463709648069, '32%'),\n",
       "  Text(-0.5552797183141928, 0.2272981179616557, '12%'),\n",
       "  Text(-0.5713377717670811, -0.18322977528837017, '10%'),\n",
       "  Text(-0.4395954878532826, -0.4083574501084, '4%'),\n",
       "  Text(-0.2785490346763599, -0.5314230285571637, '7%'),\n",
       "  Text(0.36546117483136203, -0.4758551562091984, '29%')])"
      ]
     },
     "execution_count": 10,
     "metadata": {},
     "output_type": "execute_result"
    },
    {
     "data": {
      "image/png": "[encoded data removed]",
      "text/plain": [
       "<Figure size 640x480 with 1 Axes>"
      ]
     },
     "metadata": {},
     "output_type": "display_data"
    }
   ],
   "source": [
    "#What was most popular channel that caused subscriptions?\n",
    "init_refs = cust_init.groupby(['referral_type']).size().reset_index(name='counts')\n",
    "plt.pie(x=init_refs[\"counts\"], labels=init_refs.referral_type, autopct='%1.0f%%')"
   ]
  },
  {
   "cell_type": "code",
   "execution_count": 11,
   "id": "64add52c",
   "metadata": {
    "execution": {
     "iopub.execute_input": "2023-06-02T18:00:34.937459Z",
     "iopub.status.busy": "2023-06-02T18:00:34.936990Z",
     "iopub.status.idle": "2023-06-02T18:00:35.065834Z",
     "shell.execute_reply": "2023-06-02T18:00:35.064424Z"
    },
    "papermill": {
     "duration": 0.142982,
     "end_time": "2023-06-02T18:00:35.068820",
     "exception": false,
     "start_time": "2023-06-02T18:00:34.925838",
     "status": "completed"
    },
    "tags": []
   },
   "outputs": [
    {
     "data": {
      "text/plain": [
       "([<matplotlib.patches.Wedge at 0x7c02d1cbaaa0>,\n",
       "  <matplotlib.patches.Wedge at 0x7c02d1cb9e70>,\n",
       "  <matplotlib.patches.Wedge at 0x7c02d1fa7550>,\n",
       "  <matplotlib.patches.Wedge at 0x7c02d1fa5990>],\n",
       " [Text(0.953479634737143, 0.728612782032764, 'Denmark'),\n",
       "  Text(-0.3919920208384007, 1.1341702939149072, 'Finland'),\n",
       "  Text(-1.1999858919386257, 0.005818861423063767, 'Norway'),\n",
       "  Text(0.37165041626116774, -1.1409977949553192, 'Sweden')],\n",
       " [Text(0.8740229985090479, 0.6678950501967005, '21%'),\n",
       "  Text(-0.35932601910186734, 1.0396561027553317, '19%'),\n",
       "  Text(-1.099987067610407, 0.00533395630447512, '20%'),\n",
       "  Text(0.34067954823940383, -1.0459146453757093, '40%')])"
      ]
     },
     "execution_count": 11,
     "metadata": {},
     "output_type": "execute_result"
    },
    {
     "data": {
      "image/png": "[encoded data removed]",
      "text/plain": [
       "<Figure size 640x480 with 1 Axes>"
      ]
     },
     "metadata": {},
     "output_type": "display_data"
    }
   ],
   "source": [
    "# Country that initial sign-up's came from\n",
    "init_loc = cust_init.groupby(['customer_country']).size().reset_index(name='counts')\n",
    "plt.pie(x=init_loc[\"counts\"], labels=init_loc.customer_country, autopct='%1.0f%%', pctdistance=1.1, labeldistance=1.2)"
   ]
  },
  {
   "cell_type": "code",
   "execution_count": 12,
   "id": "1d6ae041",
   "metadata": {
    "execution": {
     "iopub.execute_input": "2023-06-02T18:00:35.096513Z",
     "iopub.status.busy": "2023-06-02T18:00:35.095593Z",
     "iopub.status.idle": "2023-06-02T18:00:35.229754Z",
     "shell.execute_reply": "2023-06-02T18:00:35.228409Z"
    },
    "papermill": {
     "duration": 0.151703,
     "end_time": "2023-06-02T18:00:35.232410",
     "exception": false,
     "start_time": "2023-06-02T18:00:35.080707",
     "status": "completed"
    },
    "tags": []
   },
   "outputs": [
    {
     "data": {
      "text/plain": [
       "([<matplotlib.patches.Wedge at 0x7c02d1ce2c20>,\n",
       "  <matplotlib.patches.Wedge at 0x7c02d1ce2d40>,\n",
       "  <matplotlib.patches.Wedge at 0x7c02d1ce1de0>,\n",
       "  <matplotlib.patches.Wedge at 0x7c02d1ce3d60>,\n",
       "  <matplotlib.patches.Wedge at 0x7c02d1ba76a0>],\n",
       " [Text(0.8626798763257643, 0.8341363383659556, '18-24'),\n",
       "  Text(-0.6854255189381459, 0.9849831765001742, '25-34'),\n",
       "  Text(-1.163491484377517, -0.29374745238214744, '35-44'),\n",
       "  Text(-0.19766458324014477, -1.1836083442306833, '45-54'),\n",
       "  Text(1.0080718163386975, -0.6509924831390906, '55-65')],\n",
       " [Text(0.7907898866319507, 0.7646249768354593, '24%'),\n",
       "  Text(-0.6283067256933005, 0.9029012451251598, '20%'),\n",
       "  Text(-1.0665338606793906, -0.26926849801696856, '18%'),\n",
       "  Text(-0.1811925346367994, -1.0849743155447933, '19%'),\n",
       "  Text(0.9240658316438062, -0.5967431095441665, '18%')])"
      ]
     },
     "execution_count": 12,
     "metadata": {},
     "output_type": "execute_result"
    },
    {
     "data": {
      "image/png": "[encoded data removed]",
      "text/plain": [
       "<Figure size 640x480 with 1 Axes>"
      ]
     },
     "metadata": {},
     "output_type": "display_data"
    }
   ],
   "source": [
    "# Age Group that initial sign-up's came from\n",
    "init_age = cust_init.groupby(['age_group']).size().reset_index(name='counts')\n",
    "plt.pie(x=init_age[\"counts\"], labels=init_age.age_group, autopct='%1.0f%%', pctdistance=1.1, labeldistance=1.2)"
   ]
  },
  {
   "cell_type": "code",
   "execution_count": 13,
   "id": "0f5aa1d5",
   "metadata": {
    "execution": {
     "iopub.execute_input": "2023-06-02T18:00:35.260570Z",
     "iopub.status.busy": "2023-06-02T18:00:35.259842Z",
     "iopub.status.idle": "2023-06-02T18:00:35.372858Z",
     "shell.execute_reply": "2023-06-02T18:00:35.372074Z"
    },
    "papermill": {
     "duration": 0.130265,
     "end_time": "2023-06-02T18:00:35.374844",
     "exception": false,
     "start_time": "2023-06-02T18:00:35.244579",
     "status": "completed"
    },
    "tags": []
   },
   "outputs": [
    {
     "data": {
      "text/plain": [
       "([<matplotlib.patches.Wedge at 0x7c02d19915d0>,\n",
       "  <matplotlib.patches.Wedge at 0x7c02d19916f0>,\n",
       "  <matplotlib.patches.Wedge at 0x7c02d1990550>],\n",
       " [Text(-0.07777310352641027, 1.197477074673194, 'Female'),\n",
       "  Text(-0.20984999484393463, -1.1815087725717488, 'Male'),\n",
       "  Text(1.165424159448859, -0.28598344108168233, 'Other')],\n",
       " [Text(-0.0712920115658761, 1.0976873184504279, '52%'),\n",
       "  Text(-0.19236249527360677, -1.08304970819077, '40%'),\n",
       "  Text(1.0683054794947877, -0.26215148765820884, '8%')])"
      ]
     },
     "execution_count": 13,
     "metadata": {},
     "output_type": "execute_result"
    },
    {
     "data": {
      "image/png": "[encoded data removed]",
      "text/plain": [
       "<Figure size 640x480 with 1 Axes>"
      ]
     },
     "metadata": {},
     "output_type": "display_data"
    }
   ],
   "source": [
    "# Gender that initial sign-up's came from\n",
    "init_gender = cust_init.groupby(['customer_gender']).size().reset_index(name='counts')\n",
    "plt.pie(x=init_gender[\"counts\"], labels=init_gender.customer_gender, autopct='%1.0f%%', pctdistance=1.1, labeldistance=1.2)"
   ]
  },
  {
   "cell_type": "code",
   "execution_count": 14,
   "id": "8724072e",
   "metadata": {
    "execution": {
     "iopub.execute_input": "2023-06-02T18:00:35.400612Z",
     "iopub.status.busy": "2023-06-02T18:00:35.400015Z",
     "iopub.status.idle": "2023-06-02T18:00:35.507579Z",
     "shell.execute_reply": "2023-06-02T18:00:35.506814Z"
    },
    "papermill": {
     "duration": 0.12355,
     "end_time": "2023-06-02T18:00:35.509684",
     "exception": false,
     "start_time": "2023-06-02T18:00:35.386134",
     "status": "completed"
    },
    "tags": []
   },
   "outputs": [
    {
     "data": {
      "text/plain": [
       "([<matplotlib.patches.Wedge at 0x7c02d1e21ba0>,\n",
       "  <matplotlib.patches.Wedge at 0x7c02d1e200d0>,\n",
       "  <matplotlib.patches.Wedge at 0x7c02d1e21210>],\n",
       " [Text(0.3445767498865587, 1.1494637286307106, 'BASIC'),\n",
       "  Text(-1.198841501909965, -0.05271672693044681, 'MAX'),\n",
       "  Text(0.3947407282132788, -1.1332165536602659, 'PRO')],\n",
       " [Text(0.3158620207293455, 1.0536750845781515, '41%'),\n",
       "  Text(-1.098938043417468, -0.04832366635290958, '20%'),\n",
       "  Text(0.36184566752883895, -1.0387818408552438, '39%')])"
      ]
     },
     "execution_count": 14,
     "metadata": {},
     "output_type": "execute_result"
    },
    {
     "data": {
      "image/png": "[encoded data removed]",
      "text/plain": [
       "<Figure size 640x480 with 1 Axes>"
      ]
     },
     "metadata": {},
     "output_type": "display_data"
    }
   ],
   "source": [
    "# Subscription type during initial sign-up\n",
    "init_sub = cust_init.groupby(['subscription_type']).size().reset_index(name='counts')\n",
    "plt.pie(x=init_sub[\"counts\"], labels=init_sub.subscription_type, autopct='%1.0f%%', pctdistance=1.1, labeldistance=1.2)"
   ]
  },
  {
   "cell_type": "code",
   "execution_count": 15,
   "id": "000adf1b",
   "metadata": {
    "execution": {
     "iopub.execute_input": "2023-06-02T18:00:35.535981Z",
     "iopub.status.busy": "2023-06-02T18:00:35.535307Z",
     "iopub.status.idle": "2023-06-02T18:00:35.645541Z",
     "shell.execute_reply": "2023-06-02T18:00:35.644765Z"
    },
    "papermill": {
     "duration": 0.125679,
     "end_time": "2023-06-02T18:00:35.647604",
     "exception": false,
     "start_time": "2023-06-02T18:00:35.521925",
     "status": "completed"
    },
    "tags": []
   },
   "outputs": [
    {
     "data": {
      "text/plain": [
       "([<matplotlib.patches.Wedge at 0x7c02d0f03880>,\n",
       "  <matplotlib.patches.Wedge at 0x7c02d0f039a0>,\n",
       "  <matplotlib.patches.Wedge at 0x7c02d1ce48b0>],\n",
       " [Text(0.3445767498865587, 1.1494637286307106, 'BASIC'),\n",
       "  Text(-1.198841501909965, -0.05271672693044681, 'MAX'),\n",
       "  Text(0.3947407282132788, -1.1332165536602659, 'PRO')],\n",
       " [Text(0.3158620207293455, 1.0536750845781515, '41%'),\n",
       "  Text(-1.098938043417468, -0.04832366635290958, '20%'),\n",
       "  Text(0.36184566752883895, -1.0387818408552438, '39%')])"
      ]
     },
     "execution_count": 15,
     "metadata": {},
     "output_type": "execute_result"
    },
    {
     "data": {
      "image/png": "[encoded data removed]",
      "text/plain": [
       "<Figure size 640x480 with 1 Axes>"
      ]
     },
     "metadata": {},
     "output_type": "display_data"
    }
   ],
   "source": [
    "# Subscription type during initial sign-up\n",
    "init_sub = cust_init.groupby(['subscription_type']).size().reset_index(name='counts')\n",
    "plt.pie(x=init_sub[\"counts\"], labels=init_sub.subscription_type, autopct='%1.0f%%', pctdistance=1.1, labeldistance=1.2)"
   ]
  },
  {
   "cell_type": "code",
   "execution_count": 16,
   "id": "a2d2469d",
   "metadata": {
    "execution": {
     "iopub.execute_input": "2023-06-02T18:00:35.675068Z",
     "iopub.status.busy": "2023-06-02T18:00:35.674454Z",
     "iopub.status.idle": "2023-06-02T18:00:35.825885Z",
     "shell.execute_reply": "2023-06-02T18:00:35.825136Z"
    },
    "papermill": {
     "duration": 0.167834,
     "end_time": "2023-06-02T18:00:35.828062",
     "exception": false,
     "start_time": "2023-06-02T18:00:35.660228",
     "status": "completed"
    },
    "tags": []
   },
   "outputs": [
    {
     "data": {
      "text/plain": [
       "([<matplotlib.patches.Wedge at 0x7c02d196ee60>,\n",
       "  <matplotlib.patches.Wedge at 0x7c02d196ffd0>,\n",
       "  <matplotlib.patches.Wedge at 0x7c02d196e710>,\n",
       "  <matplotlib.patches.Wedge at 0x7c02d1e3f1c0>,\n",
       "  <matplotlib.patches.Wedge at 0x7c02d1e3f100>,\n",
       "  <matplotlib.patches.Wedge at 0x7c02d1e3c790>,\n",
       "  <matplotlib.patches.Wedge at 0x7c02d1e3cfa0>,\n",
       "  <matplotlib.patches.Wedge at 0x7c02d1e3ece0>,\n",
       "  <matplotlib.patches.Wedge at 0x7c02d1e3d6f0>],\n",
       " [Text(1.0887532632018904, 0.5045952158584491, '33'),\n",
       "  Text(0.32536981162916184, 1.1550473954260074, '43'),\n",
       "  Text(-0.6485463957531451, 1.0096472515466008, '53'),\n",
       "  Text(-1.1847269230224042, 0.19084579603927895, '65'),\n",
       "  Text(-0.9418791429417233, -0.7435480348244926, '75'),\n",
       "  Text(-0.10750505974899983, -1.1951747412526605, '85'),\n",
       "  Text(0.5960061681198655, -1.041526114681276, '99'),\n",
       "  Text(0.9602828391285294, -0.7196227267639974, '109'),\n",
       "  Text(1.1714655019640343, -0.2601318467780391, '119')],\n",
       " [Text(0.998023824601733, 0.46254561453691173, '14%'),\n",
       "  Text(0.2982556606600651, 1.0587934458071735, '14%'),\n",
       "  Text(-0.5945008627737164, 0.9255099805843842, '13%'),\n",
       "  Text(-1.085999679437204, 0.1749419797026724, '13%'),\n",
       "  Text(-0.8633892143632464, -0.6815856985891182, '13%'),\n",
       "  Text(-0.09854630476991652, -1.0955768461482722, '13%'),\n",
       "  Text(0.5463389874432101, -0.9547322717911698, '6%'),\n",
       "  Text(0.8802592692011522, -0.659654166200331, '7%'),\n",
       "  Text(1.0738433768003648, -0.2384541928798692, '7%')])"
      ]
     },
     "execution_count": 16,
     "metadata": {},
     "output_type": "execute_result"
    },
    {
     "data": {
      "image/png": "[encoded data removed]",
      "text/plain": [
       "<Figure size 640x480 with 1 Axes>"
      ]
     },
     "metadata": {},
     "output_type": "display_data"
    }
   ],
   "source": [
    "# Subscription price during initial sign-up\n",
    "init_price = cust_init.groupby(['subscription_price']).size().reset_index(name='counts')\n",
    "plt.pie(x=init_price[\"counts\"], labels=init_price.subscription_price, autopct='%1.0f%%', pctdistance=1.1, labeldistance=1.2)"
   ]
  },
  {
   "cell_type": "code",
   "execution_count": 17,
   "id": "2b09c07a",
   "metadata": {
    "execution": {
     "iopub.execute_input": "2023-06-02T18:00:35.857829Z",
     "iopub.status.busy": "2023-06-02T18:00:35.857211Z",
     "iopub.status.idle": "2023-06-02T18:00:35.875728Z",
     "shell.execute_reply": "2023-06-02T18:00:35.874733Z"
    },
    "papermill": {
     "duration": 0.036902,
     "end_time": "2023-06-02T18:00:35.878278",
     "exception": false,
     "start_time": "2023-06-02T18:00:35.841376",
     "status": "completed"
    },
    "tags": []
   },
   "outputs": [
    {
     "data": {
      "text/html": [
       "<div>\n",
       "<style scoped>\n",
       "    .dataframe tbody tr th:only-of-type {\n",
       "        vertical-align: middle;\n",
       "    }\n",
       "\n",
       "    .dataframe tbody tr th {\n",
       "        vertical-align: top;\n",
       "    }\n",
       "\n",
       "    .dataframe thead th {\n",
       "        text-align: right;\n",
       "    }\n",
       "</style>\n",
       "<table border=\"1\" class=\"dataframe\">\n",
       "  <thead>\n",
       "    <tr style=\"text-align: right;\">\n",
       "      <th></th>\n",
       "      <th>subscription_type</th>\n",
       "      <th>subscription_price</th>\n",
       "      <th>counts</th>\n",
       "    </tr>\n",
       "  </thead>\n",
       "  <tbody>\n",
       "    <tr>\n",
       "      <th>0</th>\n",
       "      <td>BASIC</td>\n",
       "      <td>33</td>\n",
       "      <td>1432</td>\n",
       "    </tr>\n",
       "    <tr>\n",
       "      <th>1</th>\n",
       "      <td>BASIC</td>\n",
       "      <td>43</td>\n",
       "      <td>1413</td>\n",
       "    </tr>\n",
       "    <tr>\n",
       "      <th>6</th>\n",
       "      <td>PRO</td>\n",
       "      <td>65</td>\n",
       "      <td>1395</td>\n",
       "    </tr>\n",
       "    <tr>\n",
       "      <th>2</th>\n",
       "      <td>BASIC</td>\n",
       "      <td>53</td>\n",
       "      <td>1377</td>\n",
       "    </tr>\n",
       "    <tr>\n",
       "      <th>8</th>\n",
       "      <td>PRO</td>\n",
       "      <td>85</td>\n",
       "      <td>1345</td>\n",
       "    </tr>\n",
       "    <tr>\n",
       "      <th>7</th>\n",
       "      <td>PRO</td>\n",
       "      <td>75</td>\n",
       "      <td>1337</td>\n",
       "    </tr>\n",
       "    <tr>\n",
       "      <th>5</th>\n",
       "      <td>MAX</td>\n",
       "      <td>119</td>\n",
       "      <td>721</td>\n",
       "    </tr>\n",
       "    <tr>\n",
       "      <th>4</th>\n",
       "      <td>MAX</td>\n",
       "      <td>109</td>\n",
       "      <td>680</td>\n",
       "    </tr>\n",
       "    <tr>\n",
       "      <th>3</th>\n",
       "      <td>MAX</td>\n",
       "      <td>99</td>\n",
       "      <td>666</td>\n",
       "    </tr>\n",
       "  </tbody>\n",
       "</table>\n",
       "</div>"
      ],
      "text/plain": [
       "  subscription_type  subscription_price  counts\n",
       "0             BASIC                  33    1432\n",
       "1             BASIC                  43    1413\n",
       "6               PRO                  65    1395\n",
       "2             BASIC                  53    1377\n",
       "8               PRO                  85    1345\n",
       "7               PRO                  75    1337\n",
       "5               MAX                 119     721\n",
       "4               MAX                 109     680\n",
       "3               MAX                  99     666"
      ]
     },
     "execution_count": 17,
     "metadata": {},
     "output_type": "execute_result"
    }
   ],
   "source": [
    "grouped = cust_init.groupby(['subscription_type', 'subscription_price']).size().reset_index(name='counts')\n",
    "grouped.sort_values('counts', ascending=False)"
   ]
  },
  {
   "cell_type": "markdown",
   "id": "d1fbe5e8",
   "metadata": {
    "papermill": {
     "duration": 0.014236,
     "end_time": "2023-06-02T18:00:35.906346",
     "exception": false,
     "start_time": "2023-06-02T18:00:35.892110",
     "status": "completed"
    },
    "tags": []
   },
   "source": [
    "### Observations from Initial Sign-up's:\n",
    "1. There was growth from beginning of 2020 to end of 2022. Growth is not continual increase though. Some dips in between, but not seasonal.\n",
    "1. Not much difference month-to-month regardless of subscription year. Though June had the highest number of subscribers.\n",
    "1. Most customers are coming from paid ads placed on Google and Facebook platforms.\n",
    "1. Majority are coming from Sweden.\n",
    "1. Biggest age demographic is 18-24 but all other age groups are not that far behind. So this subscription has a great spread across age groups.\n",
    "1. Most customers are female but not highly dominant.\n",
    "1. Basic and Pro subscriptions (lowest and middle tier) were most popular sub types.\n",
    "1. Price range for sub's were mostly between 33 and 85, which is a huge range and does not map to 3 different sub tiers. There are 3 different prices per subscription type. And the most dominant initial subscription were from the lowest tiers from Basic Subscription Type with lowest Pro tier following in 3rd place."
   ]
  },
  {
   "cell_type": "code",
   "execution_count": 18,
   "id": "25dc9822",
   "metadata": {
    "execution": {
     "iopub.execute_input": "2023-06-02T18:00:35.930603Z",
     "iopub.status.busy": "2023-06-02T18:00:35.929700Z",
     "iopub.status.idle": "2023-06-02T18:00:35.950599Z",
     "shell.execute_reply": "2023-06-02T18:00:35.949953Z"
    },
    "papermill": {
     "duration": 0.035661,
     "end_time": "2023-06-02T18:00:35.952910",
     "exception": false,
     "start_time": "2023-06-02T18:00:35.917249",
     "status": "completed"
    },
    "tags": []
   },
   "outputs": [
    {
     "data": {
      "text/html": [
       "<div>\n",
       "<style scoped>\n",
       "    .dataframe tbody tr th:only-of-type {\n",
       "        vertical-align: middle;\n",
       "    }\n",
       "\n",
       "    .dataframe tbody tr th {\n",
       "        vertical-align: top;\n",
       "    }\n",
       "\n",
       "    .dataframe thead th {\n",
       "        text-align: right;\n",
       "    }\n",
       "</style>\n",
       "<table border=\"1\" class=\"dataframe\">\n",
       "  <thead>\n",
       "    <tr style=\"text-align: right;\">\n",
       "      <th></th>\n",
       "      <th>cust_id</th>\n",
       "      <th>transaction_type</th>\n",
       "      <th>transaction_date</th>\n",
       "      <th>subscription_type</th>\n",
       "      <th>subscription_price</th>\n",
       "      <th>customer_gender</th>\n",
       "      <th>age_group</th>\n",
       "      <th>customer_country</th>\n",
       "      <th>referral_type</th>\n",
       "    </tr>\n",
       "  </thead>\n",
       "  <tbody>\n",
       "    <tr>\n",
       "      <th>2</th>\n",
       "      <td>3</td>\n",
       "      <td>initial</td>\n",
       "      <td>2020-10-01</td>\n",
       "      <td>MAX</td>\n",
       "      <td>99</td>\n",
       "      <td>Female</td>\n",
       "      <td>25-34</td>\n",
       "      <td>Norway</td>\n",
       "      <td>facebook</td>\n",
       "    </tr>\n",
       "    <tr>\n",
       "      <th>3</th>\n",
       "      <td>3</td>\n",
       "      <td>REDUCTION</td>\n",
       "      <td>2022-02-01</td>\n",
       "      <td>BASIC</td>\n",
       "      <td>53</td>\n",
       "      <td>Female</td>\n",
       "      <td>25-34</td>\n",
       "      <td>Norway</td>\n",
       "      <td>facebook</td>\n",
       "    </tr>\n",
       "    <tr>\n",
       "      <th>8</th>\n",
       "      <td>8</td>\n",
       "      <td>initial</td>\n",
       "      <td>2021-01-01</td>\n",
       "      <td>BASIC</td>\n",
       "      <td>43</td>\n",
       "      <td>Other</td>\n",
       "      <td>45-54</td>\n",
       "      <td>Sweden</td>\n",
       "      <td>facebook</td>\n",
       "    </tr>\n",
       "    <tr>\n",
       "      <th>9</th>\n",
       "      <td>8</td>\n",
       "      <td>CHURN</td>\n",
       "      <td>2021-04-01</td>\n",
       "      <td>BASIC</td>\n",
       "      <td>43</td>\n",
       "      <td>Other</td>\n",
       "      <td>45-54</td>\n",
       "      <td>Sweden</td>\n",
       "      <td>facebook</td>\n",
       "    </tr>\n",
       "    <tr>\n",
       "      <th>10</th>\n",
       "      <td>9</td>\n",
       "      <td>initial</td>\n",
       "      <td>2020-08-01</td>\n",
       "      <td>BASIC</td>\n",
       "      <td>33</td>\n",
       "      <td>Female</td>\n",
       "      <td>25-34</td>\n",
       "      <td>Sweden</td>\n",
       "      <td>facebook</td>\n",
       "    </tr>\n",
       "    <tr>\n",
       "      <th>11</th>\n",
       "      <td>9</td>\n",
       "      <td>CHURN</td>\n",
       "      <td>2021-03-01</td>\n",
       "      <td>BASIC</td>\n",
       "      <td>43</td>\n",
       "      <td>Female</td>\n",
       "      <td>25-34</td>\n",
       "      <td>Sweden</td>\n",
       "      <td>facebook</td>\n",
       "    </tr>\n",
       "    <tr>\n",
       "      <th>13</th>\n",
       "      <td>11</td>\n",
       "      <td>initial</td>\n",
       "      <td>2020-05-01</td>\n",
       "      <td>BASIC</td>\n",
       "      <td>33</td>\n",
       "      <td>Female</td>\n",
       "      <td>45-54</td>\n",
       "      <td>Norway</td>\n",
       "      <td>Organic Search</td>\n",
       "    </tr>\n",
       "    <tr>\n",
       "      <th>14</th>\n",
       "      <td>11</td>\n",
       "      <td>UPGRADE</td>\n",
       "      <td>2022-01-01</td>\n",
       "      <td>MAX</td>\n",
       "      <td>119</td>\n",
       "      <td>Female</td>\n",
       "      <td>45-54</td>\n",
       "      <td>Norway</td>\n",
       "      <td>Organic Search</td>\n",
       "    </tr>\n",
       "    <tr>\n",
       "      <th>15</th>\n",
       "      <td>12</td>\n",
       "      <td>initial</td>\n",
       "      <td>2020-09-01</td>\n",
       "      <td>BASIC</td>\n",
       "      <td>33</td>\n",
       "      <td>Male</td>\n",
       "      <td>25-34</td>\n",
       "      <td>Finland</td>\n",
       "      <td>facebook</td>\n",
       "    </tr>\n",
       "    <tr>\n",
       "      <th>16</th>\n",
       "      <td>12</td>\n",
       "      <td>UPGRADE</td>\n",
       "      <td>2022-09-01</td>\n",
       "      <td>PRO</td>\n",
       "      <td>85</td>\n",
       "      <td>Male</td>\n",
       "      <td>25-34</td>\n",
       "      <td>Finland</td>\n",
       "      <td>facebook</td>\n",
       "    </tr>\n",
       "    <tr>\n",
       "      <th>18</th>\n",
       "      <td>14</td>\n",
       "      <td>initial</td>\n",
       "      <td>2020-03-01</td>\n",
       "      <td>BASIC</td>\n",
       "      <td>33</td>\n",
       "      <td>Female</td>\n",
       "      <td>35-44</td>\n",
       "      <td>Norway</td>\n",
       "      <td>Google Ads</td>\n",
       "    </tr>\n",
       "    <tr>\n",
       "      <th>19</th>\n",
       "      <td>14</td>\n",
       "      <td>UPGRADE</td>\n",
       "      <td>2020-07-01</td>\n",
       "      <td>PRO</td>\n",
       "      <td>65</td>\n",
       "      <td>Female</td>\n",
       "      <td>35-44</td>\n",
       "      <td>Norway</td>\n",
       "      <td>Google Ads</td>\n",
       "    </tr>\n",
       "    <tr>\n",
       "      <th>21</th>\n",
       "      <td>16</td>\n",
       "      <td>initial</td>\n",
       "      <td>2020-12-01</td>\n",
       "      <td>PRO</td>\n",
       "      <td>65</td>\n",
       "      <td>Female</td>\n",
       "      <td>18-24</td>\n",
       "      <td>Norway</td>\n",
       "      <td>Organic Search</td>\n",
       "    </tr>\n",
       "    <tr>\n",
       "      <th>22</th>\n",
       "      <td>16</td>\n",
       "      <td>UPGRADE</td>\n",
       "      <td>2022-11-01</td>\n",
       "      <td>MAX</td>\n",
       "      <td>119</td>\n",
       "      <td>Female</td>\n",
       "      <td>18-24</td>\n",
       "      <td>Norway</td>\n",
       "      <td>Organic Search</td>\n",
       "    </tr>\n",
       "    <tr>\n",
       "      <th>23</th>\n",
       "      <td>17</td>\n",
       "      <td>initial</td>\n",
       "      <td>2021-12-01</td>\n",
       "      <td>BASIC</td>\n",
       "      <td>43</td>\n",
       "      <td>Male</td>\n",
       "      <td>45-54</td>\n",
       "      <td>Denmark</td>\n",
       "      <td>Unknown</td>\n",
       "    </tr>\n",
       "    <tr>\n",
       "      <th>24</th>\n",
       "      <td>17</td>\n",
       "      <td>CHURN</td>\n",
       "      <td>2022-08-01</td>\n",
       "      <td>BASIC</td>\n",
       "      <td>53</td>\n",
       "      <td>Male</td>\n",
       "      <td>45-54</td>\n",
       "      <td>Denmark</td>\n",
       "      <td>Unknown</td>\n",
       "    </tr>\n",
       "    <tr>\n",
       "      <th>26</th>\n",
       "      <td>19</td>\n",
       "      <td>initial</td>\n",
       "      <td>2022-09-01</td>\n",
       "      <td>PRO</td>\n",
       "      <td>85</td>\n",
       "      <td>Male</td>\n",
       "      <td>25-34</td>\n",
       "      <td>Norway</td>\n",
       "      <td>Organic Search</td>\n",
       "    </tr>\n",
       "    <tr>\n",
       "      <th>27</th>\n",
       "      <td>19</td>\n",
       "      <td>REDUCTION</td>\n",
       "      <td>2022-10-01</td>\n",
       "      <td>BASIC</td>\n",
       "      <td>53</td>\n",
       "      <td>Male</td>\n",
       "      <td>25-34</td>\n",
       "      <td>Norway</td>\n",
       "      <td>Organic Search</td>\n",
       "    </tr>\n",
       "    <tr>\n",
       "      <th>29</th>\n",
       "      <td>21</td>\n",
       "      <td>initial</td>\n",
       "      <td>2021-09-01</td>\n",
       "      <td>PRO</td>\n",
       "      <td>75</td>\n",
       "      <td>Other</td>\n",
       "      <td>55-65</td>\n",
       "      <td>Sweden</td>\n",
       "      <td>Organic Search</td>\n",
       "    </tr>\n",
       "    <tr>\n",
       "      <th>30</th>\n",
       "      <td>21</td>\n",
       "      <td>UPGRADE</td>\n",
       "      <td>2022-10-01</td>\n",
       "      <td>MAX</td>\n",
       "      <td>119</td>\n",
       "      <td>Other</td>\n",
       "      <td>55-65</td>\n",
       "      <td>Sweden</td>\n",
       "      <td>Organic Search</td>\n",
       "    </tr>\n",
       "  </tbody>\n",
       "</table>\n",
       "</div>"
      ],
      "text/plain": [
       "    cust_id transaction_type transaction_date subscription_type  \\\n",
       "2         3          initial       2020-10-01               MAX   \n",
       "3         3        REDUCTION       2022-02-01             BASIC   \n",
       "8         8          initial       2021-01-01             BASIC   \n",
       "9         8            CHURN       2021-04-01             BASIC   \n",
       "10        9          initial       2020-08-01             BASIC   \n",
       "11        9            CHURN       2021-03-01             BASIC   \n",
       "13       11          initial       2020-05-01             BASIC   \n",
       "14       11          UPGRADE       2022-01-01               MAX   \n",
       "15       12          initial       2020-09-01             BASIC   \n",
       "16       12          UPGRADE       2022-09-01               PRO   \n",
       "18       14          initial       2020-03-01             BASIC   \n",
       "19       14          UPGRADE       2020-07-01               PRO   \n",
       "21       16          initial       2020-12-01               PRO   \n",
       "22       16          UPGRADE       2022-11-01               MAX   \n",
       "23       17          initial       2021-12-01             BASIC   \n",
       "24       17            CHURN       2022-08-01             BASIC   \n",
       "26       19          initial       2022-09-01               PRO   \n",
       "27       19        REDUCTION       2022-10-01             BASIC   \n",
       "29       21          initial       2021-09-01               PRO   \n",
       "30       21          UPGRADE       2022-10-01               MAX   \n",
       "\n",
       "    subscription_price customer_gender age_group customer_country  \\\n",
       "2                   99          Female     25-34           Norway   \n",
       "3                   53          Female     25-34           Norway   \n",
       "8                   43           Other     45-54           Sweden   \n",
       "9                   43           Other     45-54           Sweden   \n",
       "10                  33          Female     25-34           Sweden   \n",
       "11                  43          Female     25-34           Sweden   \n",
       "13                  33          Female     45-54           Norway   \n",
       "14                 119          Female     45-54           Norway   \n",
       "15                  33            Male     25-34          Finland   \n",
       "16                  85            Male     25-34          Finland   \n",
       "18                  33          Female     35-44           Norway   \n",
       "19                  65          Female     35-44           Norway   \n",
       "21                  65          Female     18-24           Norway   \n",
       "22                 119          Female     18-24           Norway   \n",
       "23                  43            Male     45-54          Denmark   \n",
       "24                  53            Male     45-54          Denmark   \n",
       "26                  85            Male     25-34           Norway   \n",
       "27                  53            Male     25-34           Norway   \n",
       "29                  75           Other     55-65           Sweden   \n",
       "30                 119           Other     55-65           Sweden   \n",
       "\n",
       "     referral_type  \n",
       "2         facebook  \n",
       "3         facebook  \n",
       "8         facebook  \n",
       "9         facebook  \n",
       "10        facebook  \n",
       "11        facebook  \n",
       "13  Organic Search  \n",
       "14  Organic Search  \n",
       "15        facebook  \n",
       "16        facebook  \n",
       "18      Google Ads  \n",
       "19      Google Ads  \n",
       "21  Organic Search  \n",
       "22  Organic Search  \n",
       "23         Unknown  \n",
       "24         Unknown  \n",
       "26  Organic Search  \n",
       "27  Organic Search  \n",
       "29  Organic Search  \n",
       "30  Organic Search  "
      ]
     },
     "execution_count": 18,
     "metadata": {},
     "output_type": "execute_result"
    }
   ],
   "source": [
    "# Now let's look at different populations compared against each other - those who upgrade (initial > upgrade) VERSUS those who downgrade (inital>reduction / initial/churn / reduction>churn / upgrade/reduction / upgrade>churn)\n",
    "counts = df['cust_id'].value_counts()\n",
    "df[df['cust_id'].isin(counts.index[counts > 1])].head(20)"
   ]
  },
  {
   "cell_type": "code",
   "execution_count": 19,
   "id": "51e40a17",
   "metadata": {
    "execution": {
     "iopub.execute_input": "2023-06-02T18:00:35.977179Z",
     "iopub.status.busy": "2023-06-02T18:00:35.976671Z",
     "iopub.status.idle": "2023-06-02T18:00:35.985011Z",
     "shell.execute_reply": "2023-06-02T18:00:35.983330Z"
    },
    "papermill": {
     "duration": 0.023627,
     "end_time": "2023-06-02T18:00:35.987675",
     "exception": false,
     "start_time": "2023-06-02T18:00:35.964048",
     "status": "completed"
    },
    "tags": []
   },
   "outputs": [
    {
     "data": {
      "text/plain": [
       "initial      10366\n",
       "UPGRADE       3006\n",
       "REDUCTION     2539\n",
       "CHURN         2195\n",
       "Name: transaction_type, dtype: int64"
      ]
     },
     "execution_count": 19,
     "metadata": {},
     "output_type": "execute_result"
    }
   ],
   "source": [
    "df.transaction_type.value_counts()"
   ]
  },
  {
   "cell_type": "code",
   "execution_count": null,
   "id": "593e6fb7",
   "metadata": {
    "papermill": {
     "duration": 0.011136,
     "end_time": "2023-06-02T18:00:36.009964",
     "exception": false,
     "start_time": "2023-06-02T18:00:35.998828",
     "status": "completed"
    },
    "tags": []
   },
   "outputs": [],
   "source": []
  },
  {
   "cell_type": "code",
   "execution_count": null,
   "id": "3d6f8a29",
   "metadata": {
    "papermill": {
     "duration": 0.010363,
     "end_time": "2023-06-02T18:00:36.032571",
     "exception": false,
     "start_time": "2023-06-02T18:00:36.022208",
     "status": "completed"
    },
    "tags": []
   },
   "outputs": [],
   "source": []
  }
 ],
 "metadata": {
  "kernelspec": {
   "display_name": "Python 3",
   "language": "python",
   "name": "python3"
  },
  "language_info": {
   "codemirror_mode": {
    "name": "ipython",
    "version": 3
   },
   "file_extension": ".py",
   "mimetype": "text/x-python",
   "name": "python",
   "nbconvert_exporter": "python",
   "pygments_lexer": "ipython3",
   "version": "3.10.10"
  },
  "papermill": {
   "default_parameters": {},
   "duration": 15.346177,
   "end_time": "2023-06-02T18:00:36.964959",
   "environment_variables": {},
   "exception": null,
   "input_path": "__notebook__.ipynb",
   "output_path": "__notebook__.ipynb",
   "parameters": {},
   "start_time": "2023-06-02T18:00:21.618782",
   "version": "2.4.0"
  }
 },
 "nbformat": 4,
 "nbformat_minor": 5
}
