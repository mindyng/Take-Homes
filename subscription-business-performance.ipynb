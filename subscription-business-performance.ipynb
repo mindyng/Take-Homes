{
 "cells": [
  {
   "cell_type": "code",
   "execution_count": 1,
   "id": "e2350672",
   "metadata": {
    "_cell_guid": "b1076dfc-b9ad-4769-8c92-a6c4dae69d19",
    "_uuid": "8f2839f25d086af736a60e9eeb907d3b93b6e0e5",
    "execution": {
     "iopub.execute_input": "2023-06-01T22:23:48.147028Z",
     "iopub.status.busy": "2023-06-01T22:23:48.146581Z",
     "iopub.status.idle": "2023-06-01T22:23:48.159176Z",
     "shell.execute_reply": "2023-06-01T22:23:48.158237Z"
    },
    "papermill": {
     "duration": 0.023454,
     "end_time": "2023-06-01T22:23:48.161918",
     "exception": false,
     "start_time": "2023-06-01T22:23:48.138464",
     "status": "completed"
    },
    "tags": []
   },
   "outputs": [],
   "source": [
    "import numpy as np # linear algebra\n",
    "import pandas as pd # data processing, CSV file I/O (e.g. pd.read_csv)"
   ]
  },
  {
   "cell_type": "markdown",
   "id": "7832ec99",
   "metadata": {
    "papermill": {
     "duration": 0.005764,
     "end_time": "2023-06-01T22:23:48.173288",
     "exception": false,
     "start_time": "2023-06-01T22:23:48.167524",
     "status": "completed"
    },
    "tags": []
   },
   "source": [
    "# Problem:\n",
    "\n",
    "Given customer data, explore:\n",
    "\n",
    "1. customer behavior/preferences\n",
    "1. analyze marketing campaigns - customer demographics/referral sources\n",
    "1. evaluate effectiveness of referral strategies\n",
    "1. determine which demographic groups are more likely to subscribe to certain subscriptions\n",
    "1. identify trends in subscription types\n",
    "1. user characteristics/behavior determine churn\n",
    "\n",
    "-- Subscription-based, SaaS business questions are limited by given dataset.\n",
    "\n",
    "# Data Dictionary:\n",
    "\n",
    "* cust_id: A unique identifier for each customer.\n",
    "* transaction_type: The type of transaction.\n",
    "* transaction_date: The date when the transaction was made.\n",
    "* subscription_type: The type of subscription, which can be BASIC, MAX, or PRO.\n",
    "* subscription_price: The price of the subscription.\n",
    "* customer_gender: The gender of the customer, which can be Male or Female.\n",
    "* age_group: The age group of the customer.\n",
    "* customer_country: The country where the customer is located.\n",
    "* referral_type: The type of referral, which can be Google Ads, Facebook, Display, or others."
   ]
  },
  {
   "cell_type": "markdown",
   "id": "f3f0fd24",
   "metadata": {
    "papermill": {
     "duration": 0.005076,
     "end_time": "2023-06-01T22:23:48.183812",
     "exception": false,
     "start_time": "2023-06-01T22:23:48.178736",
     "status": "completed"
    },
    "tags": []
   },
   "source": [
    "# Data"
   ]
  },
  {
   "cell_type": "code",
   "execution_count": 2,
   "id": "04cf4876",
   "metadata": {
    "execution": {
     "iopub.execute_input": "2023-06-01T22:23:48.197588Z",
     "iopub.status.busy": "2023-06-01T22:23:48.197181Z",
     "iopub.status.idle": "2023-06-01T22:23:48.302957Z",
     "shell.execute_reply": "2023-06-01T22:23:48.301033Z"
    },
    "papermill": {
     "duration": 0.116505,
     "end_time": "2023-06-01T22:23:48.306088",
     "exception": false,
     "start_time": "2023-06-01T22:23:48.189583",
     "status": "completed"
    },
    "tags": []
   },
   "outputs": [
    {
     "data": {
      "text/html": [
       "<div>\n",
       "<style scoped>\n",
       "    .dataframe tbody tr th:only-of-type {\n",
       "        vertical-align: middle;\n",
       "    }\n",
       "\n",
       "    .dataframe tbody tr th {\n",
       "        vertical-align: top;\n",
       "    }\n",
       "\n",
       "    .dataframe thead th {\n",
       "        text-align: right;\n",
       "    }\n",
       "</style>\n",
       "<table border=\"1\" class=\"dataframe\">\n",
       "  <thead>\n",
       "    <tr style=\"text-align: right;\">\n",
       "      <th></th>\n",
       "      <th>cust_id</th>\n",
       "      <th>transaction_type</th>\n",
       "      <th>transaction_date</th>\n",
       "      <th>subscription_type</th>\n",
       "      <th>subscription_price</th>\n",
       "      <th>customer_gender</th>\n",
       "      <th>age_group</th>\n",
       "      <th>customer_country</th>\n",
       "      <th>referral_type</th>\n",
       "    </tr>\n",
       "  </thead>\n",
       "  <tbody>\n",
       "    <tr>\n",
       "      <th>0</th>\n",
       "      <td>1</td>\n",
       "      <td>initial</td>\n",
       "      <td>2020-09-01</td>\n",
       "      <td>BASIC</td>\n",
       "      <td>33</td>\n",
       "      <td>Male</td>\n",
       "      <td>35-44</td>\n",
       "      <td>Denmark</td>\n",
       "      <td>Google Ads</td>\n",
       "    </tr>\n",
       "    <tr>\n",
       "      <th>1</th>\n",
       "      <td>2</td>\n",
       "      <td>initial</td>\n",
       "      <td>2022-03-01</td>\n",
       "      <td>BASIC</td>\n",
       "      <td>53</td>\n",
       "      <td>Female</td>\n",
       "      <td>18-24</td>\n",
       "      <td>Denmark</td>\n",
       "      <td>facebook</td>\n",
       "    </tr>\n",
       "    <tr>\n",
       "      <th>2</th>\n",
       "      <td>3</td>\n",
       "      <td>initial</td>\n",
       "      <td>2020-10-01</td>\n",
       "      <td>MAX</td>\n",
       "      <td>99</td>\n",
       "      <td>Female</td>\n",
       "      <td>25-34</td>\n",
       "      <td>Norway</td>\n",
       "      <td>facebook</td>\n",
       "    </tr>\n",
       "    <tr>\n",
       "      <th>3</th>\n",
       "      <td>3</td>\n",
       "      <td>REDUCTION</td>\n",
       "      <td>2022-02-01</td>\n",
       "      <td>BASIC</td>\n",
       "      <td>53</td>\n",
       "      <td>Female</td>\n",
       "      <td>25-34</td>\n",
       "      <td>Norway</td>\n",
       "      <td>facebook</td>\n",
       "    </tr>\n",
       "    <tr>\n",
       "      <th>4</th>\n",
       "      <td>4</td>\n",
       "      <td>initial</td>\n",
       "      <td>2022-05-01</td>\n",
       "      <td>PRO</td>\n",
       "      <td>85</td>\n",
       "      <td>Male</td>\n",
       "      <td>18-24</td>\n",
       "      <td>Sweden</td>\n",
       "      <td>Display</td>\n",
       "    </tr>\n",
       "  </tbody>\n",
       "</table>\n",
       "</div>"
      ],
      "text/plain": [
       "   cust_id transaction_type transaction_date subscription_type  \\\n",
       "0        1          initial       2020-09-01             BASIC   \n",
       "1        2          initial       2022-03-01             BASIC   \n",
       "2        3          initial       2020-10-01               MAX   \n",
       "3        3        REDUCTION       2022-02-01             BASIC   \n",
       "4        4          initial       2022-05-01               PRO   \n",
       "\n",
       "   subscription_price customer_gender age_group customer_country referral_type  \n",
       "0                  33            Male     35-44          Denmark    Google Ads  \n",
       "1                  53          Female     18-24          Denmark      facebook  \n",
       "2                  99          Female     25-34           Norway      facebook  \n",
       "3                  53          Female     25-34           Norway      facebook  \n",
       "4                  85            Male     18-24           Sweden       Display  "
      ]
     },
     "execution_count": 2,
     "metadata": {},
     "output_type": "execute_result"
    }
   ],
   "source": [
    "df = pd.read_csv('/kaggle/input/performance-of-a-subscription-business/Customer_Subscription_And_Transaction_Details.csv')\n",
    "df.head()"
   ]
  },
  {
   "cell_type": "code",
   "execution_count": 3,
   "id": "dc1661fb",
   "metadata": {
    "execution": {
     "iopub.execute_input": "2023-06-01T22:23:48.319543Z",
     "iopub.status.busy": "2023-06-01T22:23:48.318643Z",
     "iopub.status.idle": "2023-06-01T22:23:48.387109Z",
     "shell.execute_reply": "2023-06-01T22:23:48.385376Z"
    },
    "papermill": {
     "duration": 0.079795,
     "end_time": "2023-06-01T22:23:48.391451",
     "exception": false,
     "start_time": "2023-06-01T22:23:48.311656",
     "status": "completed"
    },
    "tags": []
   },
   "outputs": [
    {
     "name": "stdout",
     "output_type": "stream",
     "text": [
      "<class 'pandas.core.frame.DataFrame'>\n",
      "RangeIndex: 18106 entries, 0 to 18105\n",
      "Data columns (total 9 columns):\n",
      " #   Column              Non-Null Count  Dtype \n",
      "---  ------              --------------  ----- \n",
      " 0   cust_id             18106 non-null  int64 \n",
      " 1   transaction_type    18106 non-null  object\n",
      " 2   transaction_date    18106 non-null  object\n",
      " 3   subscription_type   18106 non-null  object\n",
      " 4   subscription_price  18106 non-null  int64 \n",
      " 5   customer_gender     18106 non-null  object\n",
      " 6   age_group           18106 non-null  object\n",
      " 7   customer_country    18106 non-null  object\n",
      " 8   referral_type       18106 non-null  object\n",
      "dtypes: int64(2), object(7)\n",
      "memory usage: 1.2+ MB\n"
     ]
    }
   ],
   "source": [
    "df.info()"
   ]
  },
  {
   "cell_type": "code",
   "execution_count": 4,
   "id": "f9d3f983",
   "metadata": {
    "execution": {
     "iopub.execute_input": "2023-06-01T22:23:48.406433Z",
     "iopub.status.busy": "2023-06-01T22:23:48.405909Z",
     "iopub.status.idle": "2023-06-01T22:23:48.460317Z",
     "shell.execute_reply": "2023-06-01T22:23:48.458202Z"
    },
    "papermill": {
     "duration": 0.065761,
     "end_time": "2023-06-01T22:23:48.463955",
     "exception": false,
     "start_time": "2023-06-01T22:23:48.398194",
     "status": "completed"
    },
    "tags": []
   },
   "outputs": [
    {
     "data": {
      "text/plain": [
       "cust_id               0\n",
       "transaction_type      0\n",
       "transaction_date      0\n",
       "subscription_type     0\n",
       "subscription_price    0\n",
       "customer_gender       0\n",
       "age_group             0\n",
       "customer_country      0\n",
       "referral_type         0\n",
       "dtype: int64"
      ]
     },
     "execution_count": 4,
     "metadata": {},
     "output_type": "execute_result"
    }
   ],
   "source": [
    "df.isnull().sum()"
   ]
  },
  {
   "cell_type": "markdown",
   "id": "98fb14bd",
   "metadata": {
    "papermill": {
     "duration": 0.006144,
     "end_time": "2023-06-01T22:23:48.476620",
     "exception": false,
     "start_time": "2023-06-01T22:23:48.470476",
     "status": "completed"
    },
    "tags": []
   },
   "source": [
    "This is a clean dataset with multiple lines per customer because there are multiple transactions per customer recorded."
   ]
  },
  {
   "cell_type": "code",
   "execution_count": 5,
   "id": "1b36e88b",
   "metadata": {
    "execution": {
     "iopub.execute_input": "2023-06-01T22:23:48.493107Z",
     "iopub.status.busy": "2023-06-01T22:23:48.492627Z",
     "iopub.status.idle": "2023-06-01T22:23:48.506885Z",
     "shell.execute_reply": "2023-06-01T22:23:48.505820Z"
    },
    "papermill": {
     "duration": 0.025513,
     "end_time": "2023-06-01T22:23:48.510107",
     "exception": false,
     "start_time": "2023-06-01T22:23:48.484594",
     "status": "completed"
    },
    "tags": []
   },
   "outputs": [
    {
     "data": {
      "text/plain": [
       "('2020-01-01', '2022-12-01')"
      ]
     },
     "execution_count": 5,
     "metadata": {},
     "output_type": "execute_result"
    }
   ],
   "source": [
    "# Span of data: 2 full years\n",
    "df.transaction_date.min(), df.transaction_date.max()"
   ]
  },
  {
   "cell_type": "code",
   "execution_count": 6,
   "id": "1821f1bc",
   "metadata": {
    "execution": {
     "iopub.execute_input": "2023-06-01T22:23:48.525564Z",
     "iopub.status.busy": "2023-06-01T22:23:48.525156Z",
     "iopub.status.idle": "2023-06-01T22:23:48.530156Z",
     "shell.execute_reply": "2023-06-01T22:23:48.528783Z"
    },
    "papermill": {
     "duration": 0.01684,
     "end_time": "2023-06-01T22:23:48.533421",
     "exception": false,
     "start_time": "2023-06-01T22:23:48.516581",
     "status": "completed"
    },
    "tags": []
   },
   "outputs": [],
   "source": [
    "# counts = df['cust_id'].value_counts()\n",
    "# df[df['cust_id'].isin(counts.index[counts > 2])]"
   ]
  },
  {
   "cell_type": "code",
   "execution_count": 7,
   "id": "2a5bb06a",
   "metadata": {
    "execution": {
     "iopub.execute_input": "2023-06-01T22:23:48.549613Z",
     "iopub.status.busy": "2023-06-01T22:23:48.549220Z",
     "iopub.status.idle": "2023-06-01T22:23:48.580198Z",
     "shell.execute_reply": "2023-06-01T22:23:48.578521Z"
    },
    "papermill": {
     "duration": 0.042902,
     "end_time": "2023-06-01T22:23:48.583404",
     "exception": false,
     "start_time": "2023-06-01T22:23:48.540502",
     "status": "completed"
    },
    "tags": []
   },
   "outputs": [
    {
     "data": {
      "text/html": [
       "<div>\n",
       "<style scoped>\n",
       "    .dataframe tbody tr th:only-of-type {\n",
       "        vertical-align: middle;\n",
       "    }\n",
       "\n",
       "    .dataframe tbody tr th {\n",
       "        vertical-align: top;\n",
       "    }\n",
       "\n",
       "    .dataframe thead th {\n",
       "        text-align: right;\n",
       "    }\n",
       "</style>\n",
       "<table border=\"1\" class=\"dataframe\">\n",
       "  <thead>\n",
       "    <tr style=\"text-align: right;\">\n",
       "      <th></th>\n",
       "      <th>cust_id</th>\n",
       "      <th>transaction_type</th>\n",
       "      <th>transaction_date</th>\n",
       "      <th>subscription_type</th>\n",
       "      <th>subscription_price</th>\n",
       "      <th>customer_gender</th>\n",
       "      <th>age_group</th>\n",
       "      <th>customer_country</th>\n",
       "      <th>referral_type</th>\n",
       "    </tr>\n",
       "  </thead>\n",
       "  <tbody>\n",
       "    <tr>\n",
       "      <th>0</th>\n",
       "      <td>1</td>\n",
       "      <td>initial</td>\n",
       "      <td>2020-09-01</td>\n",
       "      <td>BASIC</td>\n",
       "      <td>33</td>\n",
       "      <td>Male</td>\n",
       "      <td>35-44</td>\n",
       "      <td>Denmark</td>\n",
       "      <td>Google Ads</td>\n",
       "    </tr>\n",
       "    <tr>\n",
       "      <th>1</th>\n",
       "      <td>2</td>\n",
       "      <td>initial</td>\n",
       "      <td>2022-03-01</td>\n",
       "      <td>BASIC</td>\n",
       "      <td>53</td>\n",
       "      <td>Female</td>\n",
       "      <td>18-24</td>\n",
       "      <td>Denmark</td>\n",
       "      <td>facebook</td>\n",
       "    </tr>\n",
       "    <tr>\n",
       "      <th>2</th>\n",
       "      <td>3</td>\n",
       "      <td>initial</td>\n",
       "      <td>2020-10-01</td>\n",
       "      <td>MAX</td>\n",
       "      <td>99</td>\n",
       "      <td>Female</td>\n",
       "      <td>25-34</td>\n",
       "      <td>Norway</td>\n",
       "      <td>facebook</td>\n",
       "    </tr>\n",
       "    <tr>\n",
       "      <th>4</th>\n",
       "      <td>4</td>\n",
       "      <td>initial</td>\n",
       "      <td>2022-05-01</td>\n",
       "      <td>PRO</td>\n",
       "      <td>85</td>\n",
       "      <td>Male</td>\n",
       "      <td>18-24</td>\n",
       "      <td>Sweden</td>\n",
       "      <td>Display</td>\n",
       "    </tr>\n",
       "    <tr>\n",
       "      <th>5</th>\n",
       "      <td>5</td>\n",
       "      <td>initial</td>\n",
       "      <td>2022-08-01</td>\n",
       "      <td>BASIC</td>\n",
       "      <td>53</td>\n",
       "      <td>Male</td>\n",
       "      <td>35-44</td>\n",
       "      <td>Sweden</td>\n",
       "      <td>Google Ads</td>\n",
       "    </tr>\n",
       "    <tr>\n",
       "      <th>...</th>\n",
       "      <td>...</td>\n",
       "      <td>...</td>\n",
       "      <td>...</td>\n",
       "      <td>...</td>\n",
       "      <td>...</td>\n",
       "      <td>...</td>\n",
       "      <td>...</td>\n",
       "      <td>...</td>\n",
       "      <td>...</td>\n",
       "    </tr>\n",
       "    <tr>\n",
       "      <th>18095</th>\n",
       "      <td>10362</td>\n",
       "      <td>initial</td>\n",
       "      <td>2021-01-01</td>\n",
       "      <td>PRO</td>\n",
       "      <td>75</td>\n",
       "      <td>Female</td>\n",
       "      <td>25-34</td>\n",
       "      <td>Denmark</td>\n",
       "      <td>facebook</td>\n",
       "    </tr>\n",
       "    <tr>\n",
       "      <th>18097</th>\n",
       "      <td>10363</td>\n",
       "      <td>initial</td>\n",
       "      <td>2020-10-01</td>\n",
       "      <td>PRO</td>\n",
       "      <td>65</td>\n",
       "      <td>Female</td>\n",
       "      <td>18-24</td>\n",
       "      <td>Finland</td>\n",
       "      <td>Google Ads</td>\n",
       "    </tr>\n",
       "    <tr>\n",
       "      <th>18100</th>\n",
       "      <td>10364</td>\n",
       "      <td>initial</td>\n",
       "      <td>2021-04-01</td>\n",
       "      <td>PRO</td>\n",
       "      <td>75</td>\n",
       "      <td>Female</td>\n",
       "      <td>45-54</td>\n",
       "      <td>Norway</td>\n",
       "      <td>facebook</td>\n",
       "    </tr>\n",
       "    <tr>\n",
       "      <th>18102</th>\n",
       "      <td>10365</td>\n",
       "      <td>initial</td>\n",
       "      <td>2021-05-01</td>\n",
       "      <td>PRO</td>\n",
       "      <td>75</td>\n",
       "      <td>Male</td>\n",
       "      <td>55-65</td>\n",
       "      <td>Norway</td>\n",
       "      <td>Google Ads</td>\n",
       "    </tr>\n",
       "    <tr>\n",
       "      <th>18104</th>\n",
       "      <td>10366</td>\n",
       "      <td>initial</td>\n",
       "      <td>2021-01-01</td>\n",
       "      <td>BASIC</td>\n",
       "      <td>43</td>\n",
       "      <td>Male</td>\n",
       "      <td>18-24</td>\n",
       "      <td>Denmark</td>\n",
       "      <td>facebook</td>\n",
       "    </tr>\n",
       "  </tbody>\n",
       "</table>\n",
       "<p>10366 rows × 9 columns</p>\n",
       "</div>"
      ],
      "text/plain": [
       "       cust_id transaction_type transaction_date subscription_type  \\\n",
       "0            1          initial       2020-09-01             BASIC   \n",
       "1            2          initial       2022-03-01             BASIC   \n",
       "2            3          initial       2020-10-01               MAX   \n",
       "4            4          initial       2022-05-01               PRO   \n",
       "5            5          initial       2022-08-01             BASIC   \n",
       "...        ...              ...              ...               ...   \n",
       "18095    10362          initial       2021-01-01               PRO   \n",
       "18097    10363          initial       2020-10-01               PRO   \n",
       "18100    10364          initial       2021-04-01               PRO   \n",
       "18102    10365          initial       2021-05-01               PRO   \n",
       "18104    10366          initial       2021-01-01             BASIC   \n",
       "\n",
       "       subscription_price customer_gender age_group customer_country  \\\n",
       "0                      33            Male     35-44          Denmark   \n",
       "1                      53          Female     18-24          Denmark   \n",
       "2                      99          Female     25-34           Norway   \n",
       "4                      85            Male     18-24           Sweden   \n",
       "5                      53            Male     35-44           Sweden   \n",
       "...                   ...             ...       ...              ...   \n",
       "18095                  75          Female     25-34          Denmark   \n",
       "18097                  65          Female     18-24          Finland   \n",
       "18100                  75          Female     45-54           Norway   \n",
       "18102                  75            Male     55-65           Norway   \n",
       "18104                  43            Male     18-24          Denmark   \n",
       "\n",
       "      referral_type  \n",
       "0        Google Ads  \n",
       "1          facebook  \n",
       "2          facebook  \n",
       "4           Display  \n",
       "5        Google Ads  \n",
       "...             ...  \n",
       "18095      facebook  \n",
       "18097    Google Ads  \n",
       "18100      facebook  \n",
       "18102    Google Ads  \n",
       "18104      facebook  \n",
       "\n",
       "[10366 rows x 9 columns]"
      ]
     },
     "execution_count": 7,
     "metadata": {},
     "output_type": "execute_result"
    }
   ],
   "source": [
    "# Let's take a look at some initial customer demographic data by filtering to first initial tx/customer id\n",
    "cust_init = df.loc[df['transaction_type'] == 'initial']\n",
    "cust_init"
   ]
  },
  {
   "cell_type": "code",
   "execution_count": 8,
   "id": "76d86067",
   "metadata": {
    "execution": {
     "iopub.execute_input": "2023-06-01T22:23:48.599453Z",
     "iopub.status.busy": "2023-06-01T22:23:48.598263Z",
     "iopub.status.idle": "2023-06-01T22:23:48.610154Z",
     "shell.execute_reply": "2023-06-01T22:23:48.608616Z"
    },
    "papermill": {
     "duration": 0.023081,
     "end_time": "2023-06-01T22:23:48.613396",
     "exception": false,
     "start_time": "2023-06-01T22:23:48.590315",
     "status": "completed"
    },
    "tags": []
   },
   "outputs": [
    {
     "data": {
      "text/plain": [
       "10366"
      ]
     },
     "execution_count": 8,
     "metadata": {},
     "output_type": "execute_result"
    }
   ],
   "source": [
    "#checking to see how many unique customers there are matches table output\n",
    "df['cust_id'].nunique()"
   ]
  },
  {
   "cell_type": "code",
   "execution_count": 9,
   "id": "851134e8",
   "metadata": {
    "execution": {
     "iopub.execute_input": "2023-06-01T22:23:48.631586Z",
     "iopub.status.busy": "2023-06-01T22:23:48.631152Z",
     "iopub.status.idle": "2023-06-01T22:23:49.416398Z",
     "shell.execute_reply": "2023-06-01T22:23:49.415209Z"
    },
    "papermill": {
     "duration": 0.796588,
     "end_time": "2023-06-01T22:23:49.419065",
     "exception": false,
     "start_time": "2023-06-01T22:23:48.622477",
     "status": "completed"
    },
    "tags": []
   },
   "outputs": [
    {
     "data": {
      "text/plain": [
       "<Axes: xlabel='transaction_date'>"
      ]
     },
     "execution_count": 9,
     "metadata": {},
     "output_type": "execute_result"
    },
    {
     "data": {
      "image/png": "[encoded data removed]",
      "text/plain": [
       "<Figure size 640x480 with 1 Axes>"
      ]
     },
     "metadata": {},
     "output_type": "display_data"
    }
   ],
   "source": [
    "#When did they become subscribers?\n",
    "tx_date_ct = df.groupby(['transaction_date']).size().reset_index(name='counts')\n",
    "tx_date_ct.plot.bar(x = 'transaction_date', y='counts')"
   ]
  },
  {
   "cell_type": "code",
   "execution_count": 10,
   "id": "5f0a494f",
   "metadata": {
    "execution": {
     "iopub.execute_input": "2023-06-01T22:23:49.436628Z",
     "iopub.status.busy": "2023-06-01T22:23:49.436200Z",
     "iopub.status.idle": "2023-06-01T22:23:49.934629Z",
     "shell.execute_reply": "2023-06-01T22:23:49.933542Z"
    },
    "papermill": {
     "duration": 0.510288,
     "end_time": "2023-06-01T22:23:49.937282",
     "exception": false,
     "start_time": "2023-06-01T22:23:49.426994",
     "status": "completed"
    },
    "tags": []
   },
   "outputs": [
    {
     "name": "stderr",
     "output_type": "stream",
     "text": [
      "/tmp/ipykernel_20/2349593669.py:2: SettingWithCopyWarning: \n",
      "A value is trying to be set on a copy of a slice from a DataFrame.\n",
      "Try using .loc[row_indexer,col_indexer] = value instead\n",
      "\n",
      "See the caveats in the documentation: https://pandas.pydata.org/pandas-docs/stable/user_guide/indexing.html#returning-a-view-versus-a-copy\n",
      "  cust_init['tx_initial_month'] = pd.DatetimeIndex(cust_init['transaction_date']).month\n"
     ]
    },
    {
     "data": {
      "text/plain": [
       "<Axes: xlabel='tx_initial_month'>"
      ]
     },
     "execution_count": 10,
     "metadata": {},
     "output_type": "execute_result"
    },
    {
     "data": {
      "image/png": "[encoded data removed]",
      "text/plain": [
       "<Figure size 640x480 with 1 Axes>"
      ]
     },
     "metadata": {},
     "output_type": "display_data"
    }
   ],
   "source": [
    "#Let's see if there is any month that overpowerd any other regarding intiial sub's\n",
    "cust_init['tx_initial_month'] = pd.DatetimeIndex(cust_init['transaction_date']).month\n",
    "tx_date_ct_month = cust_init.groupby(['tx_initial_month']).size().reset_index(name='counts')\n",
    "tx_date_ct_month.plot.bar(x = 'tx_initial_month', y='counts')"
   ]
  },
  {
   "cell_type": "markdown",
   "id": "a0dee69d",
   "metadata": {
    "papermill": {
     "duration": 0.007469,
     "end_time": "2023-06-01T22:23:49.952671",
     "exception": false,
     "start_time": "2023-06-01T22:23:49.945202",
     "status": "completed"
    },
    "tags": []
   },
   "source": [
    "Not much a difference month-to-month regardless of subsription year. Though June has the highest number of subscribers."
   ]
  },
  {
   "cell_type": "code",
   "execution_count": 11,
   "id": "58fda6ce",
   "metadata": {
    "execution": {
     "iopub.execute_input": "2023-06-01T22:23:49.970008Z",
     "iopub.status.busy": "2023-06-01T22:23:49.969582Z",
     "iopub.status.idle": "2023-06-01T22:23:49.975752Z",
     "shell.execute_reply": "2023-06-01T22:23:49.974512Z"
    },
    "papermill": {
     "duration": 0.017899,
     "end_time": "2023-06-01T22:23:49.978298",
     "exception": false,
     "start_time": "2023-06-01T22:23:49.960399",
     "status": "completed"
    },
    "tags": []
   },
   "outputs": [],
   "source": [
    "#What was most popular channel that caused subscriptions?"
   ]
  }
 ],
 "metadata": {
  "kernelspec": {
   "display_name": "Python 3",
   "language": "python",
   "name": "python3"
  },
  "language_info": {
   "codemirror_mode": {
    "name": "ipython",
    "version": 3
   },
   "file_extension": ".py",
   "mimetype": "text/x-python",
   "name": "python",
   "nbconvert_exporter": "python",
   "pygments_lexer": "ipython3",
   "version": "3.10.10"
  },
  "papermill": {
   "default_parameters": {},
   "duration": 17.097781,
   "end_time": "2023-06-01T22:23:51.010070",
   "environment_variables": {},
   "exception": null,
   "input_path": "__notebook__.ipynb",
   "output_path": "__notebook__.ipynb",
   "parameters": {},
   "start_time": "2023-06-01T22:23:33.912289",
   "version": "2.4.0"
  }
 },
 "nbformat": 4,
 "nbformat_minor": 5
}
