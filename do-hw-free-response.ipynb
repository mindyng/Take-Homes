{
 "cells": [
  {
   "cell_type": "code",
   "execution_count": 1,
   "id": "cf2fe01a",
   "metadata": {
    "_cell_guid": "b1076dfc-b9ad-4769-8c92-a6c4dae69d19",
    "_uuid": "8f2839f25d086af736a60e9eeb907d3b93b6e0e5",
    "execution": {
     "iopub.execute_input": "2022-12-09T19:03:01.618590Z",
     "iopub.status.busy": "2022-12-09T19:03:01.617870Z",
     "iopub.status.idle": "2022-12-09T19:03:01.627640Z",
     "shell.execute_reply": "2022-12-09T19:03:01.626848Z"
    },
    "papermill": {
     "duration": 0.01724,
     "end_time": "2022-12-09T19:03:01.629715",
     "exception": false,
     "start_time": "2022-12-09T19:03:01.612475",
     "status": "completed"
    },
    "tags": []
   },
   "outputs": [],
   "source": [
    "import numpy as np \n",
    "import pandas as pd \n",
    "# import matplotlib.pyplot as plt"
   ]
  },
  {
   "cell_type": "markdown",
   "id": "2c6e3c85",
   "metadata": {
    "papermill": {
     "duration": 0.002191,
     "end_time": "2022-12-09T19:03:01.634639",
     "exception": false,
     "start_time": "2022-12-09T19:03:01.632448",
     "status": "completed"
    },
    "tags": []
   },
   "source": [
    "Our Customer Support team is staffed 24/7 and handles all customer tickets and issues for a user base of close to 500,000 users, including questions that range from billing/payment to technical assistance with their infrastructure. Please list a few key metrics that you would suggest the following people would want to track, noting the cadence, granularity, and/or preferred format of delivery where appropriate.\n",
    "\n",
    "Preferred format of delivery would be a Looker dashboard that had daily runs/refreshes of tables.\n",
    "\n",
    "1. Individual Customer Support Agent\n",
    "\n",
    "* Average resolution time (Total resolution time for all tickets solved/Total # tickets resolved) measured by day. Fast resolution is most if not top aspect of good customer service experience.\n",
    "\n",
    "* Occupancy Rate ((Total handling time/Total time logged in) x 100) measured by day. This helps determine whether or not work hours are being used effectively and efficiently.\n",
    "\n",
    "* Average first response time (Average of Time of ticket submission - Time of first response after ticket is submitted) bracketed by hours. This is an indication of how well agents can handle multiple tickets at once, as well as manage fluctuating ticket volumes.\n",
    "\n",
    "* First contact resolution rate (Total # one-touch tickets / Total # tickets submitted) measured by day. This directly impacts customer experience.\n",
    "\n",
    "* Tickets handled per hour vs. tickets solved per hour. (Have total count of: tickets, unsolved tickets, solved tickets). When comparing these two metrics side-by-side, able to see how effectively an agent can handle inquiries and work efficiently. Ideally, want handled and solved to be equal.\n",
    "\n",
    "* Customer satisfaction score. Qualitative metric measured through customer satisfaction surveys. This would ideally happen every quarter after major product releases to gauge customer happiness. Satisfied customers lead to improved customer retention and reduced customer churn. \n",
    "\n",
    "2. Team Lead for Trust and Safety Support Team\n",
    "\n",
    "All of the below would be by day unless specified otherwise:\n",
    "\n",
    "* Number of flagged accounts (not license compliant)/active users\n",
    "* Number of investigations/flagged accounts\n",
    "* Number of suspended accounts/active users\n",
    "* Time for issue to be resolved\n",
    "* Open tickets (>7 days)\n",
    "* Customer Risk Score\n",
    "* Number of new blogs/trainings for policy enforcement (per quarter)\n",
    "* Causes of violation (payment/bot usage of platform)\n",
    "* Fraudalent accounts contributing to Revenue\n",
    "* Fraudalent accounts contributing to Churn\n",
    "\n",
    "3. VP of Customer Support\n",
    "\n",
    "VP would mostly be interested at high-level business metrics directly tied to customer issues:\n",
    "\n",
    "* Ticket Category Count per month\n",
    "* Total tickets open for >30 days\n",
    "\n",
    "* MRR/ARR\n",
    "* Churn Rate\n",
    "* LTV\n",
    "* Cohorts"
   ]
  },
  {
   "cell_type": "code",
   "execution_count": 2,
   "id": "4a66223b",
   "metadata": {
    "execution": {
     "iopub.execute_input": "2022-12-09T19:03:01.641388Z",
     "iopub.status.busy": "2022-12-09T19:03:01.640704Z",
     "iopub.status.idle": "2022-12-09T19:03:01.690345Z",
     "shell.execute_reply": "2022-12-09T19:03:01.689332Z"
    },
    "papermill": {
     "duration": 0.055917,
     "end_time": "2022-12-09T19:03:01.692856",
     "exception": false,
     "start_time": "2022-12-09T19:03:01.636939",
     "status": "completed"
    },
    "tags": []
   },
   "outputs": [
    {
     "data": {
      "text/html": [
       "<div>\n",
       "<style scoped>\n",
       "    .dataframe tbody tr th:only-of-type {\n",
       "        vertical-align: middle;\n",
       "    }\n",
       "\n",
       "    .dataframe tbody tr th {\n",
       "        vertical-align: top;\n",
       "    }\n",
       "\n",
       "    .dataframe thead th {\n",
       "        text-align: right;\n",
       "    }\n",
       "</style>\n",
       "<table border=\"1\" class=\"dataframe\">\n",
       "  <thead>\n",
       "    <tr style=\"text-align: right;\">\n",
       "      <th></th>\n",
       "      <th>Ticket Type</th>\n",
       "      <th>Month</th>\n",
       "      <th>Count</th>\n",
       "    </tr>\n",
       "  </thead>\n",
       "  <tbody>\n",
       "    <tr>\n",
       "      <th>0</th>\n",
       "      <td>Billing</td>\n",
       "      <td>1/19/2022</td>\n",
       "      <td>5637</td>\n",
       "    </tr>\n",
       "    <tr>\n",
       "      <th>1</th>\n",
       "      <td>Software/App</td>\n",
       "      <td>1/19/2022</td>\n",
       "      <td>2453</td>\n",
       "    </tr>\n",
       "    <tr>\n",
       "      <th>2</th>\n",
       "      <td>Account</td>\n",
       "      <td>1/19/2022</td>\n",
       "      <td>567</td>\n",
       "    </tr>\n",
       "    <tr>\n",
       "      <th>3</th>\n",
       "      <td>Performance</td>\n",
       "      <td>1/19/2022</td>\n",
       "      <td>4563</td>\n",
       "    </tr>\n",
       "    <tr>\n",
       "      <th>4</th>\n",
       "      <td>Risk</td>\n",
       "      <td>1/19/2022</td>\n",
       "      <td>1342</td>\n",
       "    </tr>\n",
       "    <tr>\n",
       "      <th>5</th>\n",
       "      <td>Other</td>\n",
       "      <td>1/19/2022</td>\n",
       "      <td>654</td>\n",
       "    </tr>\n",
       "    <tr>\n",
       "      <th>6</th>\n",
       "      <td>Billing</td>\n",
       "      <td>2/19/2022</td>\n",
       "      <td>6735</td>\n",
       "    </tr>\n",
       "    <tr>\n",
       "      <th>7</th>\n",
       "      <td>Software/App</td>\n",
       "      <td>2/19/2022</td>\n",
       "      <td>4837</td>\n",
       "    </tr>\n",
       "    <tr>\n",
       "      <th>8</th>\n",
       "      <td>Account</td>\n",
       "      <td>2/19/2022</td>\n",
       "      <td>311</td>\n",
       "    </tr>\n",
       "    <tr>\n",
       "      <th>9</th>\n",
       "      <td>Performance</td>\n",
       "      <td>2/19/2022</td>\n",
       "      <td>4362</td>\n",
       "    </tr>\n",
       "    <tr>\n",
       "      <th>10</th>\n",
       "      <td>Risk</td>\n",
       "      <td>2/19/2022</td>\n",
       "      <td>897</td>\n",
       "    </tr>\n",
       "    <tr>\n",
       "      <th>11</th>\n",
       "      <td>Other</td>\n",
       "      <td>2/19/2022</td>\n",
       "      <td>756</td>\n",
       "    </tr>\n",
       "    <tr>\n",
       "      <th>12</th>\n",
       "      <td>Billing</td>\n",
       "      <td>3/19/2022</td>\n",
       "      <td>5647</td>\n",
       "    </tr>\n",
       "    <tr>\n",
       "      <th>13</th>\n",
       "      <td>Software/App</td>\n",
       "      <td>3/19/2022</td>\n",
       "      <td>8647</td>\n",
       "    </tr>\n",
       "    <tr>\n",
       "      <th>14</th>\n",
       "      <td>Account</td>\n",
       "      <td>3/19/2022</td>\n",
       "      <td>415</td>\n",
       "    </tr>\n",
       "    <tr>\n",
       "      <th>15</th>\n",
       "      <td>Performance</td>\n",
       "      <td>3/19/2022</td>\n",
       "      <td>6235</td>\n",
       "    </tr>\n",
       "    <tr>\n",
       "      <th>16</th>\n",
       "      <td>Risk</td>\n",
       "      <td>3/19/2022</td>\n",
       "      <td>1854</td>\n",
       "    </tr>\n",
       "    <tr>\n",
       "      <th>17</th>\n",
       "      <td>Other</td>\n",
       "      <td>3/19/2022</td>\n",
       "      <td>892</td>\n",
       "    </tr>\n",
       "  </tbody>\n",
       "</table>\n",
       "</div>"
      ],
      "text/plain": [
       "     Ticket Type      Month  Count\n",
       "0        Billing  1/19/2022   5637\n",
       "1   Software/App  1/19/2022   2453\n",
       "2        Account  1/19/2022    567\n",
       "3    Performance  1/19/2022   4563\n",
       "4           Risk  1/19/2022   1342\n",
       "5          Other  1/19/2022    654\n",
       "6        Billing  2/19/2022   6735\n",
       "7   Software/App  2/19/2022   4837\n",
       "8        Account  2/19/2022    311\n",
       "9    Performance  2/19/2022   4362\n",
       "10          Risk  2/19/2022    897\n",
       "11         Other  2/19/2022    756\n",
       "12       Billing  3/19/2022   5647\n",
       "13  Software/App  3/19/2022   8647\n",
       "14       Account  3/19/2022    415\n",
       "15   Performance  3/19/2022   6235\n",
       "16          Risk  3/19/2022   1854\n",
       "17         Other  3/19/2022    892"
      ]
     },
     "execution_count": 2,
     "metadata": {},
     "output_type": "execute_result"
    }
   ],
   "source": [
    "df = pd.read_csv('/kaggle/input/customer-support-tickets/customer_support_tickets.csv')\n",
    "df"
   ]
  },
  {
   "cell_type": "markdown",
   "id": "f388e855",
   "metadata": {
    "papermill": {
     "duration": 0.002541,
     "end_time": "2022-12-09T19:03:01.698385",
     "exception": false,
     "start_time": "2022-12-09T19:03:01.695844",
     "status": "completed"
    },
    "tags": []
   },
   "source": [
    "*In a single visualization, illustrate the data below in the most impactful way, that allows the VP of Customer Service to easily digest the monthly breakdown of ticket types by volume, as well as total monthly ticket volume. As a follow-up, predict the primary area of concern the VP of Customer Support might identify for further analysis upon viewing the visualization.*\n",
    "\n",
    "Ideally, this visualization would be derived from a single Looker view with Month and Ticket Type as dimensions and Count as a measure. And then two different visualizations such as below would be placed on one dashboard for the end user."
   ]
  },
  {
   "cell_type": "code",
   "execution_count": 3,
   "id": "2db1b254",
   "metadata": {
    "execution": {
     "iopub.execute_input": "2022-12-09T19:03:01.706854Z",
     "iopub.status.busy": "2022-12-09T19:03:01.705489Z",
     "iopub.status.idle": "2022-12-09T19:03:01.978445Z",
     "shell.execute_reply": "2022-12-09T19:03:01.977188Z"
    },
    "papermill": {
     "duration": 0.279571,
     "end_time": "2022-12-09T19:03:01.980931",
     "exception": false,
     "start_time": "2022-12-09T19:03:01.701360",
     "status": "completed"
    },
    "tags": []
   },
   "outputs": [
    {
     "data": {
      "text/plain": [
       "<AxesSubplot:xlabel='Month'>"
      ]
     },
     "execution_count": 3,
     "metadata": {},
     "output_type": "execute_result"
    },
    {
     "data": {
      "image/png": "[encoded data removed]",
      "text/plain": [
       "<Figure size 432x288 with 1 Axes>"
      ]
     },
     "metadata": {
      "needs_background": "light"
     },
     "output_type": "display_data"
    }
   ],
   "source": [
    "#Ticket volume by month\n",
    "df2 = df.groupby(df['Month']).agg({'Count': sum})\n",
    "df2.plot()"
   ]
  },
  {
   "cell_type": "code",
   "execution_count": 4,
   "id": "697b1448",
   "metadata": {
    "execution": {
     "iopub.execute_input": "2022-12-09T19:03:01.989423Z",
     "iopub.status.busy": "2022-12-09T19:03:01.989025Z",
     "iopub.status.idle": "2022-12-09T19:03:02.284411Z",
     "shell.execute_reply": "2022-12-09T19:03:02.283224Z"
    },
    "papermill": {
     "duration": 0.302513,
     "end_time": "2022-12-09T19:03:02.286826",
     "exception": false,
     "start_time": "2022-12-09T19:03:01.984313",
     "status": "completed"
    },
    "tags": []
   },
   "outputs": [
    {
     "data": {
      "text/plain": [
       "<AxesSubplot:xlabel='Month'>"
      ]
     },
     "execution_count": 4,
     "metadata": {},
     "output_type": "execute_result"
    },
    {
     "data": {
      "image/png": "[encoded data removed]",
      "text/plain": [
       "<Figure size 432x288 with 1 Axes>"
      ]
     },
     "metadata": {
      "needs_background": "light"
     },
     "output_type": "display_data"
    }
   ],
   "source": [
    "#Ticket volume by month and Ticket Type\n",
    "df.pivot('Month', 'Ticket Type', 'Count').plot()"
   ]
  },
  {
   "cell_type": "markdown",
   "id": "271a2442",
   "metadata": {
    "papermill": {
     "duration": 0.003426,
     "end_time": "2022-12-09T19:03:02.294103",
     "exception": false,
     "start_time": "2022-12-09T19:03:02.290677",
     "status": "completed"
    },
    "tags": []
   },
   "source": [
    "Primary area of concern would be with Software/App tickets spiking. I would have set up an alarm in Looker for Slack message to be sent to VP of Customer Service when ticket counts exceed certain threshold. This would allow quick resolution to and therefore increase customer happiness. Perfect!"
   ]
  }
 ],
 "metadata": {
  "kernelspec": {
   "display_name": "Python 3",
   "language": "python",
   "name": "python3"
  },
  "language_info": {
   "codemirror_mode": {
    "name": "ipython",
    "version": 3
   },
   "file_extension": ".py",
   "mimetype": "text/x-python",
   "name": "python",
   "nbconvert_exporter": "python",
   "pygments_lexer": "ipython3",
   "version": "3.7.12"
  },
  "papermill": {
   "default_parameters": {},
   "duration": 10.028097,
   "end_time": "2022-12-09T19:03:02.919225",
   "environment_variables": {},
   "exception": null,
   "input_path": "__notebook__.ipynb",
   "output_path": "__notebook__.ipynb",
   "parameters": {},
   "start_time": "2022-12-09T19:02:52.891128",
   "version": "2.3.4"
  }
 },
 "nbformat": 4,
 "nbformat_minor": 5
}
