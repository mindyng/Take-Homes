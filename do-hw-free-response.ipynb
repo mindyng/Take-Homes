{
 "cells": [
  {
   "cell_type": "code",
   "execution_count": 1,
   "id": "61b0d845",
   "metadata": {
    "_cell_guid": "b1076dfc-b9ad-4769-8c92-a6c4dae69d19",
    "_uuid": "8f2839f25d086af736a60e9eeb907d3b93b6e0e5",
    "execution": {
     "iopub.execute_input": "2022-12-09T21:09:46.070342Z",
     "iopub.status.busy": "2022-12-09T21:09:46.069927Z",
     "iopub.status.idle": "2022-12-09T21:09:46.079200Z",
     "shell.execute_reply": "2022-12-09T21:09:46.078116Z"
    },
    "papermill": {
     "duration": 0.015858,
     "end_time": "2022-12-09T21:09:46.081061",
     "exception": false,
     "start_time": "2022-12-09T21:09:46.065203",
     "status": "completed"
    },
    "tags": []
   },
   "outputs": [],
   "source": [
    "import numpy as np \n",
    "import pandas as pd "
   ]
  },
  {
   "cell_type": "markdown",
   "id": "aa10592e",
   "metadata": {
    "papermill": {
     "duration": 0.001912,
     "end_time": "2022-12-09T21:09:46.085479",
     "exception": false,
     "start_time": "2022-12-09T21:09:46.083567",
     "status": "completed"
    },
    "tags": []
   },
   "source": [
    "*Our Customer Support team is staffed 24/7 and handles all customer tickets and issues for a user base of close to 500,000 users, including questions that range from billing/payment to technical assistance with their infrastructure. Please list a few key metrics that you would suggest the following people would want to track, noting the cadence, granularity, and/or preferred format of delivery where appropriate.*\n",
    "\n",
    "Preferred format of delivery would be a Looker dashboard that had daily runs/refreshes of tables.\n",
    "\n",
    "1. Individual Customer Support Agent\n",
    "\n",
    "* Average resolution time (In 8 hour period: Total resolution time for all tickets solved/Total # tickets resolved) measured by day. Fast resolution is most if not top aspect of good customer service experience.\n",
    "\n",
    "* Occupancy Rate ((Total handling time/Total time logged in) x 100) measured by day. This helps determine whether or not work hours are being used effectively and efficiently.\n",
    "\n",
    "* Average first response time (Averaging delta of: Time of ticket submission, Time of first response after ticket is submitted) bracketed by hours. This is an indication of how well agents can handle multiple tickets at once, as well as manage fluctuating ticket volumes.\n",
    "\n",
    "* First contact resolution rate (Total # one-touch tickets / Total # tickets submitted) measured by day. This directly impacts customer experience.\n",
    "\n",
    "* Tickets handled per hour vs. tickets solved per hour. (Have total count of: tickets, unsolved tickets, solved tickets). When comparing these two metrics side-by-side, able to see how effectively an agent can handle inquiries and work efficiently. Ideally, want handled and solved to be equal.\n",
    "\n",
    "* Customer satisfaction score. Qualitative metric measured through customer satisfaction surveys. This would ideally happen every quarter after major product releases to gauge customer happiness. Satisfied customers lead to improved customer retention/reduced customer churn. \n",
    "\n",
    "2. Team Lead for Trust and Safety Support Team\n",
    "\n",
    "All of the below would be by day unless otherwise specified:\n",
    "\n",
    "* Number of flagged accounts (not license compliant)/active users\n",
    "* Number of investigations/flagged accounts\n",
    "* Number of suspended accounts/active users\n",
    "* Time for issue to be resolved\n",
    "* Open tickets (>7 days)\n",
    "* Customer Risk Score (how likely will they compromise platform integrity based on flagged behavior)\n",
    "* Number of new blogs/trainings for policy enforcement (per quarter)\n",
    "* Causes of violation (payment/bot usage of platform)\n",
    "* Fraudalent accounts contributing to Revenue\n",
    "* Fraudalent accounts contributing to Churn\n",
    "\n",
    "3. VP of Customer Support\n",
    "\n",
    "VP would be interested in high-level business metrics directly tied to customer support issues:\n",
    "\n",
    "* Ticket Category Count per month\n",
    "* Total tickets open for >30 days\n",
    "\n",
    "* MRR/ARR\n",
    "* Churn Rate per month/quarter/annually\n",
    "* LTV\n",
    "* Cohorts refreshed every 6 months"
   ]
  },
  {
   "cell_type": "markdown",
   "id": "caee7c62",
   "metadata": {
    "papermill": {
     "duration": 0.001825,
     "end_time": "2022-12-09T21:09:46.089335",
     "exception": false,
     "start_time": "2022-12-09T21:09:46.087510",
     "status": "completed"
    },
    "tags": []
   },
   "source": [
    "Assumuing all month dates are in 2022 Q1. So added year to data points."
   ]
  },
  {
   "cell_type": "code",
   "execution_count": 2,
   "id": "9b599ab6",
   "metadata": {
    "execution": {
     "iopub.execute_input": "2022-12-09T21:09:46.094925Z",
     "iopub.status.busy": "2022-12-09T21:09:46.094570Z",
     "iopub.status.idle": "2022-12-09T21:09:46.136573Z",
     "shell.execute_reply": "2022-12-09T21:09:46.135613Z"
    },
    "papermill": {
     "duration": 0.047135,
     "end_time": "2022-12-09T21:09:46.138477",
     "exception": false,
     "start_time": "2022-12-09T21:09:46.091342",
     "status": "completed"
    },
    "tags": []
   },
   "outputs": [
    {
     "data": {
      "text/html": [
       "<div>\n",
       "<style scoped>\n",
       "    .dataframe tbody tr th:only-of-type {\n",
       "        vertical-align: middle;\n",
       "    }\n",
       "\n",
       "    .dataframe tbody tr th {\n",
       "        vertical-align: top;\n",
       "    }\n",
       "\n",
       "    .dataframe thead th {\n",
       "        text-align: right;\n",
       "    }\n",
       "</style>\n",
       "<table border=\"1\" class=\"dataframe\">\n",
       "  <thead>\n",
       "    <tr style=\"text-align: right;\">\n",
       "      <th></th>\n",
       "      <th>Ticket Type</th>\n",
       "      <th>Month</th>\n",
       "      <th>Count</th>\n",
       "    </tr>\n",
       "  </thead>\n",
       "  <tbody>\n",
       "    <tr>\n",
       "      <th>0</th>\n",
       "      <td>Billing</td>\n",
       "      <td>1/19/2022</td>\n",
       "      <td>5637</td>\n",
       "    </tr>\n",
       "    <tr>\n",
       "      <th>1</th>\n",
       "      <td>Software/App</td>\n",
       "      <td>1/19/2022</td>\n",
       "      <td>2453</td>\n",
       "    </tr>\n",
       "    <tr>\n",
       "      <th>2</th>\n",
       "      <td>Account</td>\n",
       "      <td>1/19/2022</td>\n",
       "      <td>567</td>\n",
       "    </tr>\n",
       "    <tr>\n",
       "      <th>3</th>\n",
       "      <td>Performance</td>\n",
       "      <td>1/19/2022</td>\n",
       "      <td>4563</td>\n",
       "    </tr>\n",
       "    <tr>\n",
       "      <th>4</th>\n",
       "      <td>Risk</td>\n",
       "      <td>1/19/2022</td>\n",
       "      <td>1342</td>\n",
       "    </tr>\n",
       "    <tr>\n",
       "      <th>5</th>\n",
       "      <td>Other</td>\n",
       "      <td>1/19/2022</td>\n",
       "      <td>654</td>\n",
       "    </tr>\n",
       "    <tr>\n",
       "      <th>6</th>\n",
       "      <td>Billing</td>\n",
       "      <td>2/19/2022</td>\n",
       "      <td>6735</td>\n",
       "    </tr>\n",
       "    <tr>\n",
       "      <th>7</th>\n",
       "      <td>Software/App</td>\n",
       "      <td>2/19/2022</td>\n",
       "      <td>4837</td>\n",
       "    </tr>\n",
       "    <tr>\n",
       "      <th>8</th>\n",
       "      <td>Account</td>\n",
       "      <td>2/19/2022</td>\n",
       "      <td>311</td>\n",
       "    </tr>\n",
       "    <tr>\n",
       "      <th>9</th>\n",
       "      <td>Performance</td>\n",
       "      <td>2/19/2022</td>\n",
       "      <td>4362</td>\n",
       "    </tr>\n",
       "    <tr>\n",
       "      <th>10</th>\n",
       "      <td>Risk</td>\n",
       "      <td>2/19/2022</td>\n",
       "      <td>897</td>\n",
       "    </tr>\n",
       "    <tr>\n",
       "      <th>11</th>\n",
       "      <td>Other</td>\n",
       "      <td>2/19/2022</td>\n",
       "      <td>756</td>\n",
       "    </tr>\n",
       "    <tr>\n",
       "      <th>12</th>\n",
       "      <td>Billing</td>\n",
       "      <td>3/19/2022</td>\n",
       "      <td>5647</td>\n",
       "    </tr>\n",
       "    <tr>\n",
       "      <th>13</th>\n",
       "      <td>Software/App</td>\n",
       "      <td>3/19/2022</td>\n",
       "      <td>8647</td>\n",
       "    </tr>\n",
       "    <tr>\n",
       "      <th>14</th>\n",
       "      <td>Account</td>\n",
       "      <td>3/19/2022</td>\n",
       "      <td>415</td>\n",
       "    </tr>\n",
       "    <tr>\n",
       "      <th>15</th>\n",
       "      <td>Performance</td>\n",
       "      <td>3/19/2022</td>\n",
       "      <td>6235</td>\n",
       "    </tr>\n",
       "    <tr>\n",
       "      <th>16</th>\n",
       "      <td>Risk</td>\n",
       "      <td>3/19/2022</td>\n",
       "      <td>1854</td>\n",
       "    </tr>\n",
       "    <tr>\n",
       "      <th>17</th>\n",
       "      <td>Other</td>\n",
       "      <td>3/19/2022</td>\n",
       "      <td>892</td>\n",
       "    </tr>\n",
       "  </tbody>\n",
       "</table>\n",
       "</div>"
      ],
      "text/plain": [
       "     Ticket Type      Month  Count\n",
       "0        Billing  1/19/2022   5637\n",
       "1   Software/App  1/19/2022   2453\n",
       "2        Account  1/19/2022    567\n",
       "3    Performance  1/19/2022   4563\n",
       "4           Risk  1/19/2022   1342\n",
       "5          Other  1/19/2022    654\n",
       "6        Billing  2/19/2022   6735\n",
       "7   Software/App  2/19/2022   4837\n",
       "8        Account  2/19/2022    311\n",
       "9    Performance  2/19/2022   4362\n",
       "10          Risk  2/19/2022    897\n",
       "11         Other  2/19/2022    756\n",
       "12       Billing  3/19/2022   5647\n",
       "13  Software/App  3/19/2022   8647\n",
       "14       Account  3/19/2022    415\n",
       "15   Performance  3/19/2022   6235\n",
       "16          Risk  3/19/2022   1854\n",
       "17         Other  3/19/2022    892"
      ]
     },
     "execution_count": 2,
     "metadata": {},
     "output_type": "execute_result"
    }
   ],
   "source": [
    "df = pd.read_csv('/kaggle/input/customer-support-tickets/customer_support_tickets.csv')\n",
    "df"
   ]
  },
  {
   "cell_type": "markdown",
   "id": "e45833e9",
   "metadata": {
    "papermill": {
     "duration": 0.002212,
     "end_time": "2022-12-09T21:09:46.143334",
     "exception": false,
     "start_time": "2022-12-09T21:09:46.141122",
     "status": "completed"
    },
    "tags": []
   },
   "source": [
    "*In a single visualization, illustrate the data below in the most impactful way, that allows the VP of Customer Service to easily digest the monthly breakdown of ticket types by volume, as well as total monthly ticket volume. As a follow-up, predict the primary area of concern the VP of Customer Support might identify for further analysis upon viewing the visualization.*\n",
    "\n",
    "Ideally, this visualization would be derived from a single Looker view with Month and Ticket Type as dimensions and Count as a measure. And then two different visualizations such as below would be placed on one dashboard for the end user."
   ]
  },
  {
   "cell_type": "code",
   "execution_count": 3,
   "id": "8257fe9d",
   "metadata": {
    "execution": {
     "iopub.execute_input": "2022-12-09T21:09:46.149700Z",
     "iopub.status.busy": "2022-12-09T21:09:46.149329Z",
     "iopub.status.idle": "2022-12-09T21:09:46.364340Z",
     "shell.execute_reply": "2022-12-09T21:09:46.363510Z"
    },
    "papermill": {
     "duration": 0.220383,
     "end_time": "2022-12-09T21:09:46.366140",
     "exception": false,
     "start_time": "2022-12-09T21:09:46.145757",
     "status": "completed"
    },
    "tags": []
   },
   "outputs": [
    {
     "data": {
      "text/plain": [
       "<AxesSubplot:title={'center':'Total Monthly Ticket Volume'}, xlabel='Month'>"
      ]
     },
     "execution_count": 3,
     "metadata": {},
     "output_type": "execute_result"
    },
    {
     "data": {
      "image/png": "[encoded data removed]",
      "text/plain": [
       "<Figure size 432x288 with 1 Axes>"
      ]
     },
     "metadata": {
      "needs_background": "light"
     },
     "output_type": "display_data"
    }
   ],
   "source": [
    "#Ticket volume by month\n",
    "df2 = df.groupby(df['Month']).agg({'Count': sum})\n",
    "df2.plot(title = 'Total Monthly Ticket Volume')"
   ]
  },
  {
   "cell_type": "code",
   "execution_count": 4,
   "id": "92855c46",
   "metadata": {
    "execution": {
     "iopub.execute_input": "2022-12-09T21:09:46.373134Z",
     "iopub.status.busy": "2022-12-09T21:09:46.372359Z",
     "iopub.status.idle": "2022-12-09T21:09:46.578124Z",
     "shell.execute_reply": "2022-12-09T21:09:46.577145Z"
    },
    "papermill": {
     "duration": 0.210963,
     "end_time": "2022-12-09T21:09:46.579901",
     "exception": false,
     "start_time": "2022-12-09T21:09:46.368938",
     "status": "completed"
    },
    "tags": []
   },
   "outputs": [
    {
     "data": {
      "text/plain": [
       "<AxesSubplot:title={'center':'Total Monthly Ticket Volume by Ticket Type'}, xlabel='Month'>"
      ]
     },
     "execution_count": 4,
     "metadata": {},
     "output_type": "execute_result"
    },
    {
     "data": {
      "image/png": "[encoded data removed]",
      "text/plain": [
       "<Figure size 432x288 with 1 Axes>"
      ]
     },
     "metadata": {
      "needs_background": "light"
     },
     "output_type": "display_data"
    }
   ],
   "source": [
    "#Ticket volume by month and Ticket Type\n",
    "df.pivot('Month', 'Ticket Type', 'Count').plot(title = 'Total Monthly Ticket Volume by Ticket Type')"
   ]
  },
  {
   "cell_type": "markdown",
   "id": "f56bbbd1",
   "metadata": {
    "papermill": {
     "duration": 0.00304,
     "end_time": "2022-12-09T21:09:46.586560",
     "exception": false,
     "start_time": "2022-12-09T21:09:46.583520",
     "status": "completed"
    },
    "tags": []
   },
   "source": [
    "I would predict that the primary area of concern the VP of Customer Support might identify for further analysis upon viewing the visualizations would be with Software/App tickets spiking. I would have set up an alarm in Looker for Slack message to be sent to VP when ticket counts exceed certain threshold. This would allow quick resolution of concern and therefore increase customer happiness. Perfect!"
   ]
  }
 ],
 "metadata": {
  "kernelspec": {
   "display_name": "Python 3",
   "language": "python",
   "name": "python3"
  },
  "language_info": {
   "codemirror_mode": {
    "name": "ipython",
    "version": 3
   },
   "file_extension": ".py",
   "mimetype": "text/x-python",
   "name": "python",
   "nbconvert_exporter": "python",
   "pygments_lexer": "ipython3",
   "version": "3.7.12"
  },
  "papermill": {
   "default_parameters": {},
   "duration": 8.057134,
   "end_time": "2022-12-09T21:09:47.110229",
   "environment_variables": {},
   "exception": null,
   "input_path": "__notebook__.ipynb",
   "output_path": "__notebook__.ipynb",
   "parameters": {},
   "start_time": "2022-12-09T21:09:39.053095",
   "version": "2.3.4"
  }
 },
 "nbformat": 4,
 "nbformat_minor": 5
}
